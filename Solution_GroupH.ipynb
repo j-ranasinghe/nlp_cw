{
 "cells": [
  {
   "cell_type": "markdown",
   "metadata": {},
   "source": [
    "### CM4603 – Coursework 1 (Group)\n",
    "#### November 2023\n",
    "\n",
    "### Group: <insert your group number (1 - 9)>\n",
    "\n",
    "Name 1: < insert your name > | \n",
    "IIT ID: < insert your IIT ID > | \n",
    "RGU ID: < insert your RGU ID >\n",
    "\n",
    "Name 2: < insert your name > | \n",
    "IIT ID: < insert your IIT ID > | \n",
    "RGU ID: < insert your RGU ID >\n",
    "\n",
    "Name 3: < insert your name > | \n",
    "IIT ID: < insert your IIT ID > | \n",
    "RGU ID: < insert your RGU ID >"
   ]
  },
  {
   "cell_type": "markdown",
   "metadata": {},
   "source": [
    "### Answer to Task 1\n",
    "\n",
    "    Describe the dataset, any insights you gained about the data and the effectiveness of the different (subword) tokenization schemes tried out."
   ]
  },
  {
   "cell_type": "code",
   "execution_count": 3,
   "metadata": {},
   "outputs": [],
   "source": [
    "# Insert code for Task 1"
   ]
  },
  {
   "cell_type": "markdown",
   "metadata": {},
   "source": [
    "Explain the challenges encountered and the observations based on the output above"
   ]
  },
  {
   "cell_type": "markdown",
   "metadata": {},
   "source": [
    "### Answer to Task 2\n",
    "\n",
    "Describe the classification dataset, its dimensions, preprocessing steps, numbers of classes taken for classification, the which feature extraction techniques were performed."
   ]
  },
  {
   "cell_type": "code",
   "execution_count": 4,
   "metadata": {},
   "outputs": [],
   "source": [
    "# Insert code for Task 2"
   ]
  },
  {
   "cell_type": "markdown",
   "metadata": {},
   "source": [
    "Describe the final dataset shapes of the featuresets extracted."
   ]
  },
  {
   "cell_type": "markdown",
   "metadata": {},
   "source": [
    "### Answer to Task 3\n",
    "\n",
    "Justify the 3 non-deep learning algorithms you are using for classification."
   ]
  },
  {
   "cell_type": "code",
   "execution_count": 5,
   "metadata": {},
   "outputs": [],
   "source": [
    "# Insert code for Task 3"
   ]
  },
  {
   "cell_type": "markdown",
   "metadata": {},
   "source": [
    "Compare and interpret the results of the different algorithms and feature extraction methods on the text classification task."
   ]
  },
  {
   "cell_type": "markdown",
   "metadata": {},
   "source": [
    "### Answer to Task 4\n",
    "\n",
    "Describe the contextual embedding used and it's effect on the performance of the algorithms selected in Task 3."
   ]
  },
  {
   "cell_type": "code",
   "execution_count": 6,
   "metadata": {},
   "outputs": [],
   "source": [
    "# Insert code for Task 4"
   ]
  },
  {
   "cell_type": "markdown",
   "metadata": {},
   "source": [
    "Compare the deep learning algorithm results with that of the 3 non-deep learning algorithms and interpret the overal results"
   ]
  },
  {
   "cell_type": "code",
   "execution_count": null,
   "metadata": {},
   "outputs": [],
   "source": []
  }
 ],
 "metadata": {
  "kernelspec": {
   "display_name": "Python 3 (ipykernel)",
   "language": "python",
   "name": "python3"
  },
  "language_info": {
   "codemirror_mode": {
    "name": "ipython",
    "version": 3
   },
   "file_extension": ".py",
   "mimetype": "text/x-python",
   "name": "python",
   "nbconvert_exporter": "python",
   "pygments_lexer": "ipython3",
   "version": "3.11.4"
  }
 },
 "nbformat": 4,
 "nbformat_minor": 2
}
