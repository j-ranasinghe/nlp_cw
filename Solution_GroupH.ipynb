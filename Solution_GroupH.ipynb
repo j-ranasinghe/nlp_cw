{
  "cells": [
    {
      "cell_type": "markdown",
      "metadata": {
        "id": "view-in-github",
        "colab_type": "text"
      },
      "source": [
        "<a href=\"https://colab.research.google.com/github/j-ranasinghe/nlp_cw/blob/anuttara/Solution_GroupH.ipynb\" target=\"_parent\"><img src=\"https://colab.research.google.com/assets/colab-badge.svg\" alt=\"Open In Colab\"/></a>"
      ]
    },
    {
      "cell_type": "markdown",
      "metadata": {
        "id": "3Mfuk5y7Cnv7"
      },
      "source": [
        "## CM4603 – Coursework 1 (Group)\n",
        "#### November 2023\n",
        "\n",
        "### Group: H\n",
        "\n",
        "Name 1: Anuttara Rajasinghe |\n",
        "IIT ID: 20210216 |\n",
        "RGU ID: 2117946\n",
        "\n",
        "Name 2: < insert your name > |\n",
        "IIT ID: < insert your IIT ID > |\n",
        "RGU ID: < insert your RGU ID >\n",
        "\n",
        "Name 3: Vishmi Herath |\n",
        "IIT ID: 20210503 |\n",
        "RGU ID: 2117528"
      ]
    },
    {
      "cell_type": "markdown",
      "metadata": {
        "id": "nkY0qJJICnv9"
      },
      "source": [
        "### Answer to Task 1\n",
        "\n",
        "    Describe the dataset, any insights you gained about the data and the effectiveness of the different (subword) tokenization schemes tried out."
      ]
    },
    {
      "cell_type": "code",
      "execution_count": 18,
      "metadata": {
        "id": "aDv8a_eyCnv-",
        "outputId": "83b8576b-0511-42f0-cee5-d6024dcf48fc",
        "colab": {
          "base_uri": "https://localhost:8080/"
        }
      },
      "outputs": [
        {
          "output_type": "stream",
          "name": "stdout",
          "text": [
            "Drive already mounted at /content/drive; to attempt to forcibly remount, call drive.mount(\"/content/drive\", force_remount=True).\n"
          ]
        }
      ],
      "source": [
        "from google.colab import drive\n",
        "drive.mount('/content/drive')"
      ]
    },
    {
      "cell_type": "code",
      "source": [
        "import json\n",
        "\n",
        "# Replace 'path_to_your_file' with the actual path in your Google Drive\n",
        "file_path = '/content/drive/MyDrive/NLP CW/full-combined-dataset.json'\n",
        "\n",
        "# Load the JSON data\n",
        "with open(file_path, 'r', encoding='utf-8') as file:\n",
        "    data = json.load(file)\n"
      ],
      "metadata": {
        "id": "k2tDpC5jIq7K"
      },
      "execution_count": 19,
      "outputs": []
    },
    {
      "cell_type": "code",
      "source": [
        "# Extract only the specified columns\n",
        "filtered_data = []\n",
        "for entry in data:\n",
        "    filtered_entry = {\n",
        "        \"title\": entry.get(\"title\"),\n",
        "        \"lang\": entry.get(\"lang\"),\n",
        "        \"rating\": entry.get(\"rating\"),\n",
        "        \"helpfulVotes\": entry.get(\"helpfulVotes\"),\n",
        "        \"text\": entry.get(\"text\"),\n",
        "        \"PlaceName\": entry.get(\"placeInfo\", {}).get(\"name\"),\n",
        "        \"PlaceRating\": entry.get(\"placeInfo\", {}).get(\"rating\")\n",
        "    }\n",
        "    filtered_data.append(filtered_entry)\n"
      ],
      "metadata": {
        "id": "I_yf39qSJNPG"
      },
      "execution_count": 20,
      "outputs": []
    },
    {
      "cell_type": "code",
      "source": [
        "filtered_data[:2]"
      ],
      "metadata": {
        "id": "qkNvsOpTJa1p",
        "outputId": "09b99d46-9b09-47ed-ae8e-b7659fd1c829",
        "colab": {
          "base_uri": "https://localhost:8080/"
        }
      },
      "execution_count": 23,
      "outputs": [
        {
          "output_type": "execute_result",
          "data": {
            "text/plain": [
              "[{'title': 'Terrible experience. Waste of time, money and nerves. Stay away.',\n",
              "  'lang': 'en',\n",
              "  'rating': 1,\n",
              "  'helpfulVotes': 1,\n",
              "  'text': 'Well, no.   Big no. \\nFirst of all, before booking, please go through all these comments. Look at the pictures. Not posted by the property but from guest. The place have a great potential but as of today it is just a scam. Place is undeveloped, rooms are nasty. Food terrible. All three above aspects can be fixed easily and reading that this \"in a jungle\" makes no sense. We travel to Sri Lanka often, staying in boutique hotels but also in a real jungle. All places can be clean and nice disputing the fact of not easy environment around. Same w/ food. Staying \"in a jungle\" explain nasty food served? Having so many option for low-key or upscale Sri Lanka\\' culinary possibilities? \\n\\nSo we did claim many times issues on site. Zero interest. Management\\'s reaction: it is what it is, deal with it. \\nImmediate decision to leave. After one night in dirty room and without even touching a breakfast. \\n\\nNow it gets more interesting.. When I wanted to set a review on booking.com it turned that ... we have not stayed there. Ella Jungle Resort just canceled our stay, after the payment was taken. Now I understand the GM laugh on the phone and the answer \"good luck with the reviews, hahahah\". \\n\\nThis is so fUp that such terribly managed places w/ the attitude as they have presented, in such beautiful country are making trips for tourists so unpleasant. I love Sri Lanka. We\\'ll be back regardless. But I hope bs spots will despair from the accommodation map sooner than later.\\n\\nRandom pictures and management actions (then and now) should say more than this entire review.',\n",
              "  'PlaceName': 'Ella Jungle Resort',\n",
              "  'PlaceRating': 4},\n",
              " {'title': 'Ella Jungle resort you should never miss!',\n",
              "  'lang': 'en',\n",
              "  'rating': 5,\n",
              "  'helpfulVotes': 1,\n",
              "  'text': 'It is one of the most amazing stay we ever had in Sri Lanka. Exciting surrounding! Starting from the entering it was amazing. We were also guided for a hike. Love the concept! Vegetarian food menu was good. Villa was also well cleaned and beautiful, it was next to the river. Visit the place if you want to experience the surrounding!',\n",
              "  'PlaceName': 'Ella Jungle Resort',\n",
              "  'PlaceRating': 4}]"
            ]
          },
          "metadata": {},
          "execution_count": 23
        }
      ]
    },
    {
      "cell_type": "code",
      "source": [
        "print(len(filtered_data))"
      ],
      "metadata": {
        "id": "eVO5-r98LCad",
        "outputId": "1f9c13f3-580e-474c-fd32-4102db0e6f80",
        "colab": {
          "base_uri": "https://localhost:8080/"
        }
      },
      "execution_count": 24,
      "outputs": [
        {
          "output_type": "stream",
          "name": "stdout",
          "text": [
            "10127\n"
          ]
        }
      ]
    },
    {
      "cell_type": "code",
      "source": [
        "#This is done to identify the non english characters in the dataset\n",
        "def clean_non_english_entries(data):\n",
        "    en_entries = [entry for entry in data if entry.get(\"lang\") == \"en\"]\n",
        "    non_en_entries = [entry for entry in data if entry.get(\"lang\") != \"en\"]\n",
        "\n",
        "    return en_entries, non_en_entries\n",
        "\n",
        "cleaned_data, deleted_data = clean_non_english_entries(filtered_data)\n",
        "\n",
        "print(f\"Number of English entries: {len(cleaned_data)}\")\n",
        "print(f\"Number of non-English entries removed from the dataset: {len(deleted_data)}\")"
      ],
      "metadata": {
        "id": "IraQ0wgFJTn1",
        "colab": {
          "base_uri": "https://localhost:8080/"
        },
        "outputId": "1cb4371e-cb4f-49db-b2ac-7f1df785cbd0"
      },
      "execution_count": 25,
      "outputs": [
        {
          "output_type": "stream",
          "name": "stdout",
          "text": [
            "Number of English entries: 8966\n",
            "Number of non-English entries removed from the dataset: 1161\n"
          ]
        }
      ]
    },
    {
      "cell_type": "code",
      "source": [
        "#We can see that the removed data is not english\n",
        "deleted_data[:2]"
      ],
      "metadata": {
        "colab": {
          "base_uri": "https://localhost:8080/"
        },
        "id": "60592lM-jkhL",
        "outputId": "28a27cb5-428d-430e-be6a-85efbf141fe9"
      },
      "execution_count": 28,
      "outputs": [
        {
          "output_type": "execute_result",
          "data": {
            "text/plain": [
              "[{'title': 'horrible',\n",
              "  'lang': 'fr',\n",
              "  'rating': 1,\n",
              "  'helpfulVotes': 0,\n",
              "  'text': \"Établissement non entretenu et géré par des voleurs. escroquerie sur la facture qui après vérification a été modifiée car le personnel a tenté de nous faire payer les entrées et sorties de l'hôtel ainsi que des plats non commandés. Mais la note a été subtilisée au moment du paiement et comme la monnaie de paiement utilisée était les roupies je n'ai pas vu et ne me doutais pas qu'ils oseraient mettre un montant supérieur. L'hôtel ne veut rien entendre. Plusieurs démarches ont été entreprises depuis. Attention soyez très vigilants.\",\n",
              "  'PlaceName': 'Ella Jungle Resort',\n",
              "  'PlaceRating': 4},\n",
              " {'title': 'Arnaques sur la facture et les services facturés.',\n",
              "  'lang': 'fr',\n",
              "  'rating': 1,\n",
              "  'helpfulVotes': 1,\n",
              "  'text': 'Attention personnel malhonnête. séjour hallucinant. Le «\\xa0manager\\xa0» veut faire payer les entrées et sorties de l’hôtel (accès par 4x4 et télésiège) et fait gonfler les factures au moment de payer. même si vous vérifiez la note et que vous la faites corriger, au moment du paiement il subtilise la facture contre une autre. faites bien attention au montant qu’ils veulent faire payer si vous avez le courage d’aller dans cet hôtel.\\nPas de wifi, nourriture pas bonne. Un très mauvais séjour avec un vol de 37€ sur l’addition finale.',\n",
              "  'PlaceName': 'Ella Jungle Resort',\n",
              "  'PlaceRating': 4}]"
            ]
          },
          "metadata": {},
          "execution_count": 28
        }
      ]
    },
    {
      "cell_type": "markdown",
      "metadata": {
        "id": "GEWygPM0CnwA"
      },
      "source": [
        "Explain the challenges encountered and the observations based on the output above"
      ]
    },
    {
      "cell_type": "markdown",
      "metadata": {
        "id": "Ou5mYAKRCnwA"
      },
      "source": [
        "### Answer to Task 2\n",
        "\n",
        "Describe the classification dataset, its dimensions, preprocessing steps, numbers of classes taken for classification, the which feature extraction techniques were performed."
      ]
    },
    {
      "cell_type": "code",
      "execution_count": null,
      "metadata": {
        "id": "wEZva7HjCnwB"
      },
      "outputs": [],
      "source": [
        "# Insert code for Task 2"
      ]
    },
    {
      "cell_type": "markdown",
      "metadata": {
        "id": "3LqFddATCnwC"
      },
      "source": [
        "Describe the final dataset shapes of the featuresets extracted."
      ]
    },
    {
      "cell_type": "markdown",
      "metadata": {
        "id": "-8I4gVATCnwC"
      },
      "source": [
        "### Answer to Task 3\n",
        "\n",
        "Justify the 3 non-deep learning algorithms you are using for classification."
      ]
    },
    {
      "cell_type": "code",
      "execution_count": null,
      "metadata": {
        "id": "g2Iq7wmqCnwD"
      },
      "outputs": [],
      "source": [
        "# Insert code for Task 3"
      ]
    },
    {
      "cell_type": "markdown",
      "metadata": {
        "id": "HNnKnZNqCnwE"
      },
      "source": [
        "Compare and interpret the results of the different algorithms and feature extraction methods on the text classification task."
      ]
    },
    {
      "cell_type": "markdown",
      "metadata": {
        "id": "vr4CAcOKCnwE"
      },
      "source": [
        "### Answer to Task 4\n",
        "\n",
        "Describe the contextual embedding used and it's effect on the performance of the algorithms selected in Task 3."
      ]
    },
    {
      "cell_type": "code",
      "execution_count": null,
      "metadata": {
        "id": "P6ul4Y7LCnwF"
      },
      "outputs": [],
      "source": [
        "# Insert code for Task 4"
      ]
    },
    {
      "cell_type": "markdown",
      "metadata": {
        "id": "brBEbX24CnwG"
      },
      "source": [
        "Compare the deep learning algorithm results with that of the 3 non-deep learning algorithms and interpret the overal results"
      ]
    },
    {
      "cell_type": "code",
      "execution_count": null,
      "metadata": {
        "id": "giATyshBCnwG"
      },
      "outputs": [],
      "source": []
    }
  ],
  "metadata": {
    "kernelspec": {
      "display_name": "Python 3 (ipykernel)",
      "language": "python",
      "name": "python3"
    },
    "language_info": {
      "codemirror_mode": {
        "name": "ipython",
        "version": 3
      },
      "file_extension": ".py",
      "mimetype": "text/x-python",
      "name": "python",
      "nbconvert_exporter": "python",
      "pygments_lexer": "ipython3",
      "version": "3.11.4"
    },
    "colab": {
      "provenance": [],
      "include_colab_link": true
    }
  },
  "nbformat": 4,
  "nbformat_minor": 0
}