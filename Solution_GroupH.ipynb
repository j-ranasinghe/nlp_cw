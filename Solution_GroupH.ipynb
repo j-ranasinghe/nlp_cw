{
  "cells": [
    {
      "cell_type": "markdown",
      "metadata": {
        "id": "view-in-github",
        "colab_type": "text"
      },
      "source": [
        "<a href=\"https://colab.research.google.com/github/j-ranasinghe/nlp_cw/blob/vishmi/Solution_GroupH.ipynb\" target=\"_parent\"><img src=\"https://colab.research.google.com/assets/colab-badge.svg\" alt=\"Open In Colab\"/></a>"
      ]
    },
    {
      "cell_type": "markdown",
      "metadata": {
        "id": "3Mfuk5y7Cnv7"
      },
      "source": [
        "## CM4603 – Coursework 1 (Group)\n",
        "#### November 2023\n",
        "\n",
        "### Group: H\n",
        "\n",
        "Name 1: Anuttara Rajasinghe |\n",
        "IIT ID: 20210216 |\n",
        "RGU ID: 2117946\n",
        "\n",
        "Name 2: < insert your name > |\n",
        "IIT ID: < insert your IIT ID > |\n",
        "RGU ID: < insert your RGU ID >\n",
        "\n",
        "Name 3: Vishmi Herath |\n",
        "IIT ID: 20210503 |\n",
        "RGU ID: 2117528"
      ]
    },
    {
      "cell_type": "markdown",
      "metadata": {
        "id": "nkY0qJJICnv9"
      },
      "source": [
        "### Answer to Task 1\n",
        "\n",
        "    Describe the dataset, any insights you gained about the data and the effectiveness of the different (subword) tokenization schemes tried out."
      ]
    },
    {
      "cell_type": "code",
      "execution_count": null,
      "metadata": {
        "id": "aDv8a_eyCnv-"
      },
      "outputs": [],
      "source": [
        "# Insert code for Task 1"
      ]
    },
    {
      "cell_type": "markdown",
      "metadata": {
        "id": "GEWygPM0CnwA"
      },
      "source": [
        "Explain the challenges encountered and the observations based on the output above"
      ]
    },
    {
      "cell_type": "markdown",
      "metadata": {
        "id": "Ou5mYAKRCnwA"
      },
      "source": [
        "### Answer to Task 2\n",
        "\n",
        "Describe the classification dataset, its dimensions, preprocessing steps, numbers of classes taken for classification, the which feature extraction techniques were performed."
      ]
    },
    {
      "cell_type": "code",
      "execution_count": null,
      "metadata": {
        "id": "wEZva7HjCnwB"
      },
      "outputs": [],
      "source": [
        "# Insert code for Task 2"
      ]
    },
    {
      "cell_type": "markdown",
      "metadata": {
        "id": "3LqFddATCnwC"
      },
      "source": [
        "Describe the final dataset shapes of the featuresets extracted."
      ]
    },
    {
      "cell_type": "markdown",
      "metadata": {
        "id": "-8I4gVATCnwC"
      },
      "source": [
        "### Answer to Task 3\n",
        "\n",
        "Justify the 3 non-deep learning algorithms you are using for classification."
      ]
    },
    {
      "cell_type": "code",
      "execution_count": null,
      "metadata": {
        "id": "g2Iq7wmqCnwD"
      },
      "outputs": [],
      "source": [
        "# Insert code for Task 3"
      ]
    },
    {
      "cell_type": "markdown",
      "metadata": {
        "id": "HNnKnZNqCnwE"
      },
      "source": [
        "Compare and interpret the results of the different algorithms and feature extraction methods on the text classification task."
      ]
    },
    {
      "cell_type": "markdown",
      "metadata": {
        "id": "vr4CAcOKCnwE"
      },
      "source": [
        "### Answer to Task 4\n",
        "\n",
        "Describe the contextual embedding used and it's effect on the performance of the algorithms selected in Task 3."
      ]
    },
    {
      "cell_type": "code",
      "execution_count": null,
      "metadata": {
        "id": "P6ul4Y7LCnwF"
      },
      "outputs": [],
      "source": [
        "# Insert code for Task 4"
      ]
    },
    {
      "cell_type": "markdown",
      "metadata": {
        "id": "brBEbX24CnwG"
      },
      "source": [
        "Compare the deep learning algorithm results with that of the 3 non-deep learning algorithms and interpret the overal results"
      ]
    },
    {
      "cell_type": "code",
      "execution_count": null,
      "metadata": {
        "id": "giATyshBCnwG"
      },
      "outputs": [],
      "source": []
    }
  ],
  "metadata": {
    "kernelspec": {
      "display_name": "Python 3 (ipykernel)",
      "language": "python",
      "name": "python3"
    },
    "language_info": {
      "codemirror_mode": {
        "name": "ipython",
        "version": 3
      },
      "file_extension": ".py",
      "mimetype": "text/x-python",
      "name": "python",
      "nbconvert_exporter": "python",
      "pygments_lexer": "ipython3",
      "version": "3.11.4"
    },
    "colab": {
      "provenance": [],
      "include_colab_link": true
    }
  },
  "nbformat": 4,
  "nbformat_minor": 0
}