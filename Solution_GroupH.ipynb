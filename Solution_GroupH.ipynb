{
  "cells": [
    {
      "cell_type": "markdown",
      "metadata": {
        "id": "view-in-github",
        "colab_type": "text"
      },
      "source": [
        "<a href=\"https://colab.research.google.com/github/j-ranasinghe/nlp_cw/blob/main/Solution_GroupH.ipynb\" target=\"_parent\"><img src=\"https://colab.research.google.com/assets/colab-badge.svg\" alt=\"Open In Colab\"/></a>"
      ]
    },
    {
      "cell_type": "code",
      "execution_count": 5,
      "metadata": {
        "id": "UuerQqsrhmKU"
      },
      "outputs": [],
      "source": [
        "# Importing the necessary libraries\n",
        "import json\n",
        "import nltk\n",
        "import re\n",
        "import spacy\n",
        "import string\n",
        "import pandas as pd\n",
        "import matplotlib.pyplot as plt\n",
        "import seaborn as sns\n",
        "from wordcloud import WordCloud\n",
        "from collections import Counter\n",
        "from google.colab import drive\n",
        "from nltk.corpus import stopwords\n",
        "from nltk.tokenize import word_tokenize\n",
        "from transformers import BertTokenizer, GPT2Tokenizer, AutoTokenizer\n",
        "from nltk.sentiment import SentimentIntensityAnalyzer\n",
        "from sklearn.feature_extraction.text import TfidfVectorizer\n",
        "from sklearn.linear_model import LogisticRegression\n",
        "from sklearn.model_selection import train_test_split\n",
        "from transformers import pipeline"
      ]
    },
    {
      "cell_type": "code",
      "execution_count": 6,
      "metadata": {
        "colab": {
          "base_uri": "https://localhost:8080/"
        },
        "id": "6wDwvl-K5q_v",
        "outputId": "6bdd9c35-f368-40c1-97e6-512673496dda"
      },
      "outputs": [
        {
          "output_type": "stream",
          "name": "stderr",
          "text": [
            "[nltk_data] Downloading package punkt to /root/nltk_data...\n",
            "[nltk_data]   Unzipping tokenizers/punkt.zip.\n",
            "[nltk_data] Downloading package stopwords to /root/nltk_data...\n",
            "[nltk_data]   Unzipping corpora/stopwords.zip.\n",
            "[nltk_data] Downloading package wordnet to /root/nltk_data...\n",
            "[nltk_data] Downloading package punkt_tab to /root/nltk_data...\n",
            "[nltk_data]   Unzipping tokenizers/punkt_tab.zip.\n",
            "[nltk_data] Downloading package vader_lexicon to /root/nltk_data...\n"
          ]
        },
        {
          "output_type": "execute_result",
          "data": {
            "text/plain": [
              "True"
            ]
          },
          "metadata": {},
          "execution_count": 6
        }
      ],
      "source": [
        "# Downloading the necessary NLTK data\n",
        "nltk.download('punkt')\n",
        "nltk.download('stopwords')\n",
        "nltk.download('wordnet')\n",
        "nltk.download('punkt_tab')\n",
        "nltk.download('vader_lexicon')"
      ]
    },
    {
      "cell_type": "code",
      "execution_count": 7,
      "metadata": {
        "colab": {
          "base_uri": "https://localhost:8080/"
        },
        "id": "aDv8a_eyCnv-",
        "outputId": "92b536fd-b5c6-4072-e396-4cad9427c873"
      },
      "outputs": [
        {
          "output_type": "stream",
          "name": "stdout",
          "text": [
            "Mounted at /content/drive\n"
          ]
        }
      ],
      "source": [
        "# Mounts Google Drive to the '/content/drive' directory in the current runtime\n",
        "drive.mount('/content/drive')"
      ]
    },
    {
      "cell_type": "code",
      "execution_count": 8,
      "metadata": {
        "id": "k2tDpC5jIq7K"
      },
      "outputs": [],
      "source": [
        "# Defining the path to the JSON file located in Google Drive\n",
        "file_path = '/content/drive/MyDrive/NLP CW/full-combined-dataset.json'\n",
        "\n",
        "# Opening the JSON file in read mode with UTF-8 encoding\n",
        "with open(file_path, 'r', encoding='utf-8') as file:\n",
        "    data = json.load(file)\n"
      ]
    },
    {
      "cell_type": "markdown",
      "metadata": {
        "id": "DEJ9QaI6gw8d"
      },
      "source": [
        "# **Task 1**"
      ]
    },
    {
      "cell_type": "markdown",
      "metadata": {
        "id": "VR5nLgn_aGL5"
      },
      "source": [
        "## **Raw data**"
      ]
    },
    {
      "cell_type": "code",
      "execution_count": 9,
      "metadata": {
        "colab": {
          "base_uri": "https://localhost:8080/"
        },
        "id": "RFMx0x6iYJEj",
        "outputId": "ecc696ec-dacc-49ab-dbf4-bfe02eeba4fc"
      },
      "outputs": [
        {
          "output_type": "stream",
          "name": "stdout",
          "text": [
            "Raw dataset before cleaning :\n",
            "\n"
          ]
        },
        {
          "output_type": "execute_result",
          "data": {
            "text/plain": [
              "[{'id': '974611685',\n",
              "  'url': 'https://www.tripadvisor.com/ShowUserReviews-g616035-d4465330-r974611685-Ella_Jungle_Resort-Ella_Uva_Province.html',\n",
              "  'title': 'Terrible experience. Waste of time, money and nerves. Stay away.',\n",
              "  'lang': 'en',\n",
              "  'locationId': '4465330',\n",
              "  'publishedDate': '2024-10-19',\n",
              "  'publishedPlatform': 'OTHER',\n",
              "  'rating': 1,\n",
              "  'helpfulVotes': 1,\n",
              "  'text': 'Well, no.   Big no. \\nFirst of all, before booking, please go through all these comments. Look at the pictures. Not posted by the property but from guest. The place have a great potential but as of today it is just a scam. Place is undeveloped, rooms are nasty. Food terrible. All three above aspects can be fixed easily and reading that this \"in a jungle\" makes no sense. We travel to Sri Lanka often, staying in boutique hotels but also in a real jungle. All places can be clean and nice disputing the fact of not easy environment around. Same w/ food. Staying \"in a jungle\" explain nasty food served? Having so many option for low-key or upscale Sri Lanka\\' culinary possibilities? \\n\\nSo we did claim many times issues on site. Zero interest. Management\\'s reaction: it is what it is, deal with it. \\nImmediate decision to leave. After one night in dirty room and without even touching a breakfast. \\n\\nNow it gets more interesting.. When I wanted to set a review on booking.com it turned that ... we have not stayed there. Ella Jungle Resort just canceled our stay, after the payment was taken. Now I understand the GM laugh on the phone and the answer \"good luck with the reviews, hahahah\". \\n\\nThis is so fUp that such terribly managed places w/ the attitude as they have presented, in such beautiful country are making trips for tourists so unpleasant. I love Sri Lanka. We\\'ll be back regardless. But I hope bs spots will despair from the accommodation map sooner than later.\\n\\nRandom pictures and management actions (then and now) should say more than this entire review.',\n",
              "  'roomTip': None,\n",
              "  'travelDate': '2024-08',\n",
              "  'tripType': 'COUPLES',\n",
              "  'user': {'userId': '63F4DC27E878411895867A1D2204C32B',\n",
              "   'name': 'Marcin S',\n",
              "   'contributions': {'totalContributions': 13, 'helpfulVotes': 0},\n",
              "   'username': 'marcinsL4130XP',\n",
              "   'userLocation': {'shortName': 'Warsaw',\n",
              "    'name': 'Warsaw, Poland',\n",
              "    'id': '274856'},\n",
              "   'avatar': 'https://media-cdn.tripadvisor.com/media/photo-o/1a/f6/7c/01/default-avatar-2020-5.jpg',\n",
              "   'avatarVariations': {'id': '452361217',\n",
              "    'image': 'https://media-cdn.tripadvisor.com/media/photo-o/1a/f6/7c/01/default-avatar-2020-5.jpg',\n",
              "    'photoSizes': [{'url': 'https://dynamic-media-cdn.tripadvisor.com/media/photo-o/1a/f6/7c/01/default-avatar-2020-5.jpg?w=100&h=100&s=1',\n",
              "      'width': 0,\n",
              "      'height': 0},\n",
              "     {'url': 'https://media-cdn.tripadvisor.com/media/photo-t/1a/f6/7c/01/default-avatar-2020-5.jpg',\n",
              "      'width': 50,\n",
              "      'height': 50},\n",
              "     {'url': 'https://media-cdn.tripadvisor.com/media/photo-l/1a/f6/7c/01/default-avatar-2020-5.jpg',\n",
              "      'width': 150,\n",
              "      'height': 150},\n",
              "     {'url': 'https://media-cdn.tripadvisor.com/media/photo-i/1a/f6/7c/01/default-avatar-2020-5.jpg',\n",
              "      'width': 180,\n",
              "      'height': 200},\n",
              "     {'url': 'https://media-cdn.tripadvisor.com/media/photo-f/1a/f6/7c/01/default-avatar-2020-5.jpg',\n",
              "      'width': 205,\n",
              "      'height': 205},\n",
              "     {'url': 'https://media-cdn.tripadvisor.com/media/photo-s/1a/f6/7c/01/default-avatar-2020-5.jpg',\n",
              "      'width': 450,\n",
              "      'height': 450},\n",
              "     {'url': 'https://media-cdn.tripadvisor.com/media/photo-p/1a/f6/7c/01/default-avatar-2020-5.jpg',\n",
              "      'width': 550,\n",
              "      'height': 550},\n",
              "     {'url': 'https://media-cdn.tripadvisor.com/media/photo-w/1a/f6/7c/01/default-avatar-2020-5.jpg',\n",
              "      'width': 1024,\n",
              "      'height': 1024},\n",
              "     {'url': 'https://media-cdn.tripadvisor.com/media/photo-o/1a/f6/7c/01/default-avatar-2020-5.jpg',\n",
              "      'width': 1200,\n",
              "      'height': 1200}]},\n",
              "   'link': 'www.tripadvisor.com/Profile/marcinsL4130XP'},\n",
              "  'ownerResponse': None,\n",
              "  'subratings': [],\n",
              "  'photos': [{'id': '769043230',\n",
              "    'image': 'https://media-cdn.tripadvisor.com/media/photo-w/2d/d6/ab/1e/caption.jpg',\n",
              "    'photoSizes': [{'url': 'https://dynamic-media-cdn.tripadvisor.com/media/photo-o/2d/d6/ab/1e/caption.jpg?w=100&h=100&s=1',\n",
              "      'width': 0,\n",
              "      'height': 0},\n",
              "     {'url': 'https://media-cdn.tripadvisor.com/media/photo-t/2d/d6/ab/1e/caption.jpg',\n",
              "      'width': 50,\n",
              "      'height': 50},\n",
              "     {'url': 'https://media-cdn.tripadvisor.com/media/photo-l/2d/d6/ab/1e/caption.jpg',\n",
              "      'width': 150,\n",
              "      'height': 150},\n",
              "     {'url': 'https://media-cdn.tripadvisor.com/media/photo-f/2d/d6/ab/1e/caption.jpg',\n",
              "      'width': 154,\n",
              "      'height': 205},\n",
              "     {'url': 'https://media-cdn.tripadvisor.com/media/photo-i/2d/d6/ab/1e/caption.jpg',\n",
              "      'width': 180,\n",
              "      'height': 200},\n",
              "     {'url': 'https://media-cdn.tripadvisor.com/media/photo-s/2d/d6/ab/1e/caption.jpg',\n",
              "      'width': 338,\n",
              "      'height': 450},\n",
              "     {'url': 'https://media-cdn.tripadvisor.com/media/photo-p/2d/d6/ab/1e/caption.jpg',\n",
              "      'width': 550,\n",
              "      'height': 733},\n",
              "     {'url': 'https://media-cdn.tripadvisor.com/media/photo-m/1280/2d/d6/ab/1e/caption.jpg',\n",
              "      'width': 960,\n",
              "      'height': 1280},\n",
              "     {'url': 'https://media-cdn.tripadvisor.com/media/photo-w/2d/d6/ab/1e/caption.jpg',\n",
              "      'width': 1024,\n",
              "      'height': 1365}]},\n",
              "   {'id': '769043229',\n",
              "    'image': 'https://media-cdn.tripadvisor.com/media/photo-w/2d/d6/ab/1d/caption.jpg',\n",
              "    'photoSizes': [{'url': 'https://dynamic-media-cdn.tripadvisor.com/media/photo-o/2d/d6/ab/1d/caption.jpg?w=100&h=100&s=1',\n",
              "      'width': 0,\n",
              "      'height': 0},\n",
              "     {'url': 'https://media-cdn.tripadvisor.com/media/photo-t/2d/d6/ab/1d/caption.jpg',\n",
              "      'width': 50,\n",
              "      'height': 50},\n",
              "     {'url': 'https://media-cdn.tripadvisor.com/media/photo-l/2d/d6/ab/1d/caption.jpg',\n",
              "      'width': 150,\n",
              "      'height': 150},\n",
              "     {'url': 'https://media-cdn.tripadvisor.com/media/photo-f/2d/d6/ab/1d/caption.jpg',\n",
              "      'width': 154,\n",
              "      'height': 205},\n",
              "     {'url': 'https://media-cdn.tripadvisor.com/media/photo-i/2d/d6/ab/1d/caption.jpg',\n",
              "      'width': 180,\n",
              "      'height': 200},\n",
              "     {'url': 'https://media-cdn.tripadvisor.com/media/photo-s/2d/d6/ab/1d/caption.jpg',\n",
              "      'width': 338,\n",
              "      'height': 450},\n",
              "     {'url': 'https://media-cdn.tripadvisor.com/media/photo-p/2d/d6/ab/1d/caption.jpg',\n",
              "      'width': 550,\n",
              "      'height': 733},\n",
              "     {'url': 'https://media-cdn.tripadvisor.com/media/photo-m/1280/2d/d6/ab/1d/caption.jpg',\n",
              "      'width': 960,\n",
              "      'height': 1280},\n",
              "     {'url': 'https://media-cdn.tripadvisor.com/media/photo-w/2d/d6/ab/1d/caption.jpg',\n",
              "      'width': 1024,\n",
              "      'height': 1365}]},\n",
              "   {'id': '769043227',\n",
              "    'image': 'https://media-cdn.tripadvisor.com/media/photo-w/2d/d6/ab/1b/caption.jpg',\n",
              "    'photoSizes': [{'url': 'https://dynamic-media-cdn.tripadvisor.com/media/photo-o/2d/d6/ab/1b/caption.jpg?w=100&h=100&s=1',\n",
              "      'width': 0,\n",
              "      'height': 0},\n",
              "     {'url': 'https://media-cdn.tripadvisor.com/media/photo-t/2d/d6/ab/1b/caption.jpg',\n",
              "      'width': 50,\n",
              "      'height': 50},\n",
              "     {'url': 'https://media-cdn.tripadvisor.com/media/photo-l/2d/d6/ab/1b/caption.jpg',\n",
              "      'width': 150,\n",
              "      'height': 150},\n",
              "     {'url': 'https://media-cdn.tripadvisor.com/media/photo-f/2d/d6/ab/1b/caption.jpg',\n",
              "      'width': 154,\n",
              "      'height': 205},\n",
              "     {'url': 'https://media-cdn.tripadvisor.com/media/photo-i/2d/d6/ab/1b/caption.jpg',\n",
              "      'width': 180,\n",
              "      'height': 200},\n",
              "     {'url': 'https://media-cdn.tripadvisor.com/media/photo-s/2d/d6/ab/1b/caption.jpg',\n",
              "      'width': 338,\n",
              "      'height': 450},\n",
              "     {'url': 'https://media-cdn.tripadvisor.com/media/photo-p/2d/d6/ab/1b/caption.jpg',\n",
              "      'width': 550,\n",
              "      'height': 733},\n",
              "     {'url': 'https://media-cdn.tripadvisor.com/media/photo-m/1280/2d/d6/ab/1b/caption.jpg',\n",
              "      'width': 960,\n",
              "      'height': 1280},\n",
              "     {'url': 'https://media-cdn.tripadvisor.com/media/photo-w/2d/d6/ab/1b/caption.jpg',\n",
              "      'width': 1024,\n",
              "      'height': 1365}]},\n",
              "   {'id': '769043226',\n",
              "    'image': 'https://media-cdn.tripadvisor.com/media/photo-w/2d/d6/ab/1a/caption.jpg',\n",
              "    'photoSizes': [{'url': 'https://dynamic-media-cdn.tripadvisor.com/media/photo-o/2d/d6/ab/1a/caption.jpg?w=100&h=100&s=1',\n",
              "      'width': 0,\n",
              "      'height': 0},\n",
              "     {'url': 'https://media-cdn.tripadvisor.com/media/photo-t/2d/d6/ab/1a/caption.jpg',\n",
              "      'width': 50,\n",
              "      'height': 50},\n",
              "     {'url': 'https://media-cdn.tripadvisor.com/media/photo-l/2d/d6/ab/1a/caption.jpg',\n",
              "      'width': 150,\n",
              "      'height': 150},\n",
              "     {'url': 'https://media-cdn.tripadvisor.com/media/photo-f/2d/d6/ab/1a/caption.jpg',\n",
              "      'width': 154,\n",
              "      'height': 205},\n",
              "     {'url': 'https://media-cdn.tripadvisor.com/media/photo-i/2d/d6/ab/1a/caption.jpg',\n",
              "      'width': 180,\n",
              "      'height': 200},\n",
              "     {'url': 'https://media-cdn.tripadvisor.com/media/photo-s/2d/d6/ab/1a/caption.jpg',\n",
              "      'width': 338,\n",
              "      'height': 450},\n",
              "     {'url': 'https://media-cdn.tripadvisor.com/media/photo-p/2d/d6/ab/1a/caption.jpg',\n",
              "      'width': 550,\n",
              "      'height': 733},\n",
              "     {'url': 'https://media-cdn.tripadvisor.com/media/photo-m/1280/2d/d6/ab/1a/caption.jpg',\n",
              "      'width': 960,\n",
              "      'height': 1280},\n",
              "     {'url': 'https://media-cdn.tripadvisor.com/media/photo-w/2d/d6/ab/1a/caption.jpg',\n",
              "      'width': 1024,\n",
              "      'height': 1365}]},\n",
              "   {'id': '769043225',\n",
              "    'image': 'https://media-cdn.tripadvisor.com/media/photo-w/2d/d6/ab/19/caption.jpg',\n",
              "    'photoSizes': [{'url': 'https://dynamic-media-cdn.tripadvisor.com/media/photo-o/2d/d6/ab/19/caption.jpg?w=100&h=100&s=1',\n",
              "      'width': 0,\n",
              "      'height': 0},\n",
              "     {'url': 'https://media-cdn.tripadvisor.com/media/photo-t/2d/d6/ab/19/caption.jpg',\n",
              "      'width': 50,\n",
              "      'height': 50},\n",
              "     {'url': 'https://media-cdn.tripadvisor.com/media/photo-l/2d/d6/ab/19/caption.jpg',\n",
              "      'width': 150,\n",
              "      'height': 150},\n",
              "     {'url': 'https://media-cdn.tripadvisor.com/media/photo-f/2d/d6/ab/19/caption.jpg',\n",
              "      'width': 154,\n",
              "      'height': 205},\n",
              "     {'url': 'https://media-cdn.tripadvisor.com/media/photo-i/2d/d6/ab/19/caption.jpg',\n",
              "      'width': 180,\n",
              "      'height': 200},\n",
              "     {'url': 'https://media-cdn.tripadvisor.com/media/photo-s/2d/d6/ab/19/caption.jpg',\n",
              "      'width': 338,\n",
              "      'height': 450},\n",
              "     {'url': 'https://media-cdn.tripadvisor.com/media/photo-p/2d/d6/ab/19/caption.jpg',\n",
              "      'width': 550,\n",
              "      'height': 733},\n",
              "     {'url': 'https://media-cdn.tripadvisor.com/media/photo-m/1280/2d/d6/ab/19/caption.jpg',\n",
              "      'width': 960,\n",
              "      'height': 1280},\n",
              "     {'url': 'https://media-cdn.tripadvisor.com/media/photo-w/2d/d6/ab/19/caption.jpg',\n",
              "      'width': 1024,\n",
              "      'height': 1365}]},\n",
              "   {'id': '769043224',\n",
              "    'image': 'https://media-cdn.tripadvisor.com/media/photo-w/2d/d6/ab/18/caption.jpg',\n",
              "    'photoSizes': [{'url': 'https://dynamic-media-cdn.tripadvisor.com/media/photo-o/2d/d6/ab/18/caption.jpg?w=100&h=100&s=1',\n",
              "      'width': 0,\n",
              "      'height': 0},\n",
              "     {'url': 'https://media-cdn.tripadvisor.com/media/photo-t/2d/d6/ab/18/caption.jpg',\n",
              "      'width': 50,\n",
              "      'height': 50},\n",
              "     {'url': 'https://media-cdn.tripadvisor.com/media/photo-l/2d/d6/ab/18/caption.jpg',\n",
              "      'width': 150,\n",
              "      'height': 150},\n",
              "     {'url': 'https://media-cdn.tripadvisor.com/media/photo-f/2d/d6/ab/18/caption.jpg',\n",
              "      'width': 154,\n",
              "      'height': 205},\n",
              "     {'url': 'https://media-cdn.tripadvisor.com/media/photo-i/2d/d6/ab/18/caption.jpg',\n",
              "      'width': 180,\n",
              "      'height': 200},\n",
              "     {'url': 'https://media-cdn.tripadvisor.com/media/photo-s/2d/d6/ab/18/caption.jpg',\n",
              "      'width': 338,\n",
              "      'height': 450},\n",
              "     {'url': 'https://media-cdn.tripadvisor.com/media/photo-p/2d/d6/ab/18/caption.jpg',\n",
              "      'width': 550,\n",
              "      'height': 733},\n",
              "     {'url': 'https://media-cdn.tripadvisor.com/media/photo-m/1280/2d/d6/ab/18/caption.jpg',\n",
              "      'width': 960,\n",
              "      'height': 1280},\n",
              "     {'url': 'https://media-cdn.tripadvisor.com/media/photo-w/2d/d6/ab/18/caption.jpg',\n",
              "      'width': 1024,\n",
              "      'height': 1365}]},\n",
              "   {'id': '769043223',\n",
              "    'image': 'https://media-cdn.tripadvisor.com/media/photo-w/2d/d6/ab/17/caption.jpg',\n",
              "    'photoSizes': [{'url': 'https://dynamic-media-cdn.tripadvisor.com/media/photo-o/2d/d6/ab/17/caption.jpg?w=100&h=100&s=1',\n",
              "      'width': 0,\n",
              "      'height': 0},\n",
              "     {'url': 'https://media-cdn.tripadvisor.com/media/photo-t/2d/d6/ab/17/caption.jpg',\n",
              "      'width': 50,\n",
              "      'height': 50},\n",
              "     {'url': 'https://media-cdn.tripadvisor.com/media/photo-l/2d/d6/ab/17/caption.jpg',\n",
              "      'width': 150,\n",
              "      'height': 150},\n",
              "     {'url': 'https://media-cdn.tripadvisor.com/media/photo-f/2d/d6/ab/17/caption.jpg',\n",
              "      'width': 154,\n",
              "      'height': 205},\n",
              "     {'url': 'https://media-cdn.tripadvisor.com/media/photo-i/2d/d6/ab/17/caption.jpg',\n",
              "      'width': 180,\n",
              "      'height': 200},\n",
              "     {'url': 'https://media-cdn.tripadvisor.com/media/photo-s/2d/d6/ab/17/caption.jpg',\n",
              "      'width': 338,\n",
              "      'height': 450},\n",
              "     {'url': 'https://media-cdn.tripadvisor.com/media/photo-p/2d/d6/ab/17/caption.jpg',\n",
              "      'width': 550,\n",
              "      'height': 733},\n",
              "     {'url': 'https://media-cdn.tripadvisor.com/media/photo-m/1280/2d/d6/ab/17/caption.jpg',\n",
              "      'width': 960,\n",
              "      'height': 1280},\n",
              "     {'url': 'https://media-cdn.tripadvisor.com/media/photo-w/2d/d6/ab/17/caption.jpg',\n",
              "      'width': 1024,\n",
              "      'height': 1365}]},\n",
              "   {'id': '769043222',\n",
              "    'image': 'https://media-cdn.tripadvisor.com/media/photo-w/2d/d6/ab/16/caption.jpg',\n",
              "    'photoSizes': [{'url': 'https://dynamic-media-cdn.tripadvisor.com/media/photo-o/2d/d6/ab/16/caption.jpg?w=100&h=100&s=1',\n",
              "      'width': 0,\n",
              "      'height': 0},\n",
              "     {'url': 'https://media-cdn.tripadvisor.com/media/photo-t/2d/d6/ab/16/caption.jpg',\n",
              "      'width': 50,\n",
              "      'height': 50},\n",
              "     {'url': 'https://media-cdn.tripadvisor.com/media/photo-l/2d/d6/ab/16/caption.jpg',\n",
              "      'width': 150,\n",
              "      'height': 150},\n",
              "     {'url': 'https://media-cdn.tripadvisor.com/media/photo-f/2d/d6/ab/16/caption.jpg',\n",
              "      'width': 154,\n",
              "      'height': 205},\n",
              "     {'url': 'https://media-cdn.tripadvisor.com/media/photo-i/2d/d6/ab/16/caption.jpg',\n",
              "      'width': 180,\n",
              "      'height': 200},\n",
              "     {'url': 'https://media-cdn.tripadvisor.com/media/photo-s/2d/d6/ab/16/caption.jpg',\n",
              "      'width': 338,\n",
              "      'height': 450},\n",
              "     {'url': 'https://media-cdn.tripadvisor.com/media/photo-p/2d/d6/ab/16/caption.jpg',\n",
              "      'width': 550,\n",
              "      'height': 733},\n",
              "     {'url': 'https://media-cdn.tripadvisor.com/media/photo-m/1280/2d/d6/ab/16/caption.jpg',\n",
              "      'width': 960,\n",
              "      'height': 1280},\n",
              "     {'url': 'https://media-cdn.tripadvisor.com/media/photo-w/2d/d6/ab/16/caption.jpg',\n",
              "      'width': 1024,\n",
              "      'height': 1365}]},\n",
              "   {'id': '769043221',\n",
              "    'image': 'https://media-cdn.tripadvisor.com/media/photo-w/2d/d6/ab/15/caption.jpg',\n",
              "    'photoSizes': [{'url': 'https://dynamic-media-cdn.tripadvisor.com/media/photo-o/2d/d6/ab/15/caption.jpg?w=100&h=100&s=1',\n",
              "      'width': 0,\n",
              "      'height': 0},\n",
              "     {'url': 'https://media-cdn.tripadvisor.com/media/photo-t/2d/d6/ab/15/caption.jpg',\n",
              "      'width': 50,\n",
              "      'height': 50},\n",
              "     {'url': 'https://media-cdn.tripadvisor.com/media/photo-l/2d/d6/ab/15/caption.jpg',\n",
              "      'width': 150,\n",
              "      'height': 150},\n",
              "     {'url': 'https://media-cdn.tripadvisor.com/media/photo-f/2d/d6/ab/15/caption.jpg',\n",
              "      'width': 154,\n",
              "      'height': 205},\n",
              "     {'url': 'https://media-cdn.tripadvisor.com/media/photo-i/2d/d6/ab/15/caption.jpg',\n",
              "      'width': 180,\n",
              "      'height': 200},\n",
              "     {'url': 'https://media-cdn.tripadvisor.com/media/photo-s/2d/d6/ab/15/caption.jpg',\n",
              "      'width': 338,\n",
              "      'height': 450},\n",
              "     {'url': 'https://media-cdn.tripadvisor.com/media/photo-p/2d/d6/ab/15/caption.jpg',\n",
              "      'width': 550,\n",
              "      'height': 733},\n",
              "     {'url': 'https://media-cdn.tripadvisor.com/media/photo-m/1280/2d/d6/ab/15/caption.jpg',\n",
              "      'width': 960,\n",
              "      'height': 1280},\n",
              "     {'url': 'https://media-cdn.tripadvisor.com/media/photo-w/2d/d6/ab/15/caption.jpg',\n",
              "      'width': 1024,\n",
              "      'height': 1365}]},\n",
              "   {'id': '769043220',\n",
              "    'image': 'https://media-cdn.tripadvisor.com/media/photo-w/2d/d6/ab/14/caption.jpg',\n",
              "    'photoSizes': [{'url': 'https://dynamic-media-cdn.tripadvisor.com/media/photo-o/2d/d6/ab/14/caption.jpg?w=100&h=100&s=1',\n",
              "      'width': 0,\n",
              "      'height': 0},\n",
              "     {'url': 'https://media-cdn.tripadvisor.com/media/photo-t/2d/d6/ab/14/caption.jpg',\n",
              "      'width': 50,\n",
              "      'height': 50},\n",
              "     {'url': 'https://media-cdn.tripadvisor.com/media/photo-l/2d/d6/ab/14/caption.jpg',\n",
              "      'width': 150,\n",
              "      'height': 150},\n",
              "     {'url': 'https://media-cdn.tripadvisor.com/media/photo-f/2d/d6/ab/14/caption.jpg',\n",
              "      'width': 154,\n",
              "      'height': 205},\n",
              "     {'url': 'https://media-cdn.tripadvisor.com/media/photo-i/2d/d6/ab/14/caption.jpg',\n",
              "      'width': 180,\n",
              "      'height': 200},\n",
              "     {'url': 'https://media-cdn.tripadvisor.com/media/photo-s/2d/d6/ab/14/caption.jpg',\n",
              "      'width': 338,\n",
              "      'height': 450},\n",
              "     {'url': 'https://media-cdn.tripadvisor.com/media/photo-p/2d/d6/ab/14/caption.jpg',\n",
              "      'width': 550,\n",
              "      'height': 733},\n",
              "     {'url': 'https://media-cdn.tripadvisor.com/media/photo-m/1280/2d/d6/ab/14/caption.jpg',\n",
              "      'width': 960,\n",
              "      'height': 1280},\n",
              "     {'url': 'https://media-cdn.tripadvisor.com/media/photo-w/2d/d6/ab/14/caption.jpg',\n",
              "      'width': 1024,\n",
              "      'height': 1365}]},\n",
              "   {'id': '769043219',\n",
              "    'image': 'https://media-cdn.tripadvisor.com/media/photo-w/2d/d6/ab/13/caption.jpg',\n",
              "    'photoSizes': [{'url': 'https://dynamic-media-cdn.tripadvisor.com/media/photo-o/2d/d6/ab/13/caption.jpg?w=100&h=100&s=1',\n",
              "      'width': 0,\n",
              "      'height': 0},\n",
              "     {'url': 'https://media-cdn.tripadvisor.com/media/photo-t/2d/d6/ab/13/caption.jpg',\n",
              "      'width': 50,\n",
              "      'height': 50},\n",
              "     {'url': 'https://media-cdn.tripadvisor.com/media/photo-l/2d/d6/ab/13/caption.jpg',\n",
              "      'width': 150,\n",
              "      'height': 150},\n",
              "     {'url': 'https://media-cdn.tripadvisor.com/media/photo-f/2d/d6/ab/13/caption.jpg',\n",
              "      'width': 154,\n",
              "      'height': 205},\n",
              "     {'url': 'https://media-cdn.tripadvisor.com/media/photo-i/2d/d6/ab/13/caption.jpg',\n",
              "      'width': 180,\n",
              "      'height': 200},\n",
              "     {'url': 'https://media-cdn.tripadvisor.com/media/photo-s/2d/d6/ab/13/caption.jpg',\n",
              "      'width': 338,\n",
              "      'height': 450},\n",
              "     {'url': 'https://media-cdn.tripadvisor.com/media/photo-p/2d/d6/ab/13/caption.jpg',\n",
              "      'width': 550,\n",
              "      'height': 733},\n",
              "     {'url': 'https://media-cdn.tripadvisor.com/media/photo-m/1280/2d/d6/ab/13/caption.jpg',\n",
              "      'width': 960,\n",
              "      'height': 1280},\n",
              "     {'url': 'https://media-cdn.tripadvisor.com/media/photo-w/2d/d6/ab/13/caption.jpg',\n",
              "      'width': 1024,\n",
              "      'height': 1365}]},\n",
              "   {'id': '769043218',\n",
              "    'image': 'https://media-cdn.tripadvisor.com/media/photo-w/2d/d6/ab/12/caption.jpg',\n",
              "    'photoSizes': [{'url': 'https://dynamic-media-cdn.tripadvisor.com/media/photo-o/2d/d6/ab/12/caption.jpg?w=100&h=100&s=1',\n",
              "      'width': 0,\n",
              "      'height': 0},\n",
              "     {'url': 'https://media-cdn.tripadvisor.com/media/photo-t/2d/d6/ab/12/caption.jpg',\n",
              "      'width': 50,\n",
              "      'height': 50},\n",
              "     {'url': 'https://media-cdn.tripadvisor.com/media/photo-l/2d/d6/ab/12/caption.jpg',\n",
              "      'width': 150,\n",
              "      'height': 150},\n",
              "     {'url': 'https://media-cdn.tripadvisor.com/media/photo-f/2d/d6/ab/12/caption.jpg',\n",
              "      'width': 154,\n",
              "      'height': 205},\n",
              "     {'url': 'https://media-cdn.tripadvisor.com/media/photo-i/2d/d6/ab/12/caption.jpg',\n",
              "      'width': 180,\n",
              "      'height': 200},\n",
              "     {'url': 'https://media-cdn.tripadvisor.com/media/photo-s/2d/d6/ab/12/caption.jpg',\n",
              "      'width': 338,\n",
              "      'height': 450},\n",
              "     {'url': 'https://media-cdn.tripadvisor.com/media/photo-p/2d/d6/ab/12/caption.jpg',\n",
              "      'width': 550,\n",
              "      'height': 733},\n",
              "     {'url': 'https://media-cdn.tripadvisor.com/media/photo-m/1280/2d/d6/ab/12/caption.jpg',\n",
              "      'width': 960,\n",
              "      'height': 1280},\n",
              "     {'url': 'https://media-cdn.tripadvisor.com/media/photo-w/2d/d6/ab/12/caption.jpg',\n",
              "      'width': 1024,\n",
              "      'height': 1365}]}],\n",
              "  'placeInfo': {'id': '4465330',\n",
              "   'name': 'Ella Jungle Resort',\n",
              "   'rating': 4,\n",
              "   'numberOfReviews': 798,\n",
              "   'locationString': 'Ella, Uva Province',\n",
              "   'latitude': 6.828174,\n",
              "   'longitude': 81.086365,\n",
              "   'webUrl': 'https://www.tripadvisor.com/Hotel_Review-g616035-d4465330-Reviews-Ella_Jungle_Resort-Ella_Uva_Province.html',\n",
              "   'website': 'http://www.ellajungleresort.lk/',\n",
              "   'address': '10th Mile Post, Ella 90090 Sri Lanka',\n",
              "   'addressObj': {'street1': '10th Mile Post',\n",
              "    'street2': None,\n",
              "    'city': 'Ella',\n",
              "    'state': None,\n",
              "    'country': 'Sri Lanka',\n",
              "    'postalcode': '90090'},\n",
              "   'ratingHistogram': {'count1': 68,\n",
              "    'count2': 44,\n",
              "    'count3': 64,\n",
              "    'count4': 145,\n",
              "    'count5': 477}}}]"
            ]
          },
          "metadata": {},
          "execution_count": 9
        }
      ],
      "source": [
        "# Displaying the first item in the raw dataset\n",
        "print('Raw dataset before cleaning :\\n')\n",
        "data[:1]"
      ]
    },
    {
      "cell_type": "markdown",
      "metadata": {
        "id": "oscC_C5wZLv6"
      },
      "source": [
        "## **Data Cleaning**"
      ]
    },
    {
      "cell_type": "markdown",
      "metadata": {
        "id": "w1CELzXeiBui"
      },
      "source": [
        "Extract only the specified columns\n",
        "\n",
        "\n"
      ]
    },
    {
      "cell_type": "code",
      "execution_count": 10,
      "metadata": {
        "id": "I_yf39qSJNPG"
      },
      "outputs": [],
      "source": [
        "# Initializing an empty list\n",
        "filtered_data = []\n",
        "\n",
        "# Iterating over each entry in the original 'data' list\n",
        "for entry in data:\n",
        "    # Creating a dictionary with selected fields from each entry\n",
        "    filtered_entry = {\n",
        "        \"title\": entry.get(\"title\"),\n",
        "        \"lang\": entry.get(\"lang\"),\n",
        "        \"Date\": entry.get(\"travelDate\"),\n",
        "        \"rating\": entry.get(\"rating\"),\n",
        "        \"helpfulVotes\": entry.get(\"helpfulVotes\"),\n",
        "        \"text\": entry.get(\"text\"),\n",
        "        \"PlaceName\": entry.get(\"placeInfo\", {}).get(\"name\"),\n",
        "        \"PlaceRating\": entry.get(\"placeInfo\", {}).get(\"rating\")\n",
        "    }\n",
        "    # Appending the filtered entry dictionary to the 'filtered_data' list\n",
        "    filtered_data.append(filtered_entry)\n"
      ]
    },
    {
      "cell_type": "code",
      "execution_count": 11,
      "metadata": {
        "colab": {
          "base_uri": "https://localhost:8080/"
        },
        "id": "qkNvsOpTJa1p",
        "outputId": "a7ad8ba3-13f3-42c6-98aa-e13384bf76e3"
      },
      "outputs": [
        {
          "output_type": "execute_result",
          "data": {
            "text/plain": [
              "[{'title': 'Terrible experience. Waste of time, money and nerves. Stay away.',\n",
              "  'lang': 'en',\n",
              "  'Date': '2024-08',\n",
              "  'rating': 1,\n",
              "  'helpfulVotes': 1,\n",
              "  'text': 'Well, no.   Big no. \\nFirst of all, before booking, please go through all these comments. Look at the pictures. Not posted by the property but from guest. The place have a great potential but as of today it is just a scam. Place is undeveloped, rooms are nasty. Food terrible. All three above aspects can be fixed easily and reading that this \"in a jungle\" makes no sense. We travel to Sri Lanka often, staying in boutique hotels but also in a real jungle. All places can be clean and nice disputing the fact of not easy environment around. Same w/ food. Staying \"in a jungle\" explain nasty food served? Having so many option for low-key or upscale Sri Lanka\\' culinary possibilities? \\n\\nSo we did claim many times issues on site. Zero interest. Management\\'s reaction: it is what it is, deal with it. \\nImmediate decision to leave. After one night in dirty room and without even touching a breakfast. \\n\\nNow it gets more interesting.. When I wanted to set a review on booking.com it turned that ... we have not stayed there. Ella Jungle Resort just canceled our stay, after the payment was taken. Now I understand the GM laugh on the phone and the answer \"good luck with the reviews, hahahah\". \\n\\nThis is so fUp that such terribly managed places w/ the attitude as they have presented, in such beautiful country are making trips for tourists so unpleasant. I love Sri Lanka. We\\'ll be back regardless. But I hope bs spots will despair from the accommodation map sooner than later.\\n\\nRandom pictures and management actions (then and now) should say more than this entire review.',\n",
              "  'PlaceName': 'Ella Jungle Resort',\n",
              "  'PlaceRating': 4}]"
            ]
          },
          "metadata": {},
          "execution_count": 11
        }
      ],
      "source": [
        "# Displaying the first item in the 'filtered_data' list\n",
        "filtered_data[:1]"
      ]
    },
    {
      "cell_type": "code",
      "execution_count": 12,
      "metadata": {
        "colab": {
          "base_uri": "https://localhost:8080/"
        },
        "id": "eVO5-r98LCad",
        "outputId": "0b287555-6576-45fa-c5d1-fa2857dbed47"
      },
      "outputs": [
        {
          "output_type": "stream",
          "name": "stdout",
          "text": [
            "10127\n"
          ]
        }
      ],
      "source": [
        "# Priniting the length of the filtered data\n",
        "print(len(filtered_data))"
      ]
    },
    {
      "cell_type": "markdown",
      "metadata": {
        "id": "BGn9h3n7oHxr"
      },
      "source": [
        "Load the data into a DataFrame"
      ]
    },
    {
      "cell_type": "code",
      "execution_count": 13,
      "metadata": {
        "id": "SWazOiFZoGUk"
      },
      "outputs": [],
      "source": [
        "# Creating a DataFrame from the 'filtered_data' list\n",
        "df = pd.DataFrame(filtered_data)"
      ]
    },
    {
      "cell_type": "code",
      "execution_count": 14,
      "metadata": {
        "colab": {
          "base_uri": "https://localhost:8080/",
          "height": 81
        },
        "id": "7EW1FcOs9CA1",
        "outputId": "b088ba70-92ab-4899-c31d-9720bbb14cd3"
      },
      "outputs": [
        {
          "output_type": "execute_result",
          "data": {
            "text/plain": [
              "                                               title lang     Date  rating  \\\n",
              "0  Terrible experience. Waste of time, money and ...   en  2024-08       1   \n",
              "\n",
              "   helpfulVotes                                               text  \\\n",
              "0             1  Well, no.   Big no. \\nFirst of all, before boo...   \n",
              "\n",
              "            PlaceName  PlaceRating  \n",
              "0  Ella Jungle Resort          4.0  "
            ],
            "text/html": [
              "\n",
              "  <div id=\"df-ba835173-09bb-4c76-bf41-fd7a6e4fd0bc\" class=\"colab-df-container\">\n",
              "    <div>\n",
              "<style scoped>\n",
              "    .dataframe tbody tr th:only-of-type {\n",
              "        vertical-align: middle;\n",
              "    }\n",
              "\n",
              "    .dataframe tbody tr th {\n",
              "        vertical-align: top;\n",
              "    }\n",
              "\n",
              "    .dataframe thead th {\n",
              "        text-align: right;\n",
              "    }\n",
              "</style>\n",
              "<table border=\"1\" class=\"dataframe\">\n",
              "  <thead>\n",
              "    <tr style=\"text-align: right;\">\n",
              "      <th></th>\n",
              "      <th>title</th>\n",
              "      <th>lang</th>\n",
              "      <th>Date</th>\n",
              "      <th>rating</th>\n",
              "      <th>helpfulVotes</th>\n",
              "      <th>text</th>\n",
              "      <th>PlaceName</th>\n",
              "      <th>PlaceRating</th>\n",
              "    </tr>\n",
              "  </thead>\n",
              "  <tbody>\n",
              "    <tr>\n",
              "      <th>0</th>\n",
              "      <td>Terrible experience. Waste of time, money and ...</td>\n",
              "      <td>en</td>\n",
              "      <td>2024-08</td>\n",
              "      <td>1</td>\n",
              "      <td>1</td>\n",
              "      <td>Well, no.   Big no. \\nFirst of all, before boo...</td>\n",
              "      <td>Ella Jungle Resort</td>\n",
              "      <td>4.0</td>\n",
              "    </tr>\n",
              "  </tbody>\n",
              "</table>\n",
              "</div>\n",
              "    <div class=\"colab-df-buttons\">\n",
              "\n",
              "  <div class=\"colab-df-container\">\n",
              "    <button class=\"colab-df-convert\" onclick=\"convertToInteractive('df-ba835173-09bb-4c76-bf41-fd7a6e4fd0bc')\"\n",
              "            title=\"Convert this dataframe to an interactive table.\"\n",
              "            style=\"display:none;\">\n",
              "\n",
              "  <svg xmlns=\"http://www.w3.org/2000/svg\" height=\"24px\" viewBox=\"0 -960 960 960\">\n",
              "    <path d=\"M120-120v-720h720v720H120Zm60-500h600v-160H180v160Zm220 220h160v-160H400v160Zm0 220h160v-160H400v160ZM180-400h160v-160H180v160Zm440 0h160v-160H620v160ZM180-180h160v-160H180v160Zm440 0h160v-160H620v160Z\"/>\n",
              "  </svg>\n",
              "    </button>\n",
              "\n",
              "  <style>\n",
              "    .colab-df-container {\n",
              "      display:flex;\n",
              "      gap: 12px;\n",
              "    }\n",
              "\n",
              "    .colab-df-convert {\n",
              "      background-color: #E8F0FE;\n",
              "      border: none;\n",
              "      border-radius: 50%;\n",
              "      cursor: pointer;\n",
              "      display: none;\n",
              "      fill: #1967D2;\n",
              "      height: 32px;\n",
              "      padding: 0 0 0 0;\n",
              "      width: 32px;\n",
              "    }\n",
              "\n",
              "    .colab-df-convert:hover {\n",
              "      background-color: #E2EBFA;\n",
              "      box-shadow: 0px 1px 2px rgba(60, 64, 67, 0.3), 0px 1px 3px 1px rgba(60, 64, 67, 0.15);\n",
              "      fill: #174EA6;\n",
              "    }\n",
              "\n",
              "    .colab-df-buttons div {\n",
              "      margin-bottom: 4px;\n",
              "    }\n",
              "\n",
              "    [theme=dark] .colab-df-convert {\n",
              "      background-color: #3B4455;\n",
              "      fill: #D2E3FC;\n",
              "    }\n",
              "\n",
              "    [theme=dark] .colab-df-convert:hover {\n",
              "      background-color: #434B5C;\n",
              "      box-shadow: 0px 1px 3px 1px rgba(0, 0, 0, 0.15);\n",
              "      filter: drop-shadow(0px 1px 2px rgba(0, 0, 0, 0.3));\n",
              "      fill: #FFFFFF;\n",
              "    }\n",
              "  </style>\n",
              "\n",
              "    <script>\n",
              "      const buttonEl =\n",
              "        document.querySelector('#df-ba835173-09bb-4c76-bf41-fd7a6e4fd0bc button.colab-df-convert');\n",
              "      buttonEl.style.display =\n",
              "        google.colab.kernel.accessAllowed ? 'block' : 'none';\n",
              "\n",
              "      async function convertToInteractive(key) {\n",
              "        const element = document.querySelector('#df-ba835173-09bb-4c76-bf41-fd7a6e4fd0bc');\n",
              "        const dataTable =\n",
              "          await google.colab.kernel.invokeFunction('convertToInteractive',\n",
              "                                                    [key], {});\n",
              "        if (!dataTable) return;\n",
              "\n",
              "        const docLinkHtml = 'Like what you see? Visit the ' +\n",
              "          '<a target=\"_blank\" href=https://colab.research.google.com/notebooks/data_table.ipynb>data table notebook</a>'\n",
              "          + ' to learn more about interactive tables.';\n",
              "        element.innerHTML = '';\n",
              "        dataTable['output_type'] = 'display_data';\n",
              "        await google.colab.output.renderOutput(dataTable, element);\n",
              "        const docLink = document.createElement('div');\n",
              "        docLink.innerHTML = docLinkHtml;\n",
              "        element.appendChild(docLink);\n",
              "      }\n",
              "    </script>\n",
              "  </div>\n",
              "\n",
              "\n",
              "    </div>\n",
              "  </div>\n"
            ],
            "application/vnd.google.colaboratory.intrinsic+json": {
              "type": "dataframe",
              "variable_name": "df",
              "summary": "{\n  \"name\": \"df\",\n  \"rows\": 10127,\n  \"fields\": [\n    {\n      \"column\": \"title\",\n      \"properties\": {\n        \"dtype\": \"string\",\n        \"num_unique_values\": 8931,\n        \"samples\": [\n          \"All I have to say is that I had a really bad experience I request you to ensure that such things do not happen again\",\n          \"Understand elegance\",\n          \"Paradise in the Down South\"\n        ],\n        \"semantic_type\": \"\",\n        \"description\": \"\"\n      }\n    },\n    {\n      \"column\": \"lang\",\n      \"properties\": {\n        \"dtype\": \"category\",\n        \"num_unique_values\": 21,\n        \"samples\": [\n          \"en\",\n          \"tr\",\n          \"ar\"\n        ],\n        \"semantic_type\": \"\",\n        \"description\": \"\"\n      }\n    },\n    {\n      \"column\": \"Date\",\n      \"properties\": {\n        \"dtype\": \"object\",\n        \"num_unique_values\": 103,\n        \"samples\": [\n          \"2023-09\",\n          \"2020-06\",\n          \"2018-11\"\n        ],\n        \"semantic_type\": \"\",\n        \"description\": \"\"\n      }\n    },\n    {\n      \"column\": \"rating\",\n      \"properties\": {\n        \"dtype\": \"number\",\n        \"std\": 0,\n        \"min\": 1,\n        \"max\": 5,\n        \"num_unique_values\": 5,\n        \"samples\": [\n          5,\n          3,\n          2\n        ],\n        \"semantic_type\": \"\",\n        \"description\": \"\"\n      }\n    },\n    {\n      \"column\": \"helpfulVotes\",\n      \"properties\": {\n        \"dtype\": \"number\",\n        \"std\": 1,\n        \"min\": -1,\n        \"max\": 60,\n        \"num_unique_values\": 12,\n        \"samples\": [\n          7,\n          57,\n          1\n        ],\n        \"semantic_type\": \"\",\n        \"description\": \"\"\n      }\n    },\n    {\n      \"column\": \"text\",\n      \"properties\": {\n        \"dtype\": \"string\",\n        \"num_unique_values\": 10127,\n        \"samples\": [\n          \"The location is simply magnificient, and the staff are friendly and wellcoming.  I would eecommend this hotel for anyone travelling to kandy.\",\n          \"The food was amazing and great staff service. The rooms were upto the standard. The pool location was amazing and the hotel location as well. Could see a beautiful glimpse of the Kandy town from the balcony area of the Chef dinning.\\nThank you Fox Resort Kandy and the crew.\\nEnuri\",\n          \"Hotel Anlage :\\n ist renoviert \\nR\\u00e4ume: \\nGro\\u00dfe ger\\u00e4umige Zimmer.\\nDie Ameisen in Kommentaren sind landes\\u00fcblich.Wie \\u00fcberall in Asien,  aber auch Amerika. \\nSanit\\u00e4r im Bad k\\u00f6nnte ein wenig sauberer sein. \\nAber bitte vergleichen Sie nicht ein Hotel auf SL mit einem Hotel in Deutschland. \\nLage :\\nsehr sch\\u00f6n an einer Lagune, aber kein Spot selbst\\u00e4ndig raus zu gehen\\nEmpfehlung 1 bis 2 Tage vor oder nach Safari, aufgrund der N\\u00e4he zum Flughafen\\nPersonal:\\nSehr freundlich und hilfsbereit.  Besonders hervorragend zu erw\\u00e4hnen Dude aus dem Restaurant Team\\n\"\n        ],\n        \"semantic_type\": \"\",\n        \"description\": \"\"\n      }\n    },\n    {\n      \"column\": \"PlaceName\",\n      \"properties\": {\n        \"dtype\": \"category\",\n        \"num_unique_values\": 205,\n        \"samples\": [\n          \"Thambapanni Retreat\",\n          \"Thaala Bentota Resort\",\n          \"Koggala Beach Hotel\"\n        ],\n        \"semantic_type\": \"\",\n        \"description\": \"\"\n      }\n    },\n    {\n      \"column\": \"PlaceRating\",\n      \"properties\": {\n        \"dtype\": \"number\",\n        \"std\": 0.31166882021040987,\n        \"min\": 4.0,\n        \"max\": 5.0,\n        \"num_unique_values\": 3,\n        \"samples\": [\n          4.0,\n          4.5,\n          5.0\n        ],\n        \"semantic_type\": \"\",\n        \"description\": \"\"\n      }\n    }\n  ]\n}"
            }
          },
          "metadata": {},
          "execution_count": 14
        }
      ],
      "source": [
        "# Printing the head of the dataframe\n",
        "df.head(1)"
      ]
    },
    {
      "cell_type": "code",
      "execution_count": 15,
      "metadata": {
        "id": "WWiXCAWo82hJ"
      },
      "outputs": [],
      "source": [
        "# Creating a dictionary to store basic information\n",
        "description = {\n",
        "    'row_count': df.shape[0],\n",
        "    'column_count': df.shape[1],\n",
        "    'unique_place_names': df['PlaceName'].nunique(),\n",
        "}\n",
        "\n",
        "# Adding columns for the review length in words and characters\n",
        "df['review_length_words'] = df['text'].apply(lambda x: len(x.split()))\n",
        "df['review_length_chars'] = df['text'].apply(len)\n",
        "\n",
        "# Calculating descriptive statistics for 'rating', 'helpfulVotes', and 'PlaceRating' columns\n",
        "descriptive_stats = df[['rating', 'helpfulVotes', 'PlaceRating']].describe()\n",
        "# Calculating minimum, maximum, and mean values for review length in words\n",
        "review_length_stats = df['review_length_words'].agg(['min', 'max', 'mean'])\n",
        "\n",
        "\n",
        "# Calculating the distribution of languages\n",
        "lang_distribution = df['lang'].value_counts()"
      ]
    },
    {
      "cell_type": "code",
      "execution_count": 16,
      "metadata": {
        "colab": {
          "base_uri": "https://localhost:8080/"
        },
        "id": "nQlu-ECB_JfH",
        "outputId": "e2c01c2c-e168-429b-f190-2761ab7eebcd"
      },
      "outputs": [
        {
          "output_type": "stream",
          "name": "stdout",
          "text": [
            "Description of the Raw Dataset\n",
            "\n",
            "{'row_count': 10127, 'column_count': 8, 'unique_place_names': 205} \n",
            "\n",
            "Descriptive Statistics:\n",
            "              rating  helpfulVotes   PlaceRating\n",
            "count  10127.000000  10127.000000  10127.000000\n",
            "mean       4.648267      0.202232      4.537030\n",
            "std        0.840836      1.006587      0.311669\n",
            "min        1.000000     -1.000000      4.000000\n",
            "25%        5.000000      0.000000      4.500000\n",
            "50%        5.000000      0.000000      4.500000\n",
            "75%        5.000000      0.000000      4.500000\n",
            "max        5.000000     60.000000      5.000000 \n",
            "\n",
            "Review Length Analysis:\n",
            " min        1.000000\n",
            "max     1191.000000\n",
            "mean      89.412067\n",
            "Name: review_length_words, dtype: float64 \n",
            "\n",
            "Language Distribution:\n",
            " {'en': 8966, 'de': 255, 'fr': 220, 'ru': 215, 'nl': 126, 'es': 113, 'it': 72, 'ja': 35, 'zhCN': 32, 'sv': 20, 'da': 20, 'no': 10, 'pl': 10, 'ar': 8, 'iw': 6, 'zhTW': 5, 'ko': 4, 'pt': 3, 'cs': 3, 'fi': 2, 'tr': 2} \n",
            "\n"
          ]
        }
      ],
      "source": [
        "# Printing each section with spacing for readability\n",
        "print(\"Description of the Raw Dataset\\n\")\n",
        "print( description, \"\\n\")\n",
        "print(\"Descriptive Statistics:\\n\", descriptive_stats, \"\\n\")\n",
        "print(\"Review Length Analysis:\\n\", review_length_stats, \"\\n\")\n",
        "print(\"Language Distribution:\\n\", lang_distribution.to_dict(), \"\\n\")\n"
      ]
    },
    {
      "cell_type": "code",
      "execution_count": 17,
      "metadata": {
        "colab": {
          "base_uri": "https://localhost:8080/"
        },
        "id": "19rBsNx-H5GP",
        "outputId": "b3cbdad8-6c51-4676-c0a6-b7e7c06b8940"
      },
      "outputs": [
        {
          "output_type": "stream",
          "name": "stdout",
          "text": [
            "No duplicates found.\n"
          ]
        }
      ],
      "source": [
        "# Printing duplicates if any\n",
        "duplicates = df[df.duplicated(subset=['title', 'text'], keep=False)]\n",
        "\n",
        "if not duplicates.empty:\n",
        "    print(\"Duplicates found:\")\n",
        "    print(duplicates)\n",
        "else:\n",
        "    print(\"No duplicates found.\")"
      ]
    },
    {
      "cell_type": "code",
      "execution_count": 18,
      "metadata": {
        "id": "YryvWV2t17QI"
      },
      "outputs": [],
      "source": [
        "def clean_text(text):\n",
        "    # Removing digits\n",
        "    text = re.sub(r'\\d+', '', text)\n",
        "    # Removing special characters and punctuation\n",
        "    text = re.sub(r'[^\\w\\s]', '', text)\n",
        "    # Reducing repeated characters (like \"loooove\" to \"loove\")\n",
        "    text = re.sub(r'(.)\\1{2,}', r\"\\1\\1\", text)\n",
        "    # Converting to lowercase\n",
        "    text = text.lower()\n",
        "    # Removing punctuation\n",
        "    text = text.translate(str.maketrans('', '', string.punctuation))\n",
        "    # Removing trailing and extra whitespaces\n",
        "    text = ' '.join(text.split())\n",
        "    return text"
      ]
    },
    {
      "cell_type": "code",
      "execution_count": 19,
      "metadata": {
        "id": "QzmG9D9h19-n"
      },
      "outputs": [],
      "source": [
        "# Cleaning the dataset\n",
        "df['text'] = df['text'].apply(clean_text)"
      ]
    },
    {
      "cell_type": "code",
      "execution_count": 20,
      "metadata": {
        "id": "SiYRL8C4-UE_"
      },
      "outputs": [],
      "source": [
        "# Droping rows where 'lang' is not 'en'\n",
        "df = df[df['lang'] == \"en\"].reset_index(drop=True)"
      ]
    },
    {
      "cell_type": "code",
      "execution_count": 21,
      "metadata": {
        "id": "BOW8dVnXc_0q"
      },
      "outputs": [],
      "source": [
        "# Removing the columns\n",
        "columns_to_drop = ['review_length_words','review_length_chars']\n",
        "df.drop(columns=columns_to_drop, inplace=True)"
      ]
    },
    {
      "cell_type": "code",
      "execution_count": 22,
      "metadata": {
        "id": "G0GZUy_FLFdA"
      },
      "outputs": [],
      "source": [
        "# Calculating review length in words\n",
        "df['review_length'] = df['text'].apply(lambda x: len(x.split()))"
      ]
    },
    {
      "cell_type": "markdown",
      "metadata": {
        "id": "x3ngpvjunM_1"
      },
      "source": [
        "Box Plot of Review Lengths"
      ]
    },
    {
      "cell_type": "code",
      "execution_count": 23,
      "metadata": {
        "colab": {
          "base_uri": "https://localhost:8080/",
          "height": 564
        },
        "id": "jrit8DIVThDS",
        "outputId": "3638963e-f4c7-418c-89cf-757f73d2e573"
      },
      "outputs": [
        {
          "output_type": "display_data",
          "data": {
            "text/plain": [
              "<Figure size 1000x600 with 1 Axes>"
            ],
            "image/png": "[encoded data removed]"
          },
          "metadata": {}
        }
      ],
      "source": [
        "# Setting up the figure with a specified width and height\n",
        "plt.figure(figsize=(10, 6))\n",
        "\n",
        "# Create a box plot for the 'review_length' column\n",
        "sns.boxplot(x=df['review_length'], color='lightgreen')\n",
        "\n",
        "# Setting the title of the plot\n",
        "plt.title('Box Plot of Review Lengths')\n",
        "\n",
        "# Labelling the x-axis\n",
        "plt.xlabel('Review Length (Words)')\n",
        "\n",
        "# Displaying the plot\n",
        "plt.show()"
      ]
    },
    {
      "cell_type": "code",
      "execution_count": 24,
      "metadata": {
        "id": "4HaHJouInEGd"
      },
      "outputs": [],
      "source": [
        "# Calculating the mean and median for the review length\n",
        "mean_length = df['review_length'].mean()\n",
        "median_length = df['review_length'].median()"
      ]
    },
    {
      "cell_type": "code",
      "execution_count": 25,
      "metadata": {
        "colab": {
          "base_uri": "https://localhost:8080/",
          "height": 564
        },
        "id": "vTvDSV8SWwnf",
        "outputId": "3c49096c-c847-481d-dc24-0c049636735a"
      },
      "outputs": [
        {
          "output_type": "display_data",
          "data": {
            "text/plain": [
              "<Figure size 1200x600 with 1 Axes>"
            ],
            "image/png": "[encoded data removed]"
          },
          "metadata": {}
        }
      ],
      "source": [
        "# Plotting the histogram for review length\n",
        "plt.figure(figsize=(12, 6))\n",
        "sns.histplot(df['review_length'], bins= 30, kde=True, color=\"grey\")\n",
        "plt.axvline(mean_length, color='red', linestyle='--', linewidth=1.5, label=f'Mean: {mean_length:.1f}')\n",
        "plt.axvline(median_length, color='blue', linestyle='--', linewidth=1.5, label=f'Median: {median_length:.1f}')\n",
        "\n",
        "plt.title(\"Histogram of Review Lengths\")\n",
        "plt.xlabel(\"Review Length (Words)\")\n",
        "plt.ylabel(\"Frequency\")\n",
        "plt.legend()\n",
        "\n",
        "plt.show()"
      ]
    },
    {
      "cell_type": "code",
      "execution_count": 26,
      "metadata": {
        "id": "MduRbPZ4eOJ0"
      },
      "outputs": [],
      "source": [
        "# Calculating the 5th and 95th percentiles of review lengths\n",
        "lower_threshold = df['review_length'].quantile(0.02)\n",
        "upper_threshold = df['review_length'].quantile(0.98)"
      ]
    },
    {
      "cell_type": "code",
      "execution_count": 27,
      "metadata": {
        "colab": {
          "base_uri": "https://localhost:8080/"
        },
        "id": "XSiIr2o3mr__",
        "outputId": "a88a3b01-9a09-4f56-c758-65285607249a"
      },
      "outputs": [
        {
          "output_type": "stream",
          "name": "stdout",
          "text": [
            "5th Percentile Threshold (Minimum Length): 31.0\n",
            "95th Percentile Threshold (Maximum Length): 323.0\n",
            "\n"
          ]
        }
      ],
      "source": [
        "# Threshold values for review lengths to drop\n",
        "print(f\"5th Percentile Threshold (Minimum Length): {lower_threshold}\")\n",
        "print(f\"95th Percentile Threshold (Maximum Length): {upper_threshold}\\n\")"
      ]
    },
    {
      "cell_type": "code",
      "execution_count": 28,
      "metadata": {
        "id": "vSGfzDxkmWUZ"
      },
      "outputs": [],
      "source": [
        "# Filtering out the reviews below the 5th percentile and above the 95th percentile\n",
        "lower_bound = df[df['review_length'] < lower_threshold]\n",
        "upper_bound = df[df['review_length'] > upper_threshold]"
      ]
    },
    {
      "cell_type": "code",
      "execution_count": 29,
      "metadata": {
        "colab": {
          "base_uri": "https://localhost:8080/"
        },
        "id": "cr8js6C0m0c4",
        "outputId": "142c8e01-07fb-4fcb-9c56-a9d8889155a1"
      },
      "outputs": [
        {
          "output_type": "stream",
          "name": "stdout",
          "text": [
            "Number of reviews below the 2nd percentile: 157\n",
            "Number of reviews above the 98th percentile: 179\n"
          ]
        }
      ],
      "source": [
        "# The number of reviews below the 5th and above the 95th percentiles\n",
        "print(f\"Number of reviews below the 2nd percentile: {len(lower_bound)}\")\n",
        "print(f\"Number of reviews above the 98th percentile: {len(upper_bound)}\")"
      ]
    },
    {
      "cell_type": "code",
      "execution_count": 30,
      "metadata": {
        "colab": {
          "base_uri": "https://localhost:8080/",
          "height": 507
        },
        "id": "pjH2sB6hprdR",
        "outputId": "64e3ecb3-9806-42f5-d933-862d42cbdf93"
      },
      "outputs": [
        {
          "output_type": "display_data",
          "data": {
            "text/plain": [
              "<Figure size 1000x500 with 2 Axes>"
            ],
            "image/png": "[encoded data removed]"
          },
          "metadata": {}
        }
      ],
      "source": [
        "# Histogram of Review Lengths Below the 2nd Percentile AND Review Lengths Above the 98th Percentile\n",
        "plt.figure(figsize=(10, 5))\n",
        "\n",
        "# Plotting histogram for reviews below the 5th percentile\n",
        "plt.subplot(1, 2, 1)\n",
        "plt.hist(lower_bound['review_length'], bins=20, color='orange', edgecolor='black', alpha=0.7)\n",
        "plt.xlabel('Review Length (Words)')\n",
        "plt.ylabel('Frequency')\n",
        "plt.title('Histogram of Review Lengths Below the 2nd Percentile')\n",
        "\n",
        "# Plotting histogram for reviews above the 95th percentile\n",
        "plt.subplot(1, 2, 2)\n",
        "plt.hist(upper_bound['review_length'], bins=20, color='purple', edgecolor='black', alpha=0.7)\n",
        "plt.xlabel('Review Length (Words)')\n",
        "plt.ylabel('Frequency')\n",
        "plt.title('Histogram of Review Lengths Above the 98th Percentile')\n",
        "plt.tight_layout()\n",
        "plt.show()"
      ]
    },
    {
      "cell_type": "code",
      "execution_count": 31,
      "metadata": {
        "id": "oZrSG9t-r5Uw"
      },
      "outputs": [],
      "source": [
        "# Dropping the reviews less than teh 2nd percentile and higher than the 98th percentile\n",
        "df_cleaned = df[(df['review_length'] >= lower_threshold) & (df['review_length'] <= upper_threshold)].copy()"
      ]
    },
    {
      "cell_type": "markdown",
      "metadata": {
        "id": "i1tAExhHl_Xu"
      },
      "source": [
        "Histogram after filtering reviews based on length"
      ]
    },
    {
      "cell_type": "markdown",
      "metadata": {
        "id": "0u3WANakdtOh"
      },
      "source": [
        "# EDA of cleaned dataset"
      ]
    },
    {
      "cell_type": "code",
      "execution_count": 32,
      "metadata": {
        "colab": {
          "base_uri": "https://localhost:8080/",
          "height": 564
        },
        "id": "opFpMW4s8NXu",
        "outputId": "627b8b9c-6381-4b70-a760-47b8f4dd2d7e"
      },
      "outputs": [
        {
          "output_type": "display_data",
          "data": {
            "text/plain": [
              "<Figure size 1200x600 with 1 Axes>"
            ],
            "image/png": "[encoded data removed]"
          },
          "metadata": {}
        }
      ],
      "source": [
        "# Calculating the mean and median for the review length after cleaning review less than teh 2nd percentile and higher than the 98th percentile\n",
        "mean_length = df_cleaned['review_length'].mean()\n",
        "median_length = df_cleaned['review_length'].median()\n",
        "\n",
        "# Plotting the histogram for review length\n",
        "plt.figure(figsize=(12, 6))\n",
        "sns.histplot(df_cleaned['review_length'], bins= 30, kde=True, color=\"teal\")\n",
        "plt.axvline(mean_length, color='red', linestyle='--', linewidth=1.5, label=f'Mean: {mean_length:.1f}')\n",
        "plt.axvline(median_length, color='blue', linestyle='--', linewidth=1.5, label=f'Median: {median_length:.1f}')\n",
        "\n",
        "plt.title(\"Histogram of Review Lengths after cleaning review less than the 2nd percentile and higher than the 98th percentile\")\n",
        "plt.xlabel(\"Review Length (Words)\")\n",
        "plt.ylabel(\"Frequency\")\n",
        "plt.legend()\n",
        "\n",
        "plt.show()"
      ]
    },
    {
      "cell_type": "code",
      "execution_count": 33,
      "metadata": {
        "colab": {
          "base_uri": "https://localhost:8080/"
        },
        "id": "5pW4W8Po83R0",
        "outputId": "0a9e405d-9a66-486d-bdff-8269a37ad0a0"
      },
      "outputs": [
        {
          "output_type": "execute_result",
          "data": {
            "text/plain": [
              "(8630, 9)"
            ]
          },
          "metadata": {},
          "execution_count": 33
        }
      ],
      "source": [
        "# Shape of dataset after cleaning\n",
        "df_cleaned.shape"
      ]
    },
    {
      "cell_type": "code",
      "execution_count": 34,
      "metadata": {
        "colab": {
          "base_uri": "https://localhost:8080/",
          "height": 143
        },
        "id": "RkDJyg657NzB",
        "outputId": "d06485fc-e8f6-400f-a98e-dbe638bc740b"
      },
      "outputs": [
        {
          "output_type": "execute_result",
          "data": {
            "text/plain": [
              "                                               title lang     Date  rating  \\\n",
              "0  Terrible experience. Waste of time, money and ...   en  2024-08       1   \n",
              "1          Ella Jungle resort you should never miss!   en  2022-06       5   \n",
              "2                            Must visit when in Ella   en  2024-10       5   \n",
              "\n",
              "   helpfulVotes                                               text  \\\n",
              "0             1  well no big no first of all before booking ple...   \n",
              "1             1  it is one of the most amazing stay we ever had...   \n",
              "2             0  i dont why there are negative reviews its a ju...   \n",
              "\n",
              "            PlaceName  PlaceRating  review_length  \n",
              "0  Ella Jungle Resort          4.0            275  \n",
              "1  Ella Jungle Resort          4.0             61  \n",
              "2  Ella Jungle Resort          4.0            151  "
            ],
            "text/html": [
              "\n",
              "  <div id=\"df-0a7c2236-aef6-4edf-991b-7dcf093228ed\" class=\"colab-df-container\">\n",
              "    <div>\n",
              "<style scoped>\n",
              "    .dataframe tbody tr th:only-of-type {\n",
              "        vertical-align: middle;\n",
              "    }\n",
              "\n",
              "    .dataframe tbody tr th {\n",
              "        vertical-align: top;\n",
              "    }\n",
              "\n",
              "    .dataframe thead th {\n",
              "        text-align: right;\n",
              "    }\n",
              "</style>\n",
              "<table border=\"1\" class=\"dataframe\">\n",
              "  <thead>\n",
              "    <tr style=\"text-align: right;\">\n",
              "      <th></th>\n",
              "      <th>title</th>\n",
              "      <th>lang</th>\n",
              "      <th>Date</th>\n",
              "      <th>rating</th>\n",
              "      <th>helpfulVotes</th>\n",
              "      <th>text</th>\n",
              "      <th>PlaceName</th>\n",
              "      <th>PlaceRating</th>\n",
              "      <th>review_length</th>\n",
              "    </tr>\n",
              "  </thead>\n",
              "  <tbody>\n",
              "    <tr>\n",
              "      <th>0</th>\n",
              "      <td>Terrible experience. Waste of time, money and ...</td>\n",
              "      <td>en</td>\n",
              "      <td>2024-08</td>\n",
              "      <td>1</td>\n",
              "      <td>1</td>\n",
              "      <td>well no big no first of all before booking ple...</td>\n",
              "      <td>Ella Jungle Resort</td>\n",
              "      <td>4.0</td>\n",
              "      <td>275</td>\n",
              "    </tr>\n",
              "    <tr>\n",
              "      <th>1</th>\n",
              "      <td>Ella Jungle resort you should never miss!</td>\n",
              "      <td>en</td>\n",
              "      <td>2022-06</td>\n",
              "      <td>5</td>\n",
              "      <td>1</td>\n",
              "      <td>it is one of the most amazing stay we ever had...</td>\n",
              "      <td>Ella Jungle Resort</td>\n",
              "      <td>4.0</td>\n",
              "      <td>61</td>\n",
              "    </tr>\n",
              "    <tr>\n",
              "      <th>2</th>\n",
              "      <td>Must visit when in Ella</td>\n",
              "      <td>en</td>\n",
              "      <td>2024-10</td>\n",
              "      <td>5</td>\n",
              "      <td>0</td>\n",
              "      <td>i dont why there are negative reviews its a ju...</td>\n",
              "      <td>Ella Jungle Resort</td>\n",
              "      <td>4.0</td>\n",
              "      <td>151</td>\n",
              "    </tr>\n",
              "  </tbody>\n",
              "</table>\n",
              "</div>\n",
              "    <div class=\"colab-df-buttons\">\n",
              "\n",
              "  <div class=\"colab-df-container\">\n",
              "    <button class=\"colab-df-convert\" onclick=\"convertToInteractive('df-0a7c2236-aef6-4edf-991b-7dcf093228ed')\"\n",
              "            title=\"Convert this dataframe to an interactive table.\"\n",
              "            style=\"display:none;\">\n",
              "\n",
              "  <svg xmlns=\"http://www.w3.org/2000/svg\" height=\"24px\" viewBox=\"0 -960 960 960\">\n",
              "    <path d=\"M120-120v-720h720v720H120Zm60-500h600v-160H180v160Zm220 220h160v-160H400v160Zm0 220h160v-160H400v160ZM180-400h160v-160H180v160Zm440 0h160v-160H620v160ZM180-180h160v-160H180v160Zm440 0h160v-160H620v160Z\"/>\n",
              "  </svg>\n",
              "    </button>\n",
              "\n",
              "  <style>\n",
              "    .colab-df-container {\n",
              "      display:flex;\n",
              "      gap: 12px;\n",
              "    }\n",
              "\n",
              "    .colab-df-convert {\n",
              "      background-color: #E8F0FE;\n",
              "      border: none;\n",
              "      border-radius: 50%;\n",
              "      cursor: pointer;\n",
              "      display: none;\n",
              "      fill: #1967D2;\n",
              "      height: 32px;\n",
              "      padding: 0 0 0 0;\n",
              "      width: 32px;\n",
              "    }\n",
              "\n",
              "    .colab-df-convert:hover {\n",
              "      background-color: #E2EBFA;\n",
              "      box-shadow: 0px 1px 2px rgba(60, 64, 67, 0.3), 0px 1px 3px 1px rgba(60, 64, 67, 0.15);\n",
              "      fill: #174EA6;\n",
              "    }\n",
              "\n",
              "    .colab-df-buttons div {\n",
              "      margin-bottom: 4px;\n",
              "    }\n",
              "\n",
              "    [theme=dark] .colab-df-convert {\n",
              "      background-color: #3B4455;\n",
              "      fill: #D2E3FC;\n",
              "    }\n",
              "\n",
              "    [theme=dark] .colab-df-convert:hover {\n",
              "      background-color: #434B5C;\n",
              "      box-shadow: 0px 1px 3px 1px rgba(0, 0, 0, 0.15);\n",
              "      filter: drop-shadow(0px 1px 2px rgba(0, 0, 0, 0.3));\n",
              "      fill: #FFFFFF;\n",
              "    }\n",
              "  </style>\n",
              "\n",
              "    <script>\n",
              "      const buttonEl =\n",
              "        document.querySelector('#df-0a7c2236-aef6-4edf-991b-7dcf093228ed button.colab-df-convert');\n",
              "      buttonEl.style.display =\n",
              "        google.colab.kernel.accessAllowed ? 'block' : 'none';\n",
              "\n",
              "      async function convertToInteractive(key) {\n",
              "        const element = document.querySelector('#df-0a7c2236-aef6-4edf-991b-7dcf093228ed');\n",
              "        const dataTable =\n",
              "          await google.colab.kernel.invokeFunction('convertToInteractive',\n",
              "                                                    [key], {});\n",
              "        if (!dataTable) return;\n",
              "\n",
              "        const docLinkHtml = 'Like what you see? Visit the ' +\n",
              "          '<a target=\"_blank\" href=https://colab.research.google.com/notebooks/data_table.ipynb>data table notebook</a>'\n",
              "          + ' to learn more about interactive tables.';\n",
              "        element.innerHTML = '';\n",
              "        dataTable['output_type'] = 'display_data';\n",
              "        await google.colab.output.renderOutput(dataTable, element);\n",
              "        const docLink = document.createElement('div');\n",
              "        docLink.innerHTML = docLinkHtml;\n",
              "        element.appendChild(docLink);\n",
              "      }\n",
              "    </script>\n",
              "  </div>\n",
              "\n",
              "\n",
              "<div id=\"df-6b26bd67-7c3d-4d13-be43-16a2bc375ba5\">\n",
              "  <button class=\"colab-df-quickchart\" onclick=\"quickchart('df-6b26bd67-7c3d-4d13-be43-16a2bc375ba5')\"\n",
              "            title=\"Suggest charts\"\n",
              "            style=\"display:none;\">\n",
              "\n",
              "<svg xmlns=\"http://www.w3.org/2000/svg\" height=\"24px\"viewBox=\"0 0 24 24\"\n",
              "     width=\"24px\">\n",
              "    <g>\n",
              "        <path d=\"M19 3H5c-1.1 0-2 .9-2 2v14c0 1.1.9 2 2 2h14c1.1 0 2-.9 2-2V5c0-1.1-.9-2-2-2zM9 17H7v-7h2v7zm4 0h-2V7h2v10zm4 0h-2v-4h2v4z\"/>\n",
              "    </g>\n",
              "</svg>\n",
              "  </button>\n",
              "\n",
              "<style>\n",
              "  .colab-df-quickchart {\n",
              "      --bg-color: #E8F0FE;\n",
              "      --fill-color: #1967D2;\n",
              "      --hover-bg-color: #E2EBFA;\n",
              "      --hover-fill-color: #174EA6;\n",
              "      --disabled-fill-color: #AAA;\n",
              "      --disabled-bg-color: #DDD;\n",
              "  }\n",
              "\n",
              "  [theme=dark] .colab-df-quickchart {\n",
              "      --bg-color: #3B4455;\n",
              "      --fill-color: #D2E3FC;\n",
              "      --hover-bg-color: #434B5C;\n",
              "      --hover-fill-color: #FFFFFF;\n",
              "      --disabled-bg-color: #3B4455;\n",
              "      --disabled-fill-color: #666;\n",
              "  }\n",
              "\n",
              "  .colab-df-quickchart {\n",
              "    background-color: var(--bg-color);\n",
              "    border: none;\n",
              "    border-radius: 50%;\n",
              "    cursor: pointer;\n",
              "    display: none;\n",
              "    fill: var(--fill-color);\n",
              "    height: 32px;\n",
              "    padding: 0;\n",
              "    width: 32px;\n",
              "  }\n",
              "\n",
              "  .colab-df-quickchart:hover {\n",
              "    background-color: var(--hover-bg-color);\n",
              "    box-shadow: 0 1px 2px rgba(60, 64, 67, 0.3), 0 1px 3px 1px rgba(60, 64, 67, 0.15);\n",
              "    fill: var(--button-hover-fill-color);\n",
              "  }\n",
              "\n",
              "  .colab-df-quickchart-complete:disabled,\n",
              "  .colab-df-quickchart-complete:disabled:hover {\n",
              "    background-color: var(--disabled-bg-color);\n",
              "    fill: var(--disabled-fill-color);\n",
              "    box-shadow: none;\n",
              "  }\n",
              "\n",
              "  .colab-df-spinner {\n",
              "    border: 2px solid var(--fill-color);\n",
              "    border-color: transparent;\n",
              "    border-bottom-color: var(--fill-color);\n",
              "    animation:\n",
              "      spin 1s steps(1) infinite;\n",
              "  }\n",
              "\n",
              "  @keyframes spin {\n",
              "    0% {\n",
              "      border-color: transparent;\n",
              "      border-bottom-color: var(--fill-color);\n",
              "      border-left-color: var(--fill-color);\n",
              "    }\n",
              "    20% {\n",
              "      border-color: transparent;\n",
              "      border-left-color: var(--fill-color);\n",
              "      border-top-color: var(--fill-color);\n",
              "    }\n",
              "    30% {\n",
              "      border-color: transparent;\n",
              "      border-left-color: var(--fill-color);\n",
              "      border-top-color: var(--fill-color);\n",
              "      border-right-color: var(--fill-color);\n",
              "    }\n",
              "    40% {\n",
              "      border-color: transparent;\n",
              "      border-right-color: var(--fill-color);\n",
              "      border-top-color: var(--fill-color);\n",
              "    }\n",
              "    60% {\n",
              "      border-color: transparent;\n",
              "      border-right-color: var(--fill-color);\n",
              "    }\n",
              "    80% {\n",
              "      border-color: transparent;\n",
              "      border-right-color: var(--fill-color);\n",
              "      border-bottom-color: var(--fill-color);\n",
              "    }\n",
              "    90% {\n",
              "      border-color: transparent;\n",
              "      border-bottom-color: var(--fill-color);\n",
              "    }\n",
              "  }\n",
              "</style>\n",
              "\n",
              "  <script>\n",
              "    async function quickchart(key) {\n",
              "      const quickchartButtonEl =\n",
              "        document.querySelector('#' + key + ' button');\n",
              "      quickchartButtonEl.disabled = true;  // To prevent multiple clicks.\n",
              "      quickchartButtonEl.classList.add('colab-df-spinner');\n",
              "      try {\n",
              "        const charts = await google.colab.kernel.invokeFunction(\n",
              "            'suggestCharts', [key], {});\n",
              "      } catch (error) {\n",
              "        console.error('Error during call to suggestCharts:', error);\n",
              "      }\n",
              "      quickchartButtonEl.classList.remove('colab-df-spinner');\n",
              "      quickchartButtonEl.classList.add('colab-df-quickchart-complete');\n",
              "    }\n",
              "    (() => {\n",
              "      let quickchartButtonEl =\n",
              "        document.querySelector('#df-6b26bd67-7c3d-4d13-be43-16a2bc375ba5 button');\n",
              "      quickchartButtonEl.style.display =\n",
              "        google.colab.kernel.accessAllowed ? 'block' : 'none';\n",
              "    })();\n",
              "  </script>\n",
              "</div>\n",
              "\n",
              "    </div>\n",
              "  </div>\n"
            ],
            "application/vnd.google.colaboratory.intrinsic+json": {
              "type": "dataframe",
              "variable_name": "df_cleaned",
              "summary": "{\n  \"name\": \"df_cleaned\",\n  \"rows\": 8630,\n  \"fields\": [\n    {\n      \"column\": \"title\",\n      \"properties\": {\n        \"dtype\": \"string\",\n        \"num_unique_values\": 7542,\n        \"samples\": [\n          \"Five nights in small hotel on the lake\",\n          \"I had a good day visit here in this hotel\",\n          \"Best lunch buffet experiance\"\n        ],\n        \"semantic_type\": \"\",\n        \"description\": \"\"\n      }\n    },\n    {\n      \"column\": \"lang\",\n      \"properties\": {\n        \"dtype\": \"category\",\n        \"num_unique_values\": 1,\n        \"samples\": [\n          \"en\"\n        ],\n        \"semantic_type\": \"\",\n        \"description\": \"\"\n      }\n    },\n    {\n      \"column\": \"Date\",\n      \"properties\": {\n        \"dtype\": \"object\",\n        \"num_unique_values\": 103,\n        \"samples\": [\n          \"2022-12\"\n        ],\n        \"semantic_type\": \"\",\n        \"description\": \"\"\n      }\n    },\n    {\n      \"column\": \"rating\",\n      \"properties\": {\n        \"dtype\": \"number\",\n        \"std\": 0,\n        \"min\": 1,\n        \"max\": 5,\n        \"num_unique_values\": 5,\n        \"samples\": [\n          5\n        ],\n        \"semantic_type\": \"\",\n        \"description\": \"\"\n      }\n    },\n    {\n      \"column\": \"helpfulVotes\",\n      \"properties\": {\n        \"dtype\": \"number\",\n        \"std\": 1,\n        \"min\": -1,\n        \"max\": 60,\n        \"num_unique_values\": 12,\n        \"samples\": [\n          7\n        ],\n        \"semantic_type\": \"\",\n        \"description\": \"\"\n      }\n    },\n    {\n      \"column\": \"text\",\n      \"properties\": {\n        \"dtype\": \"string\",\n        \"num_unique_values\": 8630,\n        \"samples\": [\n          \"this place is awesome been here more than once and definitely will come back again staff ms kavishka was really helpful and kind too the rooms and common areas are really clean and tidy they have very kind and helpful staff members we all had a great stay here\"\n        ],\n        \"semantic_type\": \"\",\n        \"description\": \"\"\n      }\n    },\n    {\n      \"column\": \"PlaceName\",\n      \"properties\": {\n        \"dtype\": \"category\",\n        \"num_unique_values\": 205,\n        \"samples\": [\n          \"Thambapanni Retreat\"\n        ],\n        \"semantic_type\": \"\",\n        \"description\": \"\"\n      }\n    },\n    {\n      \"column\": \"PlaceRating\",\n      \"properties\": {\n        \"dtype\": \"number\",\n        \"std\": 0.31153763661003003,\n        \"min\": 4.0,\n        \"max\": 5.0,\n        \"num_unique_values\": 3,\n        \"samples\": [\n          4.0\n        ],\n        \"semantic_type\": \"\",\n        \"description\": \"\"\n      }\n    },\n    {\n      \"column\": \"review_length\",\n      \"properties\": {\n        \"dtype\": \"number\",\n        \"std\": 53,\n        \"min\": 31,\n        \"max\": 323,\n        \"num_unique_values\": 289,\n        \"samples\": [\n          75\n        ],\n        \"semantic_type\": \"\",\n        \"description\": \"\"\n      }\n    }\n  ]\n}"
            }
          },
          "metadata": {},
          "execution_count": 34
        }
      ],
      "source": [
        "# Dataset after cleaning\n",
        "df_cleaned.head(3)"
      ]
    },
    {
      "cell_type": "code",
      "execution_count": 35,
      "metadata": {
        "colab": {
          "base_uri": "https://localhost:8080/"
        },
        "id": "4nx8MzQgvEXh",
        "outputId": "70f67619-aa94-48d6-e6a7-e8a590766328"
      },
      "outputs": [
        {
          "output_type": "stream",
          "name": "stdout",
          "text": [
            "            rating  helpfulVotes  PlaceRating\n",
            "count  8630.000000   8630.000000  8630.000000\n",
            "mean      4.682155      0.211935     4.546929\n",
            "std       0.796850      1.073246     0.311538\n",
            "min       1.000000     -1.000000     4.000000\n",
            "25%       5.000000      0.000000     4.500000\n",
            "50%       5.000000      0.000000     4.500000\n",
            "75%       5.000000      0.000000     4.500000\n",
            "max       5.000000     60.000000     5.000000\n"
          ]
        }
      ],
      "source": [
        "# Summary statistics for numerical columns after cleaning\n",
        "print(df_cleaned[['rating', 'helpfulVotes', 'PlaceRating']].describe())\n"
      ]
    },
    {
      "cell_type": "code",
      "execution_count": 36,
      "metadata": {
        "colab": {
          "base_uri": "https://localhost:8080/"
        },
        "id": "m5_RxeuFjZRy",
        "outputId": "2fdc91ed-3acd-4aee-f52d-cfae3d2527f4"
      },
      "outputs": [
        {
          "output_type": "stream",
          "name": "stdout",
          "text": [
            "Number of Hotels: 205\n"
          ]
        }
      ],
      "source": [
        "# Number of hotels in the dataset\n",
        "num_hotels = df_cleaned['PlaceName'].nunique()\n",
        "print(f\"Number of Hotels: {num_hotels}\")\n"
      ]
    },
    {
      "cell_type": "code",
      "execution_count": 37,
      "metadata": {
        "colab": {
          "base_uri": "https://localhost:8080/"
        },
        "id": "PVDw_0_Fjldo",
        "outputId": "9fc6c622-1857-4ad1-bae4-69211df99cc3"
      },
      "outputs": [
        {
          "output_type": "stream",
          "name": "stdout",
          "text": [
            "count    205.000000\n",
            "mean      42.097561\n",
            "std        7.964397\n",
            "min        9.000000\n",
            "25%       38.000000\n",
            "50%       45.000000\n",
            "75%       48.000000\n",
            "max       50.000000\n",
            "dtype: float64\n"
          ]
        }
      ],
      "source": [
        "# Getting the number of reviews\n",
        "reviews_per_hotel = df_cleaned.groupby('PlaceName').size()\n",
        "print(reviews_per_hotel.describe())\n"
      ]
    },
    {
      "cell_type": "code",
      "execution_count": 38,
      "metadata": {
        "colab": {
          "base_uri": "https://localhost:8080/"
        },
        "id": "hSsBjo1EjwsQ",
        "outputId": "193ece2b-7d98-4222-bfc5-67a9c3cfe878"
      },
      "outputs": [
        {
          "output_type": "stream",
          "name": "stdout",
          "text": [
            "Total Words: 716893\n",
            "Unique Words: 19998\n"
          ]
        }
      ],
      "source": [
        "# Split all words in the 'text' column\n",
        "all_words = ' '.join(df_cleaned['text']).split()\n",
        "word_counts = Counter(all_words)\n",
        "\n",
        "# Total words and unique words\n",
        "total_words = len(all_words)\n",
        "unique_words = len(word_counts)\n",
        "\n",
        "print(f\"Total Words: {total_words}\")\n",
        "print(f\"Unique Words: {unique_words}\")\n"
      ]
    },
    {
      "cell_type": "code",
      "execution_count": 39,
      "metadata": {
        "colab": {
          "base_uri": "https://localhost:8080/"
        },
        "id": "-ujvJ0_hDiY_",
        "outputId": "bdba0779-d4b9-457b-b4f2-08db6160442a"
      },
      "outputs": [
        {
          "output_type": "stream",
          "name": "stdout",
          "text": [
            "Most common words\n",
            ": [('the', 46089), ('and', 33340), ('a', 18806), ('to', 17682), ('was', 15067), ('we', 11870), ('of', 10204), ('is', 9938), ('in', 9282), ('for', 8737)]\n"
          ]
        }
      ],
      "source": [
        "# Printing the most common 10 words and the count of each word\n",
        "print(f'Most common words\\n: {word_counts.most_common(10)}')"
      ]
    },
    {
      "cell_type": "code",
      "execution_count": 40,
      "metadata": {
        "colab": {
          "base_uri": "https://localhost:8080/",
          "height": 422
        },
        "id": "a9QFHRvH0kng",
        "outputId": "e4ba0967-c731-4af1-f465-a3b3133de8c9"
      },
      "outputs": [
        {
          "output_type": "display_data",
          "data": {
            "text/plain": [
              "<Figure size 1000x500 with 1 Axes>"
            ],
            "image/png": "[encoded data removed]"
          },
          "metadata": {}
        }
      ],
      "source": [
        "# Generating the word cloud\n",
        "wordcloud = WordCloud(width=800, height=400, background_color='white').generate(' '.join(all_words))\n",
        "\n",
        "# Displaying the word cloud\n",
        "plt.figure(figsize=(10, 5))\n",
        "plt.imshow(wordcloud, interpolation='bilinear')\n",
        "plt.axis('off')  # Hide axes for a cleaner look\n",
        "plt.show()"
      ]
    },
    {
      "cell_type": "markdown",
      "metadata": {
        "id": "QReOkJWQofKc"
      },
      "source": [
        "Histogram of Rating Distribution"
      ]
    },
    {
      "cell_type": "code",
      "execution_count": 41,
      "metadata": {
        "colab": {
          "base_uri": "https://localhost:8080/",
          "height": 564
        },
        "id": "lRcqqo53vxDj",
        "outputId": "bc0d1b87-330b-4d8e-f21d-5db52d7c6896"
      },
      "outputs": [
        {
          "output_type": "display_data",
          "data": {
            "text/plain": [
              "<Figure size 800x600 with 1 Axes>"
            ],
            "image/png": "[encoded data removed]"
          },
          "metadata": {}
        }
      ],
      "source": [
        "# Plotting the histogram of rating distribution\n",
        "plt.figure(figsize=(8, 6))\n",
        "sns.histplot(df_cleaned['rating'], bins=5, kde=True, color='purple')\n",
        "plt.title(\"Distribution of Ratings\")\n",
        "plt.xlabel(\"Rating\")\n",
        "plt.ylabel(\"Frequency\")\n",
        "plt.show()"
      ]
    },
    {
      "cell_type": "markdown",
      "metadata": {
        "id": "C1FMhlSrbaNp"
      },
      "source": [
        "Rating distribution as pie chart"
      ]
    },
    {
      "cell_type": "code",
      "execution_count": 42,
      "metadata": {
        "colab": {
          "base_uri": "https://localhost:8080/",
          "height": 428
        },
        "id": "EHoOeYR-Z_uF",
        "outputId": "410e27cd-71ad-45ed-e49d-35a408901ecb"
      },
      "outputs": [
        {
          "output_type": "display_data",
          "data": {
            "text/plain": [
              "<Figure size 640x480 with 1 Axes>"
            ],
            "image/png": "[encoded data removed]"
          },
          "metadata": {}
        }
      ],
      "source": [
        "# Plotting the rating distribution as a pie chart\n",
        "ratings_counts = df_cleaned['rating'].value_counts()\n",
        "plt.pie(ratings_counts, labels=ratings_counts.index, autopct='%1.1f%%', startangle=90)\n",
        "plt.title('Rating Distribution - Pie Chart')\n",
        "plt.legend( loc = 'upper right', bbox_to_anchor=(1.2, 1))\n",
        "plt.show()\n"
      ]
    },
    {
      "cell_type": "markdown",
      "metadata": {
        "id": "1GcYX9nNgBZv"
      },
      "source": [
        "Seasonal Trends: Average Rating by Month and Year"
      ]
    },
    {
      "cell_type": "code",
      "execution_count": 43,
      "metadata": {
        "id": "eA9NDPpIec7f"
      },
      "outputs": [],
      "source": [
        "# Converting 'Date' to datetime format and extract the month and year into new columns\n",
        "df_cleaned['Date'] = pd.to_datetime(df_cleaned['Date'])\n",
        "df_cleaned['month'] = df_cleaned['Date'].dt.month\n",
        "df_cleaned['year'] = df_cleaned['Date'].dt.year"
      ]
    },
    {
      "cell_type": "code",
      "execution_count": 44,
      "metadata": {
        "colab": {
          "base_uri": "https://localhost:8080/",
          "height": 718
        },
        "id": "9rJOMr84fqSn",
        "outputId": "949af14b-2a2e-4bc2-8908-20111745605e"
      },
      "outputs": [
        {
          "output_type": "display_data",
          "data": {
            "text/plain": [
              "<Figure size 1200x800 with 2 Axes>"
            ],
            "image/png": "[encoded data removed]"
          },
          "metadata": {}
        }
      ],
      "source": [
        "# Grouping by year and month, and get the average rating\n",
        "monthly_yearly_ratings = df_cleaned.groupby(['year', 'month'])['rating'].mean().unstack()\n",
        "\n",
        "# Plotting heatmap\n",
        "plt.figure(figsize=(12, 8))\n",
        "sns.heatmap(monthly_yearly_ratings, annot=True, cmap='coolwarm', fmt='.2f')\n",
        "plt.title('Seasonal Trends: Average Rating by Month and Year')\n",
        "plt.xlabel('Month')\n",
        "plt.ylabel('Year')\n",
        "plt.show()\n"
      ]
    },
    {
      "cell_type": "code",
      "execution_count": 45,
      "metadata": {
        "id": "npuHwhGwhKwm"
      },
      "outputs": [],
      "source": [
        "# Dropping the columns\n",
        "columns_to_drop = ['year','month']\n",
        "df_cleaned.drop(columns=columns_to_drop, inplace=True)"
      ]
    },
    {
      "cell_type": "markdown",
      "metadata": {
        "id": "K-G9CjfnZZjF"
      },
      "source": [
        "Effectiveness of the different (subword) tokenization schemes"
      ]
    },
    {
      "cell_type": "code",
      "execution_count": 46,
      "metadata": {
        "id": "VJNKyM4RQI4u"
      },
      "outputs": [],
      "source": [
        "# Sample 2 reviews from 'df_cleaned' for testing tokenization methods with NLTK, SpaCy, GPT-2, and BERT;\n",
        "# each function tokenizes text, removing stopwords where applicable for NLTK and SpaCy.\n",
        "sample_df = df_cleaned.sample(n=2, random_state=42)  # 2 reviews from the  df\n",
        "\n",
        "# Tokenization and stopword removal functions\n",
        "def nltk_tokenization_stopwords(text):\n",
        "    stop_words_nltk = set(stopwords.words('english'))\n",
        "    tokenized_corpus_nltk = word_tokenize(text)\n",
        "    tokenized_corpus_without_stopwords_nltk = [word for word in tokenized_corpus_nltk if word.lower() not in stop_words_nltk]\n",
        "    return tokenized_corpus_without_stopwords_nltk\n",
        "\n",
        "def spacy_tokenization_stopwords(text):\n",
        "    spacy_model = spacy.load('en_core_web_sm')\n",
        "    stopwords_spacy = spacy_model.Defaults.stop_words\n",
        "    tokenized_corpus_spacy = [token.text for token in spacy_model(text)]\n",
        "    tokenized_corpus_without_stopwords_spacy = [word for word in tokenized_corpus_spacy if word.lower() not in stopwords_spacy]\n",
        "    return tokenized_corpus_without_stopwords_spacy\n",
        "\n",
        "def gpt2_tokenization(text):\n",
        "    gpt2_tokenizer = GPT2Tokenizer.from_pretrained(\"gpt2\")\n",
        "    gpt2_tokens = gpt2_tokenizer.tokenize(text)\n",
        "    return gpt2_tokens\n",
        "\n",
        "def bert_tokenization(text):\n",
        "    bert_tokenizer = BertTokenizer.from_pretrained(\"bert-base-uncased\")\n",
        "    bert_tokens = bert_tokenizer.tokenize(text)\n",
        "    return bert_tokens"
      ]
    },
    {
      "cell_type": "code",
      "execution_count": 47,
      "metadata": {
        "colab": {
          "base_uri": "https://localhost:8080/",
          "height": 429,
          "referenced_widgets": [
            "ca1da526b5da4df4bea5d8793c77aa0b",
            "0e3376e671ff4fbfbfa92e71bf5e0f1c",
            "3bbe63fc9e8a4c4c9b86067e80a2d342",
            "bf379296c9fb40f683281ffb518f1b3a",
            "d88ca764da534164bdb072b46566bb01",
            "ae1b7d440f604597b463aa953ffcaa5a",
            "85211a6a74f4490297ee54183f6bffba",
            "0ec3b2aa11124cb0b043a7a28476dfa9",
            "18e79a8625774baf895dfeb49f39d606",
            "9babe6e4daac463bb97a29135cf45d27",
            "381bfaf9362a415f82e7c33729d505d0",
            "a9b83eafbfd44946bb17c1e5d14115ff",
            "2595b55a582848ef884a631598a9ac22",
            "694252e4206045b4b942c2614e1f51dc",
            "f803eb2ac4bb4abaaa16b3f2b3b047ce",
            "34e2b97a0f954cc5ba96956f0933daf1",
            "958306e971ba46ea81ae8299ad6ee322",
            "10513b2c5cf94ac0a9eb3bf401851959",
            "c64f900c0fd845798d2073eab41fd02e",
            "b554436f5f2a41989da52da4e97ba8e2",
            "993390f95b534058b69f3dde0b0cea66",
            "c94acf06554240e7a64c1c3b1f69074c",
            "f9c3ce1a02604cb8b76db0d9493c1008",
            "cf82d02d2d414a439ff2e05ca43681d0",
            "ee3e1bc5866a4ee1a879fd08657725aa",
            "06d5a3aedbe34e7f98e2465b924c6b13",
            "d01f9574fca444a0ac7c89f106386404",
            "89e2943058e14a73b5f1faa58118e2fb",
            "f10332e006a245d1adf95fa0b7b9ea04",
            "315f1b47dbbc4ca5b8db55d04dca5465",
            "213f8e6f30704a5caba3890462c6b986",
            "ea932ba05c7f43179017b412829b4b67",
            "fff99ad3a46c4a5489dd75919aa8e3a3",
            "bd7816f222834c8e9f2616bf7b4d530e",
            "ce4c430d63414ed38222f7302549099d",
            "2bc3dce5bc554e5a9931a5976a175bd5",
            "c0719e5142ed46489caacc1bf21181d7",
            "33d41cfe79ac4c3ca7f8b13ee13d0f40",
            "0d75a6d792e4439ba54e20b710bf6c3f",
            "4050d266409d4519b74f63c4844dbde6",
            "efb3b1aa907241768688a3af068412c9",
            "d85a84d0d5704327aec2b0737231eb54",
            "2b97b71ace01482e98756b8d9ff0d66f",
            "41c0ef2afbad4edfa9ee793393ac6dc7",
            "3b684e08086b4b829417dca80ced5597",
            "22d75248493747409832bdaec9cacc67",
            "7432afac34964388b8faa5444cf7a6f0",
            "ff323bf8aa6c4df79eef39739805305f",
            "41e2a3f3b09a4cdfb1d129ae711370b4",
            "ba606366e76449628c8f4fbd374a4a52",
            "b6d22753be7c4dc3bbc99e6dd8782780",
            "866b4b42072a4a1f940a82ddb80a56c7",
            "d4a4e2a4e4f84df88c8dd10a7957ac40",
            "1aa418acde354d2b8c15570bcd7652a9",
            "23f593f48ded46a9a07fcb7254039f02",
            "9c084392edd840d0a5c075f4f0908a93",
            "334a07fd57e14489853dd3e5e5700a6d",
            "63142e6904124fbf8c9019f2c42a60d2",
            "78e5127e61c74d4cbf0cc3563e9fb19d",
            "8e7b28014ecf4ef1a957407722b072b7",
            "06cb3e97a9b44cfcac7bc5545d0baa6a",
            "c19699af0c1245f59e1be310ecdc296a",
            "009bb4ded3904a189c8aabe31019eb4e",
            "ede7384dcc3342b68ffde1aba1d0d6fa",
            "bf8401461317469e984b0b5b323eb615",
            "ec5b402f0e2a40d890bb9d2de1c70a3e",
            "d19dbf50be2249449e64b2e3ce6f10b7",
            "b3e0d3400dc849a9ba98b504e99a95a4",
            "9ab8240050dd4e499f9c670c6503f4cd",
            "b85eea355a444599b3dc272268d8a63f",
            "ff03a02b5ef94106a20cd09232fb2d0c",
            "0147b502f934471bb4fbdfbe5c5f1bb8",
            "e5021f422c44454fa35f4f896ad52230",
            "b3eaf74d955c4390b959c1a3800291eb",
            "ede9e1e664794b61a06df49fc9951e1d",
            "f33b488f80254f34b6ca650a5c411c41",
            "21c6c10211a34cbb9bb30aaf03682b34",
            "b24c8af370ff43beb0446e8555bf05a2",
            "3a4c8e361172495a8277d12bb5b6cd01",
            "af68b310694d439389451806c25ae49f",
            "6f647cd8af3b4558bee2e8e904dc73ad",
            "3803e81a811046d0b9f20908f849ca08",
            "49710a8860c94b23aceeabe8021e4f5a",
            "9558e4e6794f444e94f552ba260fd10c",
            "5cfdaf613a2e46078e1b453b636ad71c",
            "ba01f1b08f31495db12ec6acc47f0184",
            "479880c38c9d4f9cb532b27a7279a41d",
            "ff7a0148ef004efc888cc696ec6cfba8",
            "3108521f884b4629b10c8f984333efda",
            "0da015dcf0cf42eaa11debee731a9b66",
            "a81f410aa14c4a00844bd7248ab98b83",
            "e994eed63b4e47d38ddb4943a2cc560a",
            "0f03d410a8754e06b9b037b736e047b5",
            "e75469953b0f45bab861a8549556a70a",
            "e2a286a7c13346bc8d628fd586e5813e",
            "0fc94ede8ec34257ab710c8b52a4db51",
            "cd6017de401444bfb6edcfc73bedf9b5",
            "e232557d1681491ca0baa7518f392a49",
            "dff7632e1b0a4fb893f4eb94bf852952"
          ]
        },
        "id": "PS2k7kVobHsU",
        "outputId": "4e62766e-56a4-426b-ddd0-4b77109e7c5e"
      },
      "outputs": [
        {
          "output_type": "stream",
          "name": "stderr",
          "text": [
            "/usr/local/lib/python3.10/dist-packages/huggingface_hub/utils/_auth.py:94: UserWarning: \n",
            "The secret `HF_TOKEN` does not exist in your Colab secrets.\n",
            "To authenticate with the Hugging Face Hub, create a token in your settings tab (https://huggingface.co/settings/tokens), set it as secret in your Google Colab and restart your session.\n",
            "You will be able to reuse this secret in all of your notebooks.\n",
            "Please note that authentication is recommended but still optional to access public models or datasets.\n",
            "  warnings.warn(\n"
          ]
        },
        {
          "output_type": "display_data",
          "data": {
            "text/plain": [
              "tokenizer_config.json:   0%|          | 0.00/26.0 [00:00<?, ?B/s]"
            ],
            "application/vnd.jupyter.widget-view+json": {
              "version_major": 2,
              "version_minor": 0,
              "model_id": "ca1da526b5da4df4bea5d8793c77aa0b"
            }
          },
          "metadata": {}
        },
        {
          "output_type": "display_data",
          "data": {
            "text/plain": [
              "vocab.json:   0%|          | 0.00/1.04M [00:00<?, ?B/s]"
            ],
            "application/vnd.jupyter.widget-view+json": {
              "version_major": 2,
              "version_minor": 0,
              "model_id": "a9b83eafbfd44946bb17c1e5d14115ff"
            }
          },
          "metadata": {}
        },
        {
          "output_type": "display_data",
          "data": {
            "text/plain": [
              "merges.txt:   0%|          | 0.00/456k [00:00<?, ?B/s]"
            ],
            "application/vnd.jupyter.widget-view+json": {
              "version_major": 2,
              "version_minor": 0,
              "model_id": "f9c3ce1a02604cb8b76db0d9493c1008"
            }
          },
          "metadata": {}
        },
        {
          "output_type": "display_data",
          "data": {
            "text/plain": [
              "tokenizer.json:   0%|          | 0.00/1.36M [00:00<?, ?B/s]"
            ],
            "application/vnd.jupyter.widget-view+json": {
              "version_major": 2,
              "version_minor": 0,
              "model_id": "bd7816f222834c8e9f2616bf7b4d530e"
            }
          },
          "metadata": {}
        },
        {
          "output_type": "display_data",
          "data": {
            "text/plain": [
              "config.json:   0%|          | 0.00/665 [00:00<?, ?B/s]"
            ],
            "application/vnd.jupyter.widget-view+json": {
              "version_major": 2,
              "version_minor": 0,
              "model_id": "3b684e08086b4b829417dca80ced5597"
            }
          },
          "metadata": {}
        },
        {
          "output_type": "display_data",
          "data": {
            "text/plain": [
              "tokenizer_config.json:   0%|          | 0.00/48.0 [00:00<?, ?B/s]"
            ],
            "application/vnd.jupyter.widget-view+json": {
              "version_major": 2,
              "version_minor": 0,
              "model_id": "9c084392edd840d0a5c075f4f0908a93"
            }
          },
          "metadata": {}
        },
        {
          "output_type": "display_data",
          "data": {
            "text/plain": [
              "vocab.txt:   0%|          | 0.00/232k [00:00<?, ?B/s]"
            ],
            "application/vnd.jupyter.widget-view+json": {
              "version_major": 2,
              "version_minor": 0,
              "model_id": "d19dbf50be2249449e64b2e3ce6f10b7"
            }
          },
          "metadata": {}
        },
        {
          "output_type": "display_data",
          "data": {
            "text/plain": [
              "tokenizer.json:   0%|          | 0.00/466k [00:00<?, ?B/s]"
            ],
            "application/vnd.jupyter.widget-view+json": {
              "version_major": 2,
              "version_minor": 0,
              "model_id": "b24c8af370ff43beb0446e8555bf05a2"
            }
          },
          "metadata": {}
        },
        {
          "output_type": "display_data",
          "data": {
            "text/plain": [
              "config.json:   0%|          | 0.00/570 [00:00<?, ?B/s]"
            ],
            "application/vnd.jupyter.widget-view+json": {
              "version_major": 2,
              "version_minor": 0,
              "model_id": "3108521f884b4629b10c8f984333efda"
            }
          },
          "metadata": {}
        }
      ],
      "source": [
        "# Applying tokenization methods to the sample review dataset\n",
        "sample_df['nltk_tokens'] = sample_df['text'].apply(nltk_tokenization_stopwords)\n",
        "sample_df['spacy_tokens'] = sample_df['text'].apply(spacy_tokenization_stopwords)\n",
        "sample_df['gpt2_tokens'] = sample_df['text'].apply(gpt2_tokenization)\n",
        "sample_df['bert_tokens'] = sample_df['text'].apply(bert_tokenization)"
      ]
    },
    {
      "cell_type": "code",
      "execution_count": 48,
      "metadata": {
        "colab": {
          "base_uri": "https://localhost:8080/"
        },
        "id": "TJ7qJ3d3bJpe",
        "outputId": "e137eb04-4891-4ae7-8ef4-5970765615fc"
      },
      "outputs": [
        {
          "output_type": "stream",
          "name": "stdout",
          "text": [
            "Tokenization Comparison:\n",
            "\n",
            "Original Review Text:\n",
            "this place is awesome been here more than once and definitely will come back again staff ms kavishka was really helpful and kind too the rooms and common areas are really clean and tidy they have very kind and helpful staff members we all had a great stay here\n",
            "\n",
            "NLTK Tokens (with stopwords removed):\n",
            "['place', 'awesome', 'definitely', 'come', 'back', 'staff', 'ms', 'kavishka', 'really', 'helpful', 'kind', 'rooms', 'common', 'areas', 'really', 'clean', 'tidy', 'kind', 'helpful', 'staff', 'members', 'great', 'stay']\n",
            "\n",
            "spaCy Tokens (with stopwords removed):\n",
            "['place', 'awesome', 'definitely', 'come', 'staff', 'ms', 'kavishka', 'helpful', 'kind', 'rooms', 'common', 'areas', 'clean', 'tidy', 'kind', 'helpful', 'staff', 'members', 'great', 'stay']\n",
            "\n",
            "GPT-2 Tokens (Byte-Pair Encoding):\n",
            "['this', 'Ġplace', 'Ġis', 'Ġawesome', 'Ġbeen', 'Ġhere', 'Ġmore', 'Ġthan', 'Ġonce', 'Ġand', 'Ġdefinitely', 'Ġwill', 'Ġcome', 'Ġback', 'Ġagain', 'Ġstaff', 'Ġms', 'Ġk', 'av', 'ish', 'ka', 'Ġwas', 'Ġreally', 'Ġhelpful', 'Ġand', 'Ġkind', 'Ġtoo', 'Ġthe', 'Ġrooms', 'Ġand', 'Ġcommon', 'Ġareas', 'Ġare', 'Ġreally', 'Ġclean', 'Ġand', 'Ġtidy', 'Ġthey', 'Ġhave', 'Ġvery', 'Ġkind', 'Ġand', 'Ġhelpful', 'Ġstaff', 'Ġmembers', 'Ġwe', 'Ġall', 'Ġhad', 'Ġa', 'Ġgreat', 'Ġstay', 'Ġhere']\n",
            "\n",
            "BERT Tokens (WordPiece):\n",
            "['this', 'place', 'is', 'awesome', 'been', 'here', 'more', 'than', 'once', 'and', 'definitely', 'will', 'come', 'back', 'again', 'staff', 'ms', 'ka', '##vish', '##ka', 'was', 'really', 'helpful', 'and', 'kind', 'too', 'the', 'rooms', 'and', 'common', 'areas', 'are', 'really', 'clean', 'and', 'tidy', 'they', 'have', 'very', 'kind', 'and', 'helpful', 'staff', 'members', 'we', 'all', 'had', 'a', 'great', 'stay', 'here']\n",
            "\n",
            "Original Review Text:\n",
            "beautiful hotel imasha at the restaurant provided excellent service as with all the staff sri lankan food best so far excellent facilities with character and appeal history is incredible eat curry so far on out trip excellent location\n",
            "\n",
            "NLTK Tokens (with stopwords removed):\n",
            "['beautiful', 'hotel', 'imasha', 'restaurant', 'provided', 'excellent', 'service', 'staff', 'sri', 'lankan', 'food', 'best', 'far', 'excellent', 'facilities', 'character', 'appeal', 'history', 'incredible', 'eat', 'curry', 'far', 'trip', 'excellent', 'location']\n",
            "\n",
            "spaCy Tokens (with stopwords removed):\n",
            "['beautiful', 'hotel', 'imasha', 'restaurant', 'provided', 'excellent', 'service', 'staff', 'sri', 'lankan', 'food', 'best', 'far', 'excellent', 'facilities', 'character', 'appeal', 'history', 'incredible', 'eat', 'curry', 'far', 'trip', 'excellent', 'location']\n",
            "\n",
            "GPT-2 Tokens (Byte-Pair Encoding):\n",
            "['beaut', 'iful', 'Ġhotel', 'Ġim', 'asha', 'Ġat', 'Ġthe', 'Ġrestaurant', 'Ġprovided', 'Ġexcellent', 'Ġservice', 'Ġas', 'Ġwith', 'Ġall', 'Ġthe', 'Ġstaff', 'Ġs', 'ri', 'Ġl', 'ank', 'an', 'Ġfood', 'Ġbest', 'Ġso', 'Ġfar', 'Ġexcellent', 'Ġfacilities', 'Ġwith', 'Ġcharacter', 'Ġand', 'Ġappeal', 'Ġhistory', 'Ġis', 'Ġincredible', 'Ġeat', 'Ġcurry', 'Ġso', 'Ġfar', 'Ġon', 'Ġout', 'Ġtrip', 'Ġexcellent', 'Ġlocation']\n",
            "\n",
            "BERT Tokens (WordPiece):\n",
            "['beautiful', 'hotel', 'im', '##ash', '##a', 'at', 'the', 'restaurant', 'provided', 'excellent', 'service', 'as', 'with', 'all', 'the', 'staff', 'sri', 'lankan', 'food', 'best', 'so', 'far', 'excellent', 'facilities', 'with', 'character', 'and', 'appeal', 'history', 'is', 'incredible', 'eat', 'curry', 'so', 'far', 'on', 'out', 'trip', 'excellent', 'location']\n"
          ]
        }
      ],
      "source": [
        "# Printing the tokenization comparison for the sampled dataset\n",
        "print(\"Tokenization Comparison:\")\n",
        "for index, row in sample_df.iterrows():\n",
        "    print(\"\\nOriginal Review Text:\")\n",
        "    print(row['text'])\n",
        "    print(\"\\nNLTK Tokens (with stopwords removed):\")\n",
        "    print(row['nltk_tokens'])\n",
        "    print(\"\\nspaCy Tokens (with stopwords removed):\")\n",
        "    print(row['spacy_tokens'])\n",
        "    print(\"\\nGPT-2 Tokens (Byte-Pair Encoding):\")\n",
        "    print(row['gpt2_tokens'])\n",
        "    print(\"\\nBERT Tokens (WordPiece):\")\n",
        "    print(row['bert_tokens'])"
      ]
    },
    {
      "cell_type": "code",
      "execution_count": 49,
      "metadata": {
        "id": "uVCEE8RNiY1E"
      },
      "outputs": [],
      "source": [
        "# Writing cleaned dataset to csv file\n",
        "df_cleaned.to_csv('cleaned_dataset.csv', index=False)"
      ]
    },
    {
      "cell_type": "markdown",
      "metadata": {
        "id": "ZfTmU_PzdJMe"
      },
      "source": [
        "Explain the challenges encountered and the observations based on the output above"
      ]
    },
    {
      "cell_type": "markdown",
      "metadata": {
        "id": "AvNvyG4BtRGH"
      },
      "source": [
        "\n",
        "\n",
        "---\n",
        "\n"
      ]
    },
    {
      "cell_type": "markdown",
      "metadata": {
        "id": "Ou5mYAKRCnwA"
      },
      "source": [
        "### Answer to Task 2\n",
        "\n",
        "Describe the classification dataset, its dimensions, preprocessing steps, numbers of classes taken for classification, the which feature extraction techniques were performed."
      ]
    },
    {
      "cell_type": "code",
      "execution_count": 50,
      "metadata": {
        "id": "kSIHuoS5sWN_",
        "colab": {
          "base_uri": "https://localhost:8080/",
          "height": 304
        },
        "outputId": "da9a52f5-48dc-400c-f2bd-6f88a13f07a6"
      },
      "outputs": [
        {
          "output_type": "error",
          "ename": "FileNotFoundError",
          "evalue": "[Errno 2] No such file or directory: '/content/drive/MyDrive/NLP CW/cleaned_dataset.csv'",
          "traceback": [
            "\u001b[0;31m---------------------------------------------------------------------------\u001b[0m",
            "\u001b[0;31mFileNotFoundError\u001b[0m                         Traceback (most recent call last)",
            "\u001b[0;32m<ipython-input-50-be802a5666f4>\u001b[0m in \u001b[0;36m<cell line: 2>\u001b[0;34m()\u001b[0m\n\u001b[1;32m      1\u001b[0m \u001b[0;31m#Load the cleaned dataset\u001b[0m\u001b[0;34m\u001b[0m\u001b[0;34m\u001b[0m\u001b[0m\n\u001b[0;32m----> 2\u001b[0;31m \u001b[0mdf\u001b[0m \u001b[0;34m=\u001b[0m \u001b[0mpd\u001b[0m\u001b[0;34m.\u001b[0m\u001b[0mread_csv\u001b[0m\u001b[0;34m(\u001b[0m\u001b[0;34m'/content/drive/MyDrive/NLP CW/cleaned_dataset.csv'\u001b[0m\u001b[0;34m)\u001b[0m\u001b[0;34m\u001b[0m\u001b[0;34m\u001b[0m\u001b[0m\n\u001b[0m",
            "\u001b[0;32m/usr/local/lib/python3.10/dist-packages/pandas/io/parsers/readers.py\u001b[0m in \u001b[0;36mread_csv\u001b[0;34m(filepath_or_buffer, sep, delimiter, header, names, index_col, usecols, dtype, engine, converters, true_values, false_values, skipinitialspace, skiprows, skipfooter, nrows, na_values, keep_default_na, na_filter, verbose, skip_blank_lines, parse_dates, infer_datetime_format, keep_date_col, date_parser, date_format, dayfirst, cache_dates, iterator, chunksize, compression, thousands, decimal, lineterminator, quotechar, quoting, doublequote, escapechar, comment, encoding, encoding_errors, dialect, on_bad_lines, delim_whitespace, low_memory, memory_map, float_precision, storage_options, dtype_backend)\u001b[0m\n\u001b[1;32m   1024\u001b[0m     \u001b[0mkwds\u001b[0m\u001b[0;34m.\u001b[0m\u001b[0mupdate\u001b[0m\u001b[0;34m(\u001b[0m\u001b[0mkwds_defaults\u001b[0m\u001b[0;34m)\u001b[0m\u001b[0;34m\u001b[0m\u001b[0;34m\u001b[0m\u001b[0m\n\u001b[1;32m   1025\u001b[0m \u001b[0;34m\u001b[0m\u001b[0m\n\u001b[0;32m-> 1026\u001b[0;31m     \u001b[0;32mreturn\u001b[0m \u001b[0m_read\u001b[0m\u001b[0;34m(\u001b[0m\u001b[0mfilepath_or_buffer\u001b[0m\u001b[0;34m,\u001b[0m \u001b[0mkwds\u001b[0m\u001b[0;34m)\u001b[0m\u001b[0;34m\u001b[0m\u001b[0;34m\u001b[0m\u001b[0m\n\u001b[0m\u001b[1;32m   1027\u001b[0m \u001b[0;34m\u001b[0m\u001b[0m\n\u001b[1;32m   1028\u001b[0m \u001b[0;34m\u001b[0m\u001b[0m\n",
            "\u001b[0;32m/usr/local/lib/python3.10/dist-packages/pandas/io/parsers/readers.py\u001b[0m in \u001b[0;36m_read\u001b[0;34m(filepath_or_buffer, kwds)\u001b[0m\n\u001b[1;32m    618\u001b[0m \u001b[0;34m\u001b[0m\u001b[0m\n\u001b[1;32m    619\u001b[0m     \u001b[0;31m# Create the parser.\u001b[0m\u001b[0;34m\u001b[0m\u001b[0;34m\u001b[0m\u001b[0m\n\u001b[0;32m--> 620\u001b[0;31m     \u001b[0mparser\u001b[0m \u001b[0;34m=\u001b[0m \u001b[0mTextFileReader\u001b[0m\u001b[0;34m(\u001b[0m\u001b[0mfilepath_or_buffer\u001b[0m\u001b[0;34m,\u001b[0m \u001b[0;34m**\u001b[0m\u001b[0mkwds\u001b[0m\u001b[0;34m)\u001b[0m\u001b[0;34m\u001b[0m\u001b[0;34m\u001b[0m\u001b[0m\n\u001b[0m\u001b[1;32m    621\u001b[0m \u001b[0;34m\u001b[0m\u001b[0m\n\u001b[1;32m    622\u001b[0m     \u001b[0;32mif\u001b[0m \u001b[0mchunksize\u001b[0m \u001b[0;32mor\u001b[0m \u001b[0miterator\u001b[0m\u001b[0;34m:\u001b[0m\u001b[0;34m\u001b[0m\u001b[0;34m\u001b[0m\u001b[0m\n",
            "\u001b[0;32m/usr/local/lib/python3.10/dist-packages/pandas/io/parsers/readers.py\u001b[0m in \u001b[0;36m__init__\u001b[0;34m(self, f, engine, **kwds)\u001b[0m\n\u001b[1;32m   1618\u001b[0m \u001b[0;34m\u001b[0m\u001b[0m\n\u001b[1;32m   1619\u001b[0m         \u001b[0mself\u001b[0m\u001b[0;34m.\u001b[0m\u001b[0mhandles\u001b[0m\u001b[0;34m:\u001b[0m \u001b[0mIOHandles\u001b[0m \u001b[0;34m|\u001b[0m \u001b[0;32mNone\u001b[0m \u001b[0;34m=\u001b[0m \u001b[0;32mNone\u001b[0m\u001b[0;34m\u001b[0m\u001b[0;34m\u001b[0m\u001b[0m\n\u001b[0;32m-> 1620\u001b[0;31m         \u001b[0mself\u001b[0m\u001b[0;34m.\u001b[0m\u001b[0m_engine\u001b[0m \u001b[0;34m=\u001b[0m \u001b[0mself\u001b[0m\u001b[0;34m.\u001b[0m\u001b[0m_make_engine\u001b[0m\u001b[0;34m(\u001b[0m\u001b[0mf\u001b[0m\u001b[0;34m,\u001b[0m \u001b[0mself\u001b[0m\u001b[0;34m.\u001b[0m\u001b[0mengine\u001b[0m\u001b[0;34m)\u001b[0m\u001b[0;34m\u001b[0m\u001b[0;34m\u001b[0m\u001b[0m\n\u001b[0m\u001b[1;32m   1621\u001b[0m \u001b[0;34m\u001b[0m\u001b[0m\n\u001b[1;32m   1622\u001b[0m     \u001b[0;32mdef\u001b[0m \u001b[0mclose\u001b[0m\u001b[0;34m(\u001b[0m\u001b[0mself\u001b[0m\u001b[0;34m)\u001b[0m \u001b[0;34m->\u001b[0m \u001b[0;32mNone\u001b[0m\u001b[0;34m:\u001b[0m\u001b[0;34m\u001b[0m\u001b[0;34m\u001b[0m\u001b[0m\n",
            "\u001b[0;32m/usr/local/lib/python3.10/dist-packages/pandas/io/parsers/readers.py\u001b[0m in \u001b[0;36m_make_engine\u001b[0;34m(self, f, engine)\u001b[0m\n\u001b[1;32m   1878\u001b[0m                 \u001b[0;32mif\u001b[0m \u001b[0;34m\"b\"\u001b[0m \u001b[0;32mnot\u001b[0m \u001b[0;32min\u001b[0m \u001b[0mmode\u001b[0m\u001b[0;34m:\u001b[0m\u001b[0;34m\u001b[0m\u001b[0;34m\u001b[0m\u001b[0m\n\u001b[1;32m   1879\u001b[0m                     \u001b[0mmode\u001b[0m \u001b[0;34m+=\u001b[0m \u001b[0;34m\"b\"\u001b[0m\u001b[0;34m\u001b[0m\u001b[0;34m\u001b[0m\u001b[0m\n\u001b[0;32m-> 1880\u001b[0;31m             self.handles = get_handle(\n\u001b[0m\u001b[1;32m   1881\u001b[0m                 \u001b[0mf\u001b[0m\u001b[0;34m,\u001b[0m\u001b[0;34m\u001b[0m\u001b[0;34m\u001b[0m\u001b[0m\n\u001b[1;32m   1882\u001b[0m                 \u001b[0mmode\u001b[0m\u001b[0;34m,\u001b[0m\u001b[0;34m\u001b[0m\u001b[0;34m\u001b[0m\u001b[0m\n",
            "\u001b[0;32m/usr/local/lib/python3.10/dist-packages/pandas/io/common.py\u001b[0m in \u001b[0;36mget_handle\u001b[0;34m(path_or_buf, mode, encoding, compression, memory_map, is_text, errors, storage_options)\u001b[0m\n\u001b[1;32m    871\u001b[0m         \u001b[0;32mif\u001b[0m \u001b[0mioargs\u001b[0m\u001b[0;34m.\u001b[0m\u001b[0mencoding\u001b[0m \u001b[0;32mand\u001b[0m \u001b[0;34m\"b\"\u001b[0m \u001b[0;32mnot\u001b[0m \u001b[0;32min\u001b[0m \u001b[0mioargs\u001b[0m\u001b[0;34m.\u001b[0m\u001b[0mmode\u001b[0m\u001b[0;34m:\u001b[0m\u001b[0;34m\u001b[0m\u001b[0;34m\u001b[0m\u001b[0m\n\u001b[1;32m    872\u001b[0m             \u001b[0;31m# Encoding\u001b[0m\u001b[0;34m\u001b[0m\u001b[0;34m\u001b[0m\u001b[0m\n\u001b[0;32m--> 873\u001b[0;31m             handle = open(\n\u001b[0m\u001b[1;32m    874\u001b[0m                 \u001b[0mhandle\u001b[0m\u001b[0;34m,\u001b[0m\u001b[0;34m\u001b[0m\u001b[0;34m\u001b[0m\u001b[0m\n\u001b[1;32m    875\u001b[0m                 \u001b[0mioargs\u001b[0m\u001b[0;34m.\u001b[0m\u001b[0mmode\u001b[0m\u001b[0;34m,\u001b[0m\u001b[0;34m\u001b[0m\u001b[0;34m\u001b[0m\u001b[0m\n",
            "\u001b[0;31mFileNotFoundError\u001b[0m: [Errno 2] No such file or directory: '/content/drive/MyDrive/NLP CW/cleaned_dataset.csv'"
          ]
        }
      ],
      "source": [
        "# Loading the cleaned dataset\n",
        "df = pd.read_csv('/content/drive/MyDrive/NLP CW/cleaned_dataset.csv')"
      ]
    },
    {
      "cell_type": "code",
      "execution_count": null,
      "metadata": {
        "id": "x3fsAsqpsc1M"
      },
      "outputs": [],
      "source": [
        "# Shaping of the cleaned dataset\n",
        "df.shape"
      ]
    },
    {
      "cell_type": "code",
      "execution_count": null,
      "metadata": {
        "id": "KWWGMU-4se5z"
      },
      "outputs": [],
      "source": [
        "# Printing the cleaned dataset\n",
        "df.head(2)"
      ]
    },
    {
      "cell_type": "markdown",
      "metadata": {
        "id": "hty1T4wjr08d"
      },
      "source": [
        "## Preprocessing steps\n",
        "\n",
        "1. Tokenization, Stopword Removal, and Lemmatization with spaCy (for Lexicon and ML Classifiers)\n",
        "2. Subword Tokenization with GPT-2 for DL Classifier\n",
        "\n",
        "\n",
        "\n"
      ]
    },
    {
      "cell_type": "markdown",
      "metadata": {
        "id": "J-lVPxs6tLcq"
      },
      "source": [
        "Tokenization, Stopword Removal, and Lemmatization with spaCy"
      ]
    },
    {
      "cell_type": "code",
      "execution_count": null,
      "metadata": {
        "id": "4_VZ9Bles7Nj"
      },
      "outputs": [],
      "source": [
        "# Loading the SpaCy language model\n",
        "nlp = spacy.load(\"en_core_web_sm\")\n",
        "\n",
        "def preprocess_spacy(text):\n",
        "    doc = nlp(text)\n",
        "    # Filter out stop words and non-alphabetic tokens --> lemmatize\n",
        "    tokens = [token.lemma_ for token in doc if not token.is_stop and token.is_alpha]\n",
        "    return tokens\n",
        "\n",
        "#Applying to text column and save the tokens to new column\n",
        "df['lexicon_ml_tokens'] = df['text'].apply(preprocess_spacy)"
      ]
    },
    {
      "cell_type": "markdown",
      "metadata": {
        "id": "xNhujYr0t0za"
      },
      "source": [
        "Subword Tokenization with GPT-2\n"
      ]
    },
    {
      "cell_type": "code",
      "execution_count": null,
      "metadata": {
        "id": "s3ZtPm_VtUGg"
      },
      "outputs": [],
      "source": [
        "tokenizer = GPT2Tokenizer.from_pretrained(\"gpt2\")\n",
        "\n",
        "# Tokenize each review into subwords\n",
        "def gpt2_tokenize(text):\n",
        "    tokens = tokenizer.encode(text, add_special_tokens=True)\n",
        "    return tokens\n",
        "\n",
        "# Applying to text column and save the tokens to new column\n",
        "df['dl_tokens'] = df['text'].apply(gpt2_tokenize)"
      ]
    },
    {
      "cell_type": "markdown",
      "metadata": {
        "id": "qYsrTS5Z_9rQ"
      },
      "source": [
        "## Ground truth labelling process\n",
        "1. Classifier 1 : Lexicon Based (VADER)\n",
        "2. Classifier 2 : Lexicon Based (Bing-Liu-Sentiment)\n",
        "3. Classifier 3 : DL-Based (distilbert-base-uncased-finetuned-sst-2-english)\n",
        "\n",
        "\n",
        "\n",
        "*   Get majority Vote from VADER, DistilBERT, and Bing Liu Lexicon and get the final sentiment(Ground Truth)\n",
        "\n",
        "\n"
      ]
    },
    {
      "cell_type": "markdown",
      "metadata": {
        "id": "phCwF7tduELV"
      },
      "source": [
        "Classifier 1: Lexicon-Based  -- VADER\n"
      ]
    },
    {
      "cell_type": "markdown",
      "source": [],
      "metadata": {
        "id": "Nd-g4uV2Dhbe"
      }
    },
    {
      "cell_type": "code",
      "execution_count": null,
      "metadata": {
        "id": "Zh5kqIhUt5P6"
      },
      "outputs": [],
      "source": [
        "sia = SentimentIntensityAnalyzer()\n",
        "\n",
        "# Function to get sentiment\n",
        "def vader_sentiment(text):\n",
        "    scores = sia.polarity_scores(text)\n",
        "    if scores['compound'] >= 0.05:\n",
        "        return 'positive'\n",
        "    elif scores['compound'] <= -0.05:\n",
        "        return 'negative'\n",
        "    else:\n",
        "        return 'neutral'\n",
        "\n",
        "# Apply VADER sentiment analysis to text column\n",
        "df['vader_sentiment'] = df['text'].apply(vader_sentiment)\n",
        "\n",
        "# Display the results\n",
        "print(df[['text', 'vader_sentiment']].head(3))"
      ]
    },
    {
      "cell_type": "markdown",
      "metadata": {
        "id": "TEyYeSMiuO9Y"
      },
      "source": [
        "Classifier 2: Lexicon-Based  -- bing_liu_sentiment"
      ]
    },
    {
      "cell_type": "code",
      "execution_count": null,
      "metadata": {
        "id": "QJtCI3RAy8Ew"
      },
      "outputs": [],
      "source": [
        "# Load positive and negative words from the Bing Liu Lexicon\n",
        "with open('/content/drive/MyDrive/NLP CW/negative-words.txt', 'r') as pos_file:\n",
        "    positive_words = set(pos_file.read().splitlines())\n",
        "with open('/content/drive/MyDrive/NLP CW/positive-words.txt', 'r') as neg_file:\n",
        "    negative_words = set(neg_file.read().splitlines())\n"
      ]
    },
    {
      "cell_type": "code",
      "execution_count": null,
      "metadata": {
        "id": "WX8LvESZy_bh"
      },
      "outputs": [],
      "source": [
        "def bing_liu_sentiment(tokens):\n",
        "    tokens = [token.lower() for token in tokens]\n",
        "    pos_count = sum(1 for word in tokens if word in positive_words)\n",
        "    neg_count = sum(1 for word in tokens if word in negative_words)\n",
        "\n",
        "    # Determine sentiment based on counts\n",
        "    if pos_count > neg_count:\n",
        "        return 'positive'\n",
        "    elif neg_count > pos_count:\n",
        "        return 'negative'\n",
        "    else:\n",
        "        return 'neutral'\n",
        "\n",
        "# Apply the function to the 'lexicon_ml_tokens' column\n",
        "df['bing_liu_sentiment'] = df['lexicon_ml_tokens'].apply(bing_liu_sentiment)\n",
        "\n",
        "# Display the results\n",
        "print(df[['text', 'bing_liu_sentiment']].head(3))\n"
      ]
    },
    {
      "cell_type": "markdown",
      "metadata": {
        "id": "aczcSSZhyjLd"
      },
      "source": [
        "Classifier 3: DL-Based -- DistilBERT"
      ]
    },
    {
      "cell_type": "code",
      "execution_count": null,
      "metadata": {
        "id": "7hGIbDNQvA_A"
      },
      "outputs": [],
      "source": [
        "# Load the DistilBERT sentiment analysis pipeline\n",
        "sentiment_pipeline = pipeline(\"sentiment-analysis\", model=\"distilbert-base-uncased-finetuned-sst-2-english\",device=0)\n",
        "\n",
        "def decode_and_analyze(tokens):\n",
        "    # Decode the tokens back into text\n",
        "    decoded_text = tokenizer.decode(tokens, skip_special_tokens=True)\n",
        "    sentiment = sentiment_pipeline(decoded_text)[0]['label'].lower()\n",
        "    return sentiment\n",
        "\n",
        "# Apply the function to the 'dl_tokens' column\n",
        "df['dl_sentiment'] = df['dl_tokens'].apply(decode_and_analyze)\n",
        "\n",
        "# Display the results\n",
        "print(df[['text', 'dl_sentiment']].head(3))"
      ]
    },
    {
      "cell_type": "markdown",
      "metadata": {
        "id": "jh4Gnk2bzIj8"
      },
      "source": [
        " Majority Vote with VADER, DistilBERT, and Bing Liu Lexicon\n",
        "\n",
        "\n",
        "\n"
      ]
    },
    {
      "cell_type": "code",
      "execution_count": null,
      "metadata": {
        "id": "_UFl7yMdzESE"
      },
      "outputs": [],
      "source": [
        "def final_majority_vote(row):\n",
        "    sentiments = [row['vader_sentiment'], row['dl_sentiment'], row['bing_liu_sentiment']]\n",
        "    return Counter(sentiments).most_common(1)[0][0]\n",
        "\n",
        "# Apply majority voting\n",
        "df['final_sentiment'] = df.apply(final_majority_vote, axis=1)\n"
      ]
    },
    {
      "cell_type": "code",
      "execution_count": null,
      "metadata": {
        "id": "qiCJPERpCT8O"
      },
      "outputs": [],
      "source": [
        "# Drop the individual classifier sentiment columns\n",
        "df.drop(columns=['vader_sentiment', 'bing_liu_sentiment', 'dl_sentiment'], inplace=True)\n"
      ]
    },
    {
      "cell_type": "code",
      "execution_count": null,
      "metadata": {
        "id": "xLPL10AvBAtp"
      },
      "outputs": [],
      "source": [
        "#write labeled dataset to csv file\n",
        "df.to_csv('labeled_dataset.csv', index=False)"
      ]
    },
    {
      "cell_type": "code",
      "execution_count": null,
      "metadata": {
        "id": "l63zQvkI9Ieb"
      },
      "outputs": [],
      "source": [
        "df.head(3)"
      ]
    },
    {
      "cell_type": "code",
      "execution_count": null,
      "metadata": {
        "id": "20vx6ozcBgIg"
      },
      "outputs": [],
      "source": [
        "# Dataset Dimensions\n",
        "num_rows = df.shape[0]\n",
        "num_columns = df.shape[1]\n",
        "print(f\"\\nDataset Dimensions: {num_rows} rows and {num_columns} columns\")"
      ]
    },
    {
      "cell_type": "code",
      "execution_count": null,
      "metadata": {
        "id": "HC0ubwZ5CplV"
      },
      "outputs": [],
      "source": [
        "# Distribution of Sentiment Classes\n",
        "class_distribution = df['final_sentiment'].value_counts()\n",
        "print(\"\\nSentiment Class Distribution:\")\n",
        "print(class_distribution)\n",
        "\n",
        "# Number of Classes for Classification\n",
        "num_classes = class_distribution.shape[0]\n",
        "print(f\"\\nNumber of Classes for Classification: {num_classes}\")"
      ]
    },
    {
      "cell_type": "markdown",
      "source": [
        "Pie chart of sentiment distribution"
      ],
      "metadata": {
        "id": "HB_xRE49Yv8e"
      }
    },
    {
      "cell_type": "code",
      "source": [
        "\n",
        "sentiment_counts = df['final_sentiment'].value_counts()\n",
        "\n",
        "plt.figure(figsize=(7,7))\n",
        "plt.pie(sentiment_counts, labels=sentiment_counts.index, autopct='%1.1f%%', startangle=90, colors=sns.color_palette('Set3', len(sentiment_counts)))\n",
        "plt.title('Sentiment Proportion of Reviews')\n",
        "plt.show()"
      ],
      "metadata": {
        "id": "oCJXdctnYB4C"
      },
      "execution_count": null,
      "outputs": []
    },
    {
      "cell_type": "markdown",
      "metadata": {
        "id": "-8I4gVATCnwC"
      },
      "source": [
        "### Answer to Task 3\n",
        "\n",
        "Justify the 3 non-deep learning algorithms you are using for classification."
      ]
    },
    {
      "cell_type": "code",
      "execution_count": null,
      "metadata": {
        "id": "g2Iq7wmqCnwD"
      },
      "outputs": [],
      "source": [
        "#Load the cleaned dataset\n",
        "df_labeled = pd.read_csv('/content/drive/MyDrive/NLP CW/labeled_dataset.csv')"
      ]
    },
    {
      "cell_type": "markdown",
      "metadata": {
        "id": "HNnKnZNqCnwE"
      },
      "source": [
        "Compare and interpret the results of the different algorithms and feature extraction methods on the text classification task."
      ]
    },
    {
      "cell_type": "markdown",
      "metadata": {
        "id": "vr4CAcOKCnwE"
      },
      "source": [
        "### Answer to Task 4\n",
        "\n",
        "Describe the contextual embedding used and it's effect on the performance of the algorithms selected in Task 3."
      ]
    },
    {
      "cell_type": "code",
      "execution_count": null,
      "metadata": {
        "id": "P6ul4Y7LCnwF"
      },
      "outputs": [],
      "source": [
        "# Insert code for Task 4"
      ]
    },
    {
      "cell_type": "markdown",
      "metadata": {
        "id": "brBEbX24CnwG"
      },
      "source": [
        "Compare the deep learning algorithm results with that of the 3 non-deep learning algorithms and interpret the overal results"
      ]
    },
    {
      "cell_type": "code",
      "execution_count": null,
      "metadata": {
        "id": "giATyshBCnwG"
      },
      "outputs": [],
      "source": []
    }
  ],
  "metadata": {
    "colab": {
      "provenance": [],
      "include_colab_link": true
    },
    "kernelspec": {
      "display_name": "Python 3",
      "name": "python3"
    },
    "language_info": {
      "codemirror_mode": {
        "name": "ipython",
        "version": 3
      },
      "file_extension": ".py",
      "mimetype": "text/x-python",
      "name": "python",
      "nbconvert_exporter": "python",
      "pygments_lexer": "ipython3",
      "version": "3.11.4"
    },
    "widgets": {
      "application/vnd.jupyter.widget-state+json": {
        "ca1da526b5da4df4bea5d8793c77aa0b": {
          "model_module": "@jupyter-widgets/controls",
          "model_name": "HBoxModel",
          "model_module_version": "1.5.0",
          "state": {
            "_dom_classes": [],
            "_model_module": "@jupyter-widgets/controls",
            "_model_module_version": "1.5.0",
            "_model_name": "HBoxModel",
            "_view_count": null,
            "_view_module": "@jupyter-widgets/controls",
            "_view_module_version": "1.5.0",
            "_view_name": "HBoxView",
            "box_style": "",
            "children": [
              "IPY_MODEL_0e3376e671ff4fbfbfa92e71bf5e0f1c",
              "IPY_MODEL_3bbe63fc9e8a4c4c9b86067e80a2d342",
              "IPY_MODEL_bf379296c9fb40f683281ffb518f1b3a"
            ],
            "layout": "IPY_MODEL_d88ca764da534164bdb072b46566bb01"
          }
        },
        "0e3376e671ff4fbfbfa92e71bf5e0f1c": {
          "model_module": "@jupyter-widgets/controls",
          "model_name": "HTMLModel",
          "model_module_version": "1.5.0",
          "state": {
            "_dom_classes": [],
            "_model_module": "@jupyter-widgets/controls",
            "_model_module_version": "1.5.0",
            "_model_name": "HTMLModel",
            "_view_count": null,
            "_view_module": "@jupyter-widgets/controls",
            "_view_module_version": "1.5.0",
            "_view_name": "HTMLView",
            "description": "",
            "description_tooltip": null,
            "layout": "IPY_MODEL_ae1b7d440f604597b463aa953ffcaa5a",
            "placeholder": "​",
            "style": "IPY_MODEL_85211a6a74f4490297ee54183f6bffba",
            "value": "tokenizer_config.json: 100%"
          }
        },
        "3bbe63fc9e8a4c4c9b86067e80a2d342": {
          "model_module": "@jupyter-widgets/controls",
          "model_name": "FloatProgressModel",
          "model_module_version": "1.5.0",
          "state": {
            "_dom_classes": [],
            "_model_module": "@jupyter-widgets/controls",
            "_model_module_version": "1.5.0",
            "_model_name": "FloatProgressModel",
            "_view_count": null,
            "_view_module": "@jupyter-widgets/controls",
            "_view_module_version": "1.5.0",
            "_view_name": "ProgressView",
            "bar_style": "success",
            "description": "",
            "description_tooltip": null,
            "layout": "IPY_MODEL_0ec3b2aa11124cb0b043a7a28476dfa9",
            "max": 26,
            "min": 0,
            "orientation": "horizontal",
            "style": "IPY_MODEL_18e79a8625774baf895dfeb49f39d606",
            "value": 26
          }
        },
        "bf379296c9fb40f683281ffb518f1b3a": {
          "model_module": "@jupyter-widgets/controls",
          "model_name": "HTMLModel",
          "model_module_version": "1.5.0",
          "state": {
            "_dom_classes": [],
            "_model_module": "@jupyter-widgets/controls",
            "_model_module_version": "1.5.0",
            "_model_name": "HTMLModel",
            "_view_count": null,
            "_view_module": "@jupyter-widgets/controls",
            "_view_module_version": "1.5.0",
            "_view_name": "HTMLView",
            "description": "",
            "description_tooltip": null,
            "layout": "IPY_MODEL_9babe6e4daac463bb97a29135cf45d27",
            "placeholder": "​",
            "style": "IPY_MODEL_381bfaf9362a415f82e7c33729d505d0",
            "value": " 26.0/26.0 [00:00&lt;00:00, 1.57kB/s]"
          }
        },
        "d88ca764da534164bdb072b46566bb01": {
          "model_module": "@jupyter-widgets/base",
          "model_name": "LayoutModel",
          "model_module_version": "1.2.0",
          "state": {
            "_model_module": "@jupyter-widgets/base",
            "_model_module_version": "1.2.0",
            "_model_name": "LayoutModel",
            "_view_count": null,
            "_view_module": "@jupyter-widgets/base",
            "_view_module_version": "1.2.0",
            "_view_name": "LayoutView",
            "align_content": null,
            "align_items": null,
            "align_self": null,
            "border": null,
            "bottom": null,
            "display": null,
            "flex": null,
            "flex_flow": null,
            "grid_area": null,
            "grid_auto_columns": null,
            "grid_auto_flow": null,
            "grid_auto_rows": null,
            "grid_column": null,
            "grid_gap": null,
            "grid_row": null,
            "grid_template_areas": null,
            "grid_template_columns": null,
            "grid_template_rows": null,
            "height": null,
            "justify_content": null,
            "justify_items": null,
            "left": null,
            "margin": null,
            "max_height": null,
            "max_width": null,
            "min_height": null,
            "min_width": null,
            "object_fit": null,
            "object_position": null,
            "order": null,
            "overflow": null,
            "overflow_x": null,
            "overflow_y": null,
            "padding": null,
            "right": null,
            "top": null,
            "visibility": null,
            "width": null
          }
        },
        "ae1b7d440f604597b463aa953ffcaa5a": {
          "model_module": "@jupyter-widgets/base",
          "model_name": "LayoutModel",
          "model_module_version": "1.2.0",
          "state": {
            "_model_module": "@jupyter-widgets/base",
            "_model_module_version": "1.2.0",
            "_model_name": "LayoutModel",
            "_view_count": null,
            "_view_module": "@jupyter-widgets/base",
            "_view_module_version": "1.2.0",
            "_view_name": "LayoutView",
            "align_content": null,
            "align_items": null,
            "align_self": null,
            "border": null,
            "bottom": null,
            "display": null,
            "flex": null,
            "flex_flow": null,
            "grid_area": null,
            "grid_auto_columns": null,
            "grid_auto_flow": null,
            "grid_auto_rows": null,
            "grid_column": null,
            "grid_gap": null,
            "grid_row": null,
            "grid_template_areas": null,
            "grid_template_columns": null,
            "grid_template_rows": null,
            "height": null,
            "justify_content": null,
            "justify_items": null,
            "left": null,
            "margin": null,
            "max_height": null,
            "max_width": null,
            "min_height": null,
            "min_width": null,
            "object_fit": null,
            "object_position": null,
            "order": null,
            "overflow": null,
            "overflow_x": null,
            "overflow_y": null,
            "padding": null,
            "right": null,
            "top": null,
            "visibility": null,
            "width": null
          }
        },
        "85211a6a74f4490297ee54183f6bffba": {
          "model_module": "@jupyter-widgets/controls",
          "model_name": "DescriptionStyleModel",
          "model_module_version": "1.5.0",
          "state": {
            "_model_module": "@jupyter-widgets/controls",
            "_model_module_version": "1.5.0",
            "_model_name": "DescriptionStyleModel",
            "_view_count": null,
            "_view_module": "@jupyter-widgets/base",
            "_view_module_version": "1.2.0",
            "_view_name": "StyleView",
            "description_width": ""
          }
        },
        "0ec3b2aa11124cb0b043a7a28476dfa9": {
          "model_module": "@jupyter-widgets/base",
          "model_name": "LayoutModel",
          "model_module_version": "1.2.0",
          "state": {
            "_model_module": "@jupyter-widgets/base",
            "_model_module_version": "1.2.0",
            "_model_name": "LayoutModel",
            "_view_count": null,
            "_view_module": "@jupyter-widgets/base",
            "_view_module_version": "1.2.0",
            "_view_name": "LayoutView",
            "align_content": null,
            "align_items": null,
            "align_self": null,
            "border": null,
            "bottom": null,
            "display": null,
            "flex": null,
            "flex_flow": null,
            "grid_area": null,
            "grid_auto_columns": null,
            "grid_auto_flow": null,
            "grid_auto_rows": null,
            "grid_column": null,
            "grid_gap": null,
            "grid_row": null,
            "grid_template_areas": null,
            "grid_template_columns": null,
            "grid_template_rows": null,
            "height": null,
            "justify_content": null,
            "justify_items": null,
            "left": null,
            "margin": null,
            "max_height": null,
            "max_width": null,
            "min_height": null,
            "min_width": null,
            "object_fit": null,
            "object_position": null,
            "order": null,
            "overflow": null,
            "overflow_x": null,
            "overflow_y": null,
            "padding": null,
            "right": null,
            "top": null,
            "visibility": null,
            "width": null
          }
        },
        "18e79a8625774baf895dfeb49f39d606": {
          "model_module": "@jupyter-widgets/controls",
          "model_name": "ProgressStyleModel",
          "model_module_version": "1.5.0",
          "state": {
            "_model_module": "@jupyter-widgets/controls",
            "_model_module_version": "1.5.0",
            "_model_name": "ProgressStyleModel",
            "_view_count": null,
            "_view_module": "@jupyter-widgets/base",
            "_view_module_version": "1.2.0",
            "_view_name": "StyleView",
            "bar_color": null,
            "description_width": ""
          }
        },
        "9babe6e4daac463bb97a29135cf45d27": {
          "model_module": "@jupyter-widgets/base",
          "model_name": "LayoutModel",
          "model_module_version": "1.2.0",
          "state": {
            "_model_module": "@jupyter-widgets/base",
            "_model_module_version": "1.2.0",
            "_model_name": "LayoutModel",
            "_view_count": null,
            "_view_module": "@jupyter-widgets/base",
            "_view_module_version": "1.2.0",
            "_view_name": "LayoutView",
            "align_content": null,
            "align_items": null,
            "align_self": null,
            "border": null,
            "bottom": null,
            "display": null,
            "flex": null,
            "flex_flow": null,
            "grid_area": null,
            "grid_auto_columns": null,
            "grid_auto_flow": null,
            "grid_auto_rows": null,
            "grid_column": null,
            "grid_gap": null,
            "grid_row": null,
            "grid_template_areas": null,
            "grid_template_columns": null,
            "grid_template_rows": null,
            "height": null,
            "justify_content": null,
            "justify_items": null,
            "left": null,
            "margin": null,
            "max_height": null,
            "max_width": null,
            "min_height": null,
            "min_width": null,
            "object_fit": null,
            "object_position": null,
            "order": null,
            "overflow": null,
            "overflow_x": null,
            "overflow_y": null,
            "padding": null,
            "right": null,
            "top": null,
            "visibility": null,
            "width": null
          }
        },
        "381bfaf9362a415f82e7c33729d505d0": {
          "model_module": "@jupyter-widgets/controls",
          "model_name": "DescriptionStyleModel",
          "model_module_version": "1.5.0",
          "state": {
            "_model_module": "@jupyter-widgets/controls",
            "_model_module_version": "1.5.0",
            "_model_name": "DescriptionStyleModel",
            "_view_count": null,
            "_view_module": "@jupyter-widgets/base",
            "_view_module_version": "1.2.0",
            "_view_name": "StyleView",
            "description_width": ""
          }
        },
        "a9b83eafbfd44946bb17c1e5d14115ff": {
          "model_module": "@jupyter-widgets/controls",
          "model_name": "HBoxModel",
          "model_module_version": "1.5.0",
          "state": {
            "_dom_classes": [],
            "_model_module": "@jupyter-widgets/controls",
            "_model_module_version": "1.5.0",
            "_model_name": "HBoxModel",
            "_view_count": null,
            "_view_module": "@jupyter-widgets/controls",
            "_view_module_version": "1.5.0",
            "_view_name": "HBoxView",
            "box_style": "",
            "children": [
              "IPY_MODEL_2595b55a582848ef884a631598a9ac22",
              "IPY_MODEL_694252e4206045b4b942c2614e1f51dc",
              "IPY_MODEL_f803eb2ac4bb4abaaa16b3f2b3b047ce"
            ],
            "layout": "IPY_MODEL_34e2b97a0f954cc5ba96956f0933daf1"
          }
        },
        "2595b55a582848ef884a631598a9ac22": {
          "model_module": "@jupyter-widgets/controls",
          "model_name": "HTMLModel",
          "model_module_version": "1.5.0",
          "state": {
            "_dom_classes": [],
            "_model_module": "@jupyter-widgets/controls",
            "_model_module_version": "1.5.0",
            "_model_name": "HTMLModel",
            "_view_count": null,
            "_view_module": "@jupyter-widgets/controls",
            "_view_module_version": "1.5.0",
            "_view_name": "HTMLView",
            "description": "",
            "description_tooltip": null,
            "layout": "IPY_MODEL_958306e971ba46ea81ae8299ad6ee322",
            "placeholder": "​",
            "style": "IPY_MODEL_10513b2c5cf94ac0a9eb3bf401851959",
            "value": "vocab.json: 100%"
          }
        },
        "694252e4206045b4b942c2614e1f51dc": {
          "model_module": "@jupyter-widgets/controls",
          "model_name": "FloatProgressModel",
          "model_module_version": "1.5.0",
          "state": {
            "_dom_classes": [],
            "_model_module": "@jupyter-widgets/controls",
            "_model_module_version": "1.5.0",
            "_model_name": "FloatProgressModel",
            "_view_count": null,
            "_view_module": "@jupyter-widgets/controls",
            "_view_module_version": "1.5.0",
            "_view_name": "ProgressView",
            "bar_style": "success",
            "description": "",
            "description_tooltip": null,
            "layout": "IPY_MODEL_c64f900c0fd845798d2073eab41fd02e",
            "max": 1042301,
            "min": 0,
            "orientation": "horizontal",
            "style": "IPY_MODEL_b554436f5f2a41989da52da4e97ba8e2",
            "value": 1042301
          }
        },
        "f803eb2ac4bb4abaaa16b3f2b3b047ce": {
          "model_module": "@jupyter-widgets/controls",
          "model_name": "HTMLModel",
          "model_module_version": "1.5.0",
          "state": {
            "_dom_classes": [],
            "_model_module": "@jupyter-widgets/controls",
            "_model_module_version": "1.5.0",
            "_model_name": "HTMLModel",
            "_view_count": null,
            "_view_module": "@jupyter-widgets/controls",
            "_view_module_version": "1.5.0",
            "_view_name": "HTMLView",
            "description": "",
            "description_tooltip": null,
            "layout": "IPY_MODEL_993390f95b534058b69f3dde0b0cea66",
            "placeholder": "​",
            "style": "IPY_MODEL_c94acf06554240e7a64c1c3b1f69074c",
            "value": " 1.04M/1.04M [00:00&lt;00:00, 1.48MB/s]"
          }
        },
        "34e2b97a0f954cc5ba96956f0933daf1": {
          "model_module": "@jupyter-widgets/base",
          "model_name": "LayoutModel",
          "model_module_version": "1.2.0",
          "state": {
            "_model_module": "@jupyter-widgets/base",
            "_model_module_version": "1.2.0",
            "_model_name": "LayoutModel",
            "_view_count": null,
            "_view_module": "@jupyter-widgets/base",
            "_view_module_version": "1.2.0",
            "_view_name": "LayoutView",
            "align_content": null,
            "align_items": null,
            "align_self": null,
            "border": null,
            "bottom": null,
            "display": null,
            "flex": null,
            "flex_flow": null,
            "grid_area": null,
            "grid_auto_columns": null,
            "grid_auto_flow": null,
            "grid_auto_rows": null,
            "grid_column": null,
            "grid_gap": null,
            "grid_row": null,
            "grid_template_areas": null,
            "grid_template_columns": null,
            "grid_template_rows": null,
            "height": null,
            "justify_content": null,
            "justify_items": null,
            "left": null,
            "margin": null,
            "max_height": null,
            "max_width": null,
            "min_height": null,
            "min_width": null,
            "object_fit": null,
            "object_position": null,
            "order": null,
            "overflow": null,
            "overflow_x": null,
            "overflow_y": null,
            "padding": null,
            "right": null,
            "top": null,
            "visibility": null,
            "width": null
          }
        },
        "958306e971ba46ea81ae8299ad6ee322": {
          "model_module": "@jupyter-widgets/base",
          "model_name": "LayoutModel",
          "model_module_version": "1.2.0",
          "state": {
            "_model_module": "@jupyter-widgets/base",
            "_model_module_version": "1.2.0",
            "_model_name": "LayoutModel",
            "_view_count": null,
            "_view_module": "@jupyter-widgets/base",
            "_view_module_version": "1.2.0",
            "_view_name": "LayoutView",
            "align_content": null,
            "align_items": null,
            "align_self": null,
            "border": null,
            "bottom": null,
            "display": null,
            "flex": null,
            "flex_flow": null,
            "grid_area": null,
            "grid_auto_columns": null,
            "grid_auto_flow": null,
            "grid_auto_rows": null,
            "grid_column": null,
            "grid_gap": null,
            "grid_row": null,
            "grid_template_areas": null,
            "grid_template_columns": null,
            "grid_template_rows": null,
            "height": null,
            "justify_content": null,
            "justify_items": null,
            "left": null,
            "margin": null,
            "max_height": null,
            "max_width": null,
            "min_height": null,
            "min_width": null,
            "object_fit": null,
            "object_position": null,
            "order": null,
            "overflow": null,
            "overflow_x": null,
            "overflow_y": null,
            "padding": null,
            "right": null,
            "top": null,
            "visibility": null,
            "width": null
          }
        },
        "10513b2c5cf94ac0a9eb3bf401851959": {
          "model_module": "@jupyter-widgets/controls",
          "model_name": "DescriptionStyleModel",
          "model_module_version": "1.5.0",
          "state": {
            "_model_module": "@jupyter-widgets/controls",
            "_model_module_version": "1.5.0",
            "_model_name": "DescriptionStyleModel",
            "_view_count": null,
            "_view_module": "@jupyter-widgets/base",
            "_view_module_version": "1.2.0",
            "_view_name": "StyleView",
            "description_width": ""
          }
        },
        "c64f900c0fd845798d2073eab41fd02e": {
          "model_module": "@jupyter-widgets/base",
          "model_name": "LayoutModel",
          "model_module_version": "1.2.0",
          "state": {
            "_model_module": "@jupyter-widgets/base",
            "_model_module_version": "1.2.0",
            "_model_name": "LayoutModel",
            "_view_count": null,
            "_view_module": "@jupyter-widgets/base",
            "_view_module_version": "1.2.0",
            "_view_name": "LayoutView",
            "align_content": null,
            "align_items": null,
            "align_self": null,
            "border": null,
            "bottom": null,
            "display": null,
            "flex": null,
            "flex_flow": null,
            "grid_area": null,
            "grid_auto_columns": null,
            "grid_auto_flow": null,
            "grid_auto_rows": null,
            "grid_column": null,
            "grid_gap": null,
            "grid_row": null,
            "grid_template_areas": null,
            "grid_template_columns": null,
            "grid_template_rows": null,
            "height": null,
            "justify_content": null,
            "justify_items": null,
            "left": null,
            "margin": null,
            "max_height": null,
            "max_width": null,
            "min_height": null,
            "min_width": null,
            "object_fit": null,
            "object_position": null,
            "order": null,
            "overflow": null,
            "overflow_x": null,
            "overflow_y": null,
            "padding": null,
            "right": null,
            "top": null,
            "visibility": null,
            "width": null
          }
        },
        "b554436f5f2a41989da52da4e97ba8e2": {
          "model_module": "@jupyter-widgets/controls",
          "model_name": "ProgressStyleModel",
          "model_module_version": "1.5.0",
          "state": {
            "_model_module": "@jupyter-widgets/controls",
            "_model_module_version": "1.5.0",
            "_model_name": "ProgressStyleModel",
            "_view_count": null,
            "_view_module": "@jupyter-widgets/base",
            "_view_module_version": "1.2.0",
            "_view_name": "StyleView",
            "bar_color": null,
            "description_width": ""
          }
        },
        "993390f95b534058b69f3dde0b0cea66": {
          "model_module": "@jupyter-widgets/base",
          "model_name": "LayoutModel",
          "model_module_version": "1.2.0",
          "state": {
            "_model_module": "@jupyter-widgets/base",
            "_model_module_version": "1.2.0",
            "_model_name": "LayoutModel",
            "_view_count": null,
            "_view_module": "@jupyter-widgets/base",
            "_view_module_version": "1.2.0",
            "_view_name": "LayoutView",
            "align_content": null,
            "align_items": null,
            "align_self": null,
            "border": null,
            "bottom": null,
            "display": null,
            "flex": null,
            "flex_flow": null,
            "grid_area": null,
            "grid_auto_columns": null,
            "grid_auto_flow": null,
            "grid_auto_rows": null,
            "grid_column": null,
            "grid_gap": null,
            "grid_row": null,
            "grid_template_areas": null,
            "grid_template_columns": null,
            "grid_template_rows": null,
            "height": null,
            "justify_content": null,
            "justify_items": null,
            "left": null,
            "margin": null,
            "max_height": null,
            "max_width": null,
            "min_height": null,
            "min_width": null,
            "object_fit": null,
            "object_position": null,
            "order": null,
            "overflow": null,
            "overflow_x": null,
            "overflow_y": null,
            "padding": null,
            "right": null,
            "top": null,
            "visibility": null,
            "width": null
          }
        },
        "c94acf06554240e7a64c1c3b1f69074c": {
          "model_module": "@jupyter-widgets/controls",
          "model_name": "DescriptionStyleModel",
          "model_module_version": "1.5.0",
          "state": {
            "_model_module": "@jupyter-widgets/controls",
            "_model_module_version": "1.5.0",
            "_model_name": "DescriptionStyleModel",
            "_view_count": null,
            "_view_module": "@jupyter-widgets/base",
            "_view_module_version": "1.2.0",
            "_view_name": "StyleView",
            "description_width": ""
          }
        },
        "f9c3ce1a02604cb8b76db0d9493c1008": {
          "model_module": "@jupyter-widgets/controls",
          "model_name": "HBoxModel",
          "model_module_version": "1.5.0",
          "state": {
            "_dom_classes": [],
            "_model_module": "@jupyter-widgets/controls",
            "_model_module_version": "1.5.0",
            "_model_name": "HBoxModel",
            "_view_count": null,
            "_view_module": "@jupyter-widgets/controls",
            "_view_module_version": "1.5.0",
            "_view_name": "HBoxView",
            "box_style": "",
            "children": [
              "IPY_MODEL_cf82d02d2d414a439ff2e05ca43681d0",
              "IPY_MODEL_ee3e1bc5866a4ee1a879fd08657725aa",
              "IPY_MODEL_06d5a3aedbe34e7f98e2465b924c6b13"
            ],
            "layout": "IPY_MODEL_d01f9574fca444a0ac7c89f106386404"
          }
        },
        "cf82d02d2d414a439ff2e05ca43681d0": {
          "model_module": "@jupyter-widgets/controls",
          "model_name": "HTMLModel",
          "model_module_version": "1.5.0",
          "state": {
            "_dom_classes": [],
            "_model_module": "@jupyter-widgets/controls",
            "_model_module_version": "1.5.0",
            "_model_name": "HTMLModel",
            "_view_count": null,
            "_view_module": "@jupyter-widgets/controls",
            "_view_module_version": "1.5.0",
            "_view_name": "HTMLView",
            "description": "",
            "description_tooltip": null,
            "layout": "IPY_MODEL_89e2943058e14a73b5f1faa58118e2fb",
            "placeholder": "​",
            "style": "IPY_MODEL_f10332e006a245d1adf95fa0b7b9ea04",
            "value": "merges.txt: 100%"
          }
        },
        "ee3e1bc5866a4ee1a879fd08657725aa": {
          "model_module": "@jupyter-widgets/controls",
          "model_name": "FloatProgressModel",
          "model_module_version": "1.5.0",
          "state": {
            "_dom_classes": [],
            "_model_module": "@jupyter-widgets/controls",
            "_model_module_version": "1.5.0",
            "_model_name": "FloatProgressModel",
            "_view_count": null,
            "_view_module": "@jupyter-widgets/controls",
            "_view_module_version": "1.5.0",
            "_view_name": "ProgressView",
            "bar_style": "success",
            "description": "",
            "description_tooltip": null,
            "layout": "IPY_MODEL_315f1b47dbbc4ca5b8db55d04dca5465",
            "max": 456318,
            "min": 0,
            "orientation": "horizontal",
            "style": "IPY_MODEL_213f8e6f30704a5caba3890462c6b986",
            "value": 456318
          }
        },
        "06d5a3aedbe34e7f98e2465b924c6b13": {
          "model_module": "@jupyter-widgets/controls",
          "model_name": "HTMLModel",
          "model_module_version": "1.5.0",
          "state": {
            "_dom_classes": [],
            "_model_module": "@jupyter-widgets/controls",
            "_model_module_version": "1.5.0",
            "_model_name": "HTMLModel",
            "_view_count": null,
            "_view_module": "@jupyter-widgets/controls",
            "_view_module_version": "1.5.0",
            "_view_name": "HTMLView",
            "description": "",
            "description_tooltip": null,
            "layout": "IPY_MODEL_ea932ba05c7f43179017b412829b4b67",
            "placeholder": "​",
            "style": "IPY_MODEL_fff99ad3a46c4a5489dd75919aa8e3a3",
            "value": " 456k/456k [00:00&lt;00:00, 870kB/s]"
          }
        },
        "d01f9574fca444a0ac7c89f106386404": {
          "model_module": "@jupyter-widgets/base",
          "model_name": "LayoutModel",
          "model_module_version": "1.2.0",
          "state": {
            "_model_module": "@jupyter-widgets/base",
            "_model_module_version": "1.2.0",
            "_model_name": "LayoutModel",
            "_view_count": null,
            "_view_module": "@jupyter-widgets/base",
            "_view_module_version": "1.2.0",
            "_view_name": "LayoutView",
            "align_content": null,
            "align_items": null,
            "align_self": null,
            "border": null,
            "bottom": null,
            "display": null,
            "flex": null,
            "flex_flow": null,
            "grid_area": null,
            "grid_auto_columns": null,
            "grid_auto_flow": null,
            "grid_auto_rows": null,
            "grid_column": null,
            "grid_gap": null,
            "grid_row": null,
            "grid_template_areas": null,
            "grid_template_columns": null,
            "grid_template_rows": null,
            "height": null,
            "justify_content": null,
            "justify_items": null,
            "left": null,
            "margin": null,
            "max_height": null,
            "max_width": null,
            "min_height": null,
            "min_width": null,
            "object_fit": null,
            "object_position": null,
            "order": null,
            "overflow": null,
            "overflow_x": null,
            "overflow_y": null,
            "padding": null,
            "right": null,
            "top": null,
            "visibility": null,
            "width": null
          }
        },
        "89e2943058e14a73b5f1faa58118e2fb": {
          "model_module": "@jupyter-widgets/base",
          "model_name": "LayoutModel",
          "model_module_version": "1.2.0",
          "state": {
            "_model_module": "@jupyter-widgets/base",
            "_model_module_version": "1.2.0",
            "_model_name": "LayoutModel",
            "_view_count": null,
            "_view_module": "@jupyter-widgets/base",
            "_view_module_version": "1.2.0",
            "_view_name": "LayoutView",
            "align_content": null,
            "align_items": null,
            "align_self": null,
            "border": null,
            "bottom": null,
            "display": null,
            "flex": null,
            "flex_flow": null,
            "grid_area": null,
            "grid_auto_columns": null,
            "grid_auto_flow": null,
            "grid_auto_rows": null,
            "grid_column": null,
            "grid_gap": null,
            "grid_row": null,
            "grid_template_areas": null,
            "grid_template_columns": null,
            "grid_template_rows": null,
            "height": null,
            "justify_content": null,
            "justify_items": null,
            "left": null,
            "margin": null,
            "max_height": null,
            "max_width": null,
            "min_height": null,
            "min_width": null,
            "object_fit": null,
            "object_position": null,
            "order": null,
            "overflow": null,
            "overflow_x": null,
            "overflow_y": null,
            "padding": null,
            "right": null,
            "top": null,
            "visibility": null,
            "width": null
          }
        },
        "f10332e006a245d1adf95fa0b7b9ea04": {
          "model_module": "@jupyter-widgets/controls",
          "model_name": "DescriptionStyleModel",
          "model_module_version": "1.5.0",
          "state": {
            "_model_module": "@jupyter-widgets/controls",
            "_model_module_version": "1.5.0",
            "_model_name": "DescriptionStyleModel",
            "_view_count": null,
            "_view_module": "@jupyter-widgets/base",
            "_view_module_version": "1.2.0",
            "_view_name": "StyleView",
            "description_width": ""
          }
        },
        "315f1b47dbbc4ca5b8db55d04dca5465": {
          "model_module": "@jupyter-widgets/base",
          "model_name": "LayoutModel",
          "model_module_version": "1.2.0",
          "state": {
            "_model_module": "@jupyter-widgets/base",
            "_model_module_version": "1.2.0",
            "_model_name": "LayoutModel",
            "_view_count": null,
            "_view_module": "@jupyter-widgets/base",
            "_view_module_version": "1.2.0",
            "_view_name": "LayoutView",
            "align_content": null,
            "align_items": null,
            "align_self": null,
            "border": null,
            "bottom": null,
            "display": null,
            "flex": null,
            "flex_flow": null,
            "grid_area": null,
            "grid_auto_columns": null,
            "grid_auto_flow": null,
            "grid_auto_rows": null,
            "grid_column": null,
            "grid_gap": null,
            "grid_row": null,
            "grid_template_areas": null,
            "grid_template_columns": null,
            "grid_template_rows": null,
            "height": null,
            "justify_content": null,
            "justify_items": null,
            "left": null,
            "margin": null,
            "max_height": null,
            "max_width": null,
            "min_height": null,
            "min_width": null,
            "object_fit": null,
            "object_position": null,
            "order": null,
            "overflow": null,
            "overflow_x": null,
            "overflow_y": null,
            "padding": null,
            "right": null,
            "top": null,
            "visibility": null,
            "width": null
          }
        },
        "213f8e6f30704a5caba3890462c6b986": {
          "model_module": "@jupyter-widgets/controls",
          "model_name": "ProgressStyleModel",
          "model_module_version": "1.5.0",
          "state": {
            "_model_module": "@jupyter-widgets/controls",
            "_model_module_version": "1.5.0",
            "_model_name": "ProgressStyleModel",
            "_view_count": null,
            "_view_module": "@jupyter-widgets/base",
            "_view_module_version": "1.2.0",
            "_view_name": "StyleView",
            "bar_color": null,
            "description_width": ""
          }
        },
        "ea932ba05c7f43179017b412829b4b67": {
          "model_module": "@jupyter-widgets/base",
          "model_name": "LayoutModel",
          "model_module_version": "1.2.0",
          "state": {
            "_model_module": "@jupyter-widgets/base",
            "_model_module_version": "1.2.0",
            "_model_name": "LayoutModel",
            "_view_count": null,
            "_view_module": "@jupyter-widgets/base",
            "_view_module_version": "1.2.0",
            "_view_name": "LayoutView",
            "align_content": null,
            "align_items": null,
            "align_self": null,
            "border": null,
            "bottom": null,
            "display": null,
            "flex": null,
            "flex_flow": null,
            "grid_area": null,
            "grid_auto_columns": null,
            "grid_auto_flow": null,
            "grid_auto_rows": null,
            "grid_column": null,
            "grid_gap": null,
            "grid_row": null,
            "grid_template_areas": null,
            "grid_template_columns": null,
            "grid_template_rows": null,
            "height": null,
            "justify_content": null,
            "justify_items": null,
            "left": null,
            "margin": null,
            "max_height": null,
            "max_width": null,
            "min_height": null,
            "min_width": null,
            "object_fit": null,
            "object_position": null,
            "order": null,
            "overflow": null,
            "overflow_x": null,
            "overflow_y": null,
            "padding": null,
            "right": null,
            "top": null,
            "visibility": null,
            "width": null
          }
        },
        "fff99ad3a46c4a5489dd75919aa8e3a3": {
          "model_module": "@jupyter-widgets/controls",
          "model_name": "DescriptionStyleModel",
          "model_module_version": "1.5.0",
          "state": {
            "_model_module": "@jupyter-widgets/controls",
            "_model_module_version": "1.5.0",
            "_model_name": "DescriptionStyleModel",
            "_view_count": null,
            "_view_module": "@jupyter-widgets/base",
            "_view_module_version": "1.2.0",
            "_view_name": "StyleView",
            "description_width": ""
          }
        },
        "bd7816f222834c8e9f2616bf7b4d530e": {
          "model_module": "@jupyter-widgets/controls",
          "model_name": "HBoxModel",
          "model_module_version": "1.5.0",
          "state": {
            "_dom_classes": [],
            "_model_module": "@jupyter-widgets/controls",
            "_model_module_version": "1.5.0",
            "_model_name": "HBoxModel",
            "_view_count": null,
            "_view_module": "@jupyter-widgets/controls",
            "_view_module_version": "1.5.0",
            "_view_name": "HBoxView",
            "box_style": "",
            "children": [
              "IPY_MODEL_ce4c430d63414ed38222f7302549099d",
              "IPY_MODEL_2bc3dce5bc554e5a9931a5976a175bd5",
              "IPY_MODEL_c0719e5142ed46489caacc1bf21181d7"
            ],
            "layout": "IPY_MODEL_33d41cfe79ac4c3ca7f8b13ee13d0f40"
          }
        },
        "ce4c430d63414ed38222f7302549099d": {
          "model_module": "@jupyter-widgets/controls",
          "model_name": "HTMLModel",
          "model_module_version": "1.5.0",
          "state": {
            "_dom_classes": [],
            "_model_module": "@jupyter-widgets/controls",
            "_model_module_version": "1.5.0",
            "_model_name": "HTMLModel",
            "_view_count": null,
            "_view_module": "@jupyter-widgets/controls",
            "_view_module_version": "1.5.0",
            "_view_name": "HTMLView",
            "description": "",
            "description_tooltip": null,
            "layout": "IPY_MODEL_0d75a6d792e4439ba54e20b710bf6c3f",
            "placeholder": "​",
            "style": "IPY_MODEL_4050d266409d4519b74f63c4844dbde6",
            "value": "tokenizer.json: 100%"
          }
        },
        "2bc3dce5bc554e5a9931a5976a175bd5": {
          "model_module": "@jupyter-widgets/controls",
          "model_name": "FloatProgressModel",
          "model_module_version": "1.5.0",
          "state": {
            "_dom_classes": [],
            "_model_module": "@jupyter-widgets/controls",
            "_model_module_version": "1.5.0",
            "_model_name": "FloatProgressModel",
            "_view_count": null,
            "_view_module": "@jupyter-widgets/controls",
            "_view_module_version": "1.5.0",
            "_view_name": "ProgressView",
            "bar_style": "success",
            "description": "",
            "description_tooltip": null,
            "layout": "IPY_MODEL_efb3b1aa907241768688a3af068412c9",
            "max": 1355256,
            "min": 0,
            "orientation": "horizontal",
            "style": "IPY_MODEL_d85a84d0d5704327aec2b0737231eb54",
            "value": 1355256
          }
        },
        "c0719e5142ed46489caacc1bf21181d7": {
          "model_module": "@jupyter-widgets/controls",
          "model_name": "HTMLModel",
          "model_module_version": "1.5.0",
          "state": {
            "_dom_classes": [],
            "_model_module": "@jupyter-widgets/controls",
            "_model_module_version": "1.5.0",
            "_model_name": "HTMLModel",
            "_view_count": null,
            "_view_module": "@jupyter-widgets/controls",
            "_view_module_version": "1.5.0",
            "_view_name": "HTMLView",
            "description": "",
            "description_tooltip": null,
            "layout": "IPY_MODEL_2b97b71ace01482e98756b8d9ff0d66f",
            "placeholder": "​",
            "style": "IPY_MODEL_41c0ef2afbad4edfa9ee793393ac6dc7",
            "value": " 1.36M/1.36M [00:00&lt;00:00, 1.55MB/s]"
          }
        },
        "33d41cfe79ac4c3ca7f8b13ee13d0f40": {
          "model_module": "@jupyter-widgets/base",
          "model_name": "LayoutModel",
          "model_module_version": "1.2.0",
          "state": {
            "_model_module": "@jupyter-widgets/base",
            "_model_module_version": "1.2.0",
            "_model_name": "LayoutModel",
            "_view_count": null,
            "_view_module": "@jupyter-widgets/base",
            "_view_module_version": "1.2.0",
            "_view_name": "LayoutView",
            "align_content": null,
            "align_items": null,
            "align_self": null,
            "border": null,
            "bottom": null,
            "display": null,
            "flex": null,
            "flex_flow": null,
            "grid_area": null,
            "grid_auto_columns": null,
            "grid_auto_flow": null,
            "grid_auto_rows": null,
            "grid_column": null,
            "grid_gap": null,
            "grid_row": null,
            "grid_template_areas": null,
            "grid_template_columns": null,
            "grid_template_rows": null,
            "height": null,
            "justify_content": null,
            "justify_items": null,
            "left": null,
            "margin": null,
            "max_height": null,
            "max_width": null,
            "min_height": null,
            "min_width": null,
            "object_fit": null,
            "object_position": null,
            "order": null,
            "overflow": null,
            "overflow_x": null,
            "overflow_y": null,
            "padding": null,
            "right": null,
            "top": null,
            "visibility": null,
            "width": null
          }
        },
        "0d75a6d792e4439ba54e20b710bf6c3f": {
          "model_module": "@jupyter-widgets/base",
          "model_name": "LayoutModel",
          "model_module_version": "1.2.0",
          "state": {
            "_model_module": "@jupyter-widgets/base",
            "_model_module_version": "1.2.0",
            "_model_name": "LayoutModel",
            "_view_count": null,
            "_view_module": "@jupyter-widgets/base",
            "_view_module_version": "1.2.0",
            "_view_name": "LayoutView",
            "align_content": null,
            "align_items": null,
            "align_self": null,
            "border": null,
            "bottom": null,
            "display": null,
            "flex": null,
            "flex_flow": null,
            "grid_area": null,
            "grid_auto_columns": null,
            "grid_auto_flow": null,
            "grid_auto_rows": null,
            "grid_column": null,
            "grid_gap": null,
            "grid_row": null,
            "grid_template_areas": null,
            "grid_template_columns": null,
            "grid_template_rows": null,
            "height": null,
            "justify_content": null,
            "justify_items": null,
            "left": null,
            "margin": null,
            "max_height": null,
            "max_width": null,
            "min_height": null,
            "min_width": null,
            "object_fit": null,
            "object_position": null,
            "order": null,
            "overflow": null,
            "overflow_x": null,
            "overflow_y": null,
            "padding": null,
            "right": null,
            "top": null,
            "visibility": null,
            "width": null
          }
        },
        "4050d266409d4519b74f63c4844dbde6": {
          "model_module": "@jupyter-widgets/controls",
          "model_name": "DescriptionStyleModel",
          "model_module_version": "1.5.0",
          "state": {
            "_model_module": "@jupyter-widgets/controls",
            "_model_module_version": "1.5.0",
            "_model_name": "DescriptionStyleModel",
            "_view_count": null,
            "_view_module": "@jupyter-widgets/base",
            "_view_module_version": "1.2.0",
            "_view_name": "StyleView",
            "description_width": ""
          }
        },
        "efb3b1aa907241768688a3af068412c9": {
          "model_module": "@jupyter-widgets/base",
          "model_name": "LayoutModel",
          "model_module_version": "1.2.0",
          "state": {
            "_model_module": "@jupyter-widgets/base",
            "_model_module_version": "1.2.0",
            "_model_name": "LayoutModel",
            "_view_count": null,
            "_view_module": "@jupyter-widgets/base",
            "_view_module_version": "1.2.0",
            "_view_name": "LayoutView",
            "align_content": null,
            "align_items": null,
            "align_self": null,
            "border": null,
            "bottom": null,
            "display": null,
            "flex": null,
            "flex_flow": null,
            "grid_area": null,
            "grid_auto_columns": null,
            "grid_auto_flow": null,
            "grid_auto_rows": null,
            "grid_column": null,
            "grid_gap": null,
            "grid_row": null,
            "grid_template_areas": null,
            "grid_template_columns": null,
            "grid_template_rows": null,
            "height": null,
            "justify_content": null,
            "justify_items": null,
            "left": null,
            "margin": null,
            "max_height": null,
            "max_width": null,
            "min_height": null,
            "min_width": null,
            "object_fit": null,
            "object_position": null,
            "order": null,
            "overflow": null,
            "overflow_x": null,
            "overflow_y": null,
            "padding": null,
            "right": null,
            "top": null,
            "visibility": null,
            "width": null
          }
        },
        "d85a84d0d5704327aec2b0737231eb54": {
          "model_module": "@jupyter-widgets/controls",
          "model_name": "ProgressStyleModel",
          "model_module_version": "1.5.0",
          "state": {
            "_model_module": "@jupyter-widgets/controls",
            "_model_module_version": "1.5.0",
            "_model_name": "ProgressStyleModel",
            "_view_count": null,
            "_view_module": "@jupyter-widgets/base",
            "_view_module_version": "1.2.0",
            "_view_name": "StyleView",
            "bar_color": null,
            "description_width": ""
          }
        },
        "2b97b71ace01482e98756b8d9ff0d66f": {
          "model_module": "@jupyter-widgets/base",
          "model_name": "LayoutModel",
          "model_module_version": "1.2.0",
          "state": {
            "_model_module": "@jupyter-widgets/base",
            "_model_module_version": "1.2.0",
            "_model_name": "LayoutModel",
            "_view_count": null,
            "_view_module": "@jupyter-widgets/base",
            "_view_module_version": "1.2.0",
            "_view_name": "LayoutView",
            "align_content": null,
            "align_items": null,
            "align_self": null,
            "border": null,
            "bottom": null,
            "display": null,
            "flex": null,
            "flex_flow": null,
            "grid_area": null,
            "grid_auto_columns": null,
            "grid_auto_flow": null,
            "grid_auto_rows": null,
            "grid_column": null,
            "grid_gap": null,
            "grid_row": null,
            "grid_template_areas": null,
            "grid_template_columns": null,
            "grid_template_rows": null,
            "height": null,
            "justify_content": null,
            "justify_items": null,
            "left": null,
            "margin": null,
            "max_height": null,
            "max_width": null,
            "min_height": null,
            "min_width": null,
            "object_fit": null,
            "object_position": null,
            "order": null,
            "overflow": null,
            "overflow_x": null,
            "overflow_y": null,
            "padding": null,
            "right": null,
            "top": null,
            "visibility": null,
            "width": null
          }
        },
        "41c0ef2afbad4edfa9ee793393ac6dc7": {
          "model_module": "@jupyter-widgets/controls",
          "model_name": "DescriptionStyleModel",
          "model_module_version": "1.5.0",
          "state": {
            "_model_module": "@jupyter-widgets/controls",
            "_model_module_version": "1.5.0",
            "_model_name": "DescriptionStyleModel",
            "_view_count": null,
            "_view_module": "@jupyter-widgets/base",
            "_view_module_version": "1.2.0",
            "_view_name": "StyleView",
            "description_width": ""
          }
        },
        "3b684e08086b4b829417dca80ced5597": {
          "model_module": "@jupyter-widgets/controls",
          "model_name": "HBoxModel",
          "model_module_version": "1.5.0",
          "state": {
            "_dom_classes": [],
            "_model_module": "@jupyter-widgets/controls",
            "_model_module_version": "1.5.0",
            "_model_name": "HBoxModel",
            "_view_count": null,
            "_view_module": "@jupyter-widgets/controls",
            "_view_module_version": "1.5.0",
            "_view_name": "HBoxView",
            "box_style": "",
            "children": [
              "IPY_MODEL_22d75248493747409832bdaec9cacc67",
              "IPY_MODEL_7432afac34964388b8faa5444cf7a6f0",
              "IPY_MODEL_ff323bf8aa6c4df79eef39739805305f"
            ],
            "layout": "IPY_MODEL_41e2a3f3b09a4cdfb1d129ae711370b4"
          }
        },
        "22d75248493747409832bdaec9cacc67": {
          "model_module": "@jupyter-widgets/controls",
          "model_name": "HTMLModel",
          "model_module_version": "1.5.0",
          "state": {
            "_dom_classes": [],
            "_model_module": "@jupyter-widgets/controls",
            "_model_module_version": "1.5.0",
            "_model_name": "HTMLModel",
            "_view_count": null,
            "_view_module": "@jupyter-widgets/controls",
            "_view_module_version": "1.5.0",
            "_view_name": "HTMLView",
            "description": "",
            "description_tooltip": null,
            "layout": "IPY_MODEL_ba606366e76449628c8f4fbd374a4a52",
            "placeholder": "​",
            "style": "IPY_MODEL_b6d22753be7c4dc3bbc99e6dd8782780",
            "value": "config.json: 100%"
          }
        },
        "7432afac34964388b8faa5444cf7a6f0": {
          "model_module": "@jupyter-widgets/controls",
          "model_name": "FloatProgressModel",
          "model_module_version": "1.5.0",
          "state": {
            "_dom_classes": [],
            "_model_module": "@jupyter-widgets/controls",
            "_model_module_version": "1.5.0",
            "_model_name": "FloatProgressModel",
            "_view_count": null,
            "_view_module": "@jupyter-widgets/controls",
            "_view_module_version": "1.5.0",
            "_view_name": "ProgressView",
            "bar_style": "success",
            "description": "",
            "description_tooltip": null,
            "layout": "IPY_MODEL_866b4b42072a4a1f940a82ddb80a56c7",
            "max": 665,
            "min": 0,
            "orientation": "horizontal",
            "style": "IPY_MODEL_d4a4e2a4e4f84df88c8dd10a7957ac40",
            "value": 665
          }
        },
        "ff323bf8aa6c4df79eef39739805305f": {
          "model_module": "@jupyter-widgets/controls",
          "model_name": "HTMLModel",
          "model_module_version": "1.5.0",
          "state": {
            "_dom_classes": [],
            "_model_module": "@jupyter-widgets/controls",
            "_model_module_version": "1.5.0",
            "_model_name": "HTMLModel",
            "_view_count": null,
            "_view_module": "@jupyter-widgets/controls",
            "_view_module_version": "1.5.0",
            "_view_name": "HTMLView",
            "description": "",
            "description_tooltip": null,
            "layout": "IPY_MODEL_1aa418acde354d2b8c15570bcd7652a9",
            "placeholder": "​",
            "style": "IPY_MODEL_23f593f48ded46a9a07fcb7254039f02",
            "value": " 665/665 [00:00&lt;00:00, 33.4kB/s]"
          }
        },
        "41e2a3f3b09a4cdfb1d129ae711370b4": {
          "model_module": "@jupyter-widgets/base",
          "model_name": "LayoutModel",
          "model_module_version": "1.2.0",
          "state": {
            "_model_module": "@jupyter-widgets/base",
            "_model_module_version": "1.2.0",
            "_model_name": "LayoutModel",
            "_view_count": null,
            "_view_module": "@jupyter-widgets/base",
            "_view_module_version": "1.2.0",
            "_view_name": "LayoutView",
            "align_content": null,
            "align_items": null,
            "align_self": null,
            "border": null,
            "bottom": null,
            "display": null,
            "flex": null,
            "flex_flow": null,
            "grid_area": null,
            "grid_auto_columns": null,
            "grid_auto_flow": null,
            "grid_auto_rows": null,
            "grid_column": null,
            "grid_gap": null,
            "grid_row": null,
            "grid_template_areas": null,
            "grid_template_columns": null,
            "grid_template_rows": null,
            "height": null,
            "justify_content": null,
            "justify_items": null,
            "left": null,
            "margin": null,
            "max_height": null,
            "max_width": null,
            "min_height": null,
            "min_width": null,
            "object_fit": null,
            "object_position": null,
            "order": null,
            "overflow": null,
            "overflow_x": null,
            "overflow_y": null,
            "padding": null,
            "right": null,
            "top": null,
            "visibility": null,
            "width": null
          }
        },
        "ba606366e76449628c8f4fbd374a4a52": {
          "model_module": "@jupyter-widgets/base",
          "model_name": "LayoutModel",
          "model_module_version": "1.2.0",
          "state": {
            "_model_module": "@jupyter-widgets/base",
            "_model_module_version": "1.2.0",
            "_model_name": "LayoutModel",
            "_view_count": null,
            "_view_module": "@jupyter-widgets/base",
            "_view_module_version": "1.2.0",
            "_view_name": "LayoutView",
            "align_content": null,
            "align_items": null,
            "align_self": null,
            "border": null,
            "bottom": null,
            "display": null,
            "flex": null,
            "flex_flow": null,
            "grid_area": null,
            "grid_auto_columns": null,
            "grid_auto_flow": null,
            "grid_auto_rows": null,
            "grid_column": null,
            "grid_gap": null,
            "grid_row": null,
            "grid_template_areas": null,
            "grid_template_columns": null,
            "grid_template_rows": null,
            "height": null,
            "justify_content": null,
            "justify_items": null,
            "left": null,
            "margin": null,
            "max_height": null,
            "max_width": null,
            "min_height": null,
            "min_width": null,
            "object_fit": null,
            "object_position": null,
            "order": null,
            "overflow": null,
            "overflow_x": null,
            "overflow_y": null,
            "padding": null,
            "right": null,
            "top": null,
            "visibility": null,
            "width": null
          }
        },
        "b6d22753be7c4dc3bbc99e6dd8782780": {
          "model_module": "@jupyter-widgets/controls",
          "model_name": "DescriptionStyleModel",
          "model_module_version": "1.5.0",
          "state": {
            "_model_module": "@jupyter-widgets/controls",
            "_model_module_version": "1.5.0",
            "_model_name": "DescriptionStyleModel",
            "_view_count": null,
            "_view_module": "@jupyter-widgets/base",
            "_view_module_version": "1.2.0",
            "_view_name": "StyleView",
            "description_width": ""
          }
        },
        "866b4b42072a4a1f940a82ddb80a56c7": {
          "model_module": "@jupyter-widgets/base",
          "model_name": "LayoutModel",
          "model_module_version": "1.2.0",
          "state": {
            "_model_module": "@jupyter-widgets/base",
            "_model_module_version": "1.2.0",
            "_model_name": "LayoutModel",
            "_view_count": null,
            "_view_module": "@jupyter-widgets/base",
            "_view_module_version": "1.2.0",
            "_view_name": "LayoutView",
            "align_content": null,
            "align_items": null,
            "align_self": null,
            "border": null,
            "bottom": null,
            "display": null,
            "flex": null,
            "flex_flow": null,
            "grid_area": null,
            "grid_auto_columns": null,
            "grid_auto_flow": null,
            "grid_auto_rows": null,
            "grid_column": null,
            "grid_gap": null,
            "grid_row": null,
            "grid_template_areas": null,
            "grid_template_columns": null,
            "grid_template_rows": null,
            "height": null,
            "justify_content": null,
            "justify_items": null,
            "left": null,
            "margin": null,
            "max_height": null,
            "max_width": null,
            "min_height": null,
            "min_width": null,
            "object_fit": null,
            "object_position": null,
            "order": null,
            "overflow": null,
            "overflow_x": null,
            "overflow_y": null,
            "padding": null,
            "right": null,
            "top": null,
            "visibility": null,
            "width": null
          }
        },
        "d4a4e2a4e4f84df88c8dd10a7957ac40": {
          "model_module": "@jupyter-widgets/controls",
          "model_name": "ProgressStyleModel",
          "model_module_version": "1.5.0",
          "state": {
            "_model_module": "@jupyter-widgets/controls",
            "_model_module_version": "1.5.0",
            "_model_name": "ProgressStyleModel",
            "_view_count": null,
            "_view_module": "@jupyter-widgets/base",
            "_view_module_version": "1.2.0",
            "_view_name": "StyleView",
            "bar_color": null,
            "description_width": ""
          }
        },
        "1aa418acde354d2b8c15570bcd7652a9": {
          "model_module": "@jupyter-widgets/base",
          "model_name": "LayoutModel",
          "model_module_version": "1.2.0",
          "state": {
            "_model_module": "@jupyter-widgets/base",
            "_model_module_version": "1.2.0",
            "_model_name": "LayoutModel",
            "_view_count": null,
            "_view_module": "@jupyter-widgets/base",
            "_view_module_version": "1.2.0",
            "_view_name": "LayoutView",
            "align_content": null,
            "align_items": null,
            "align_self": null,
            "border": null,
            "bottom": null,
            "display": null,
            "flex": null,
            "flex_flow": null,
            "grid_area": null,
            "grid_auto_columns": null,
            "grid_auto_flow": null,
            "grid_auto_rows": null,
            "grid_column": null,
            "grid_gap": null,
            "grid_row": null,
            "grid_template_areas": null,
            "grid_template_columns": null,
            "grid_template_rows": null,
            "height": null,
            "justify_content": null,
            "justify_items": null,
            "left": null,
            "margin": null,
            "max_height": null,
            "max_width": null,
            "min_height": null,
            "min_width": null,
            "object_fit": null,
            "object_position": null,
            "order": null,
            "overflow": null,
            "overflow_x": null,
            "overflow_y": null,
            "padding": null,
            "right": null,
            "top": null,
            "visibility": null,
            "width": null
          }
        },
        "23f593f48ded46a9a07fcb7254039f02": {
          "model_module": "@jupyter-widgets/controls",
          "model_name": "DescriptionStyleModel",
          "model_module_version": "1.5.0",
          "state": {
            "_model_module": "@jupyter-widgets/controls",
            "_model_module_version": "1.5.0",
            "_model_name": "DescriptionStyleModel",
            "_view_count": null,
            "_view_module": "@jupyter-widgets/base",
            "_view_module_version": "1.2.0",
            "_view_name": "StyleView",
            "description_width": ""
          }
        },
        "9c084392edd840d0a5c075f4f0908a93": {
          "model_module": "@jupyter-widgets/controls",
          "model_name": "HBoxModel",
          "model_module_version": "1.5.0",
          "state": {
            "_dom_classes": [],
            "_model_module": "@jupyter-widgets/controls",
            "_model_module_version": "1.5.0",
            "_model_name": "HBoxModel",
            "_view_count": null,
            "_view_module": "@jupyter-widgets/controls",
            "_view_module_version": "1.5.0",
            "_view_name": "HBoxView",
            "box_style": "",
            "children": [
              "IPY_MODEL_334a07fd57e14489853dd3e5e5700a6d",
              "IPY_MODEL_63142e6904124fbf8c9019f2c42a60d2",
              "IPY_MODEL_78e5127e61c74d4cbf0cc3563e9fb19d"
            ],
            "layout": "IPY_MODEL_8e7b28014ecf4ef1a957407722b072b7"
          }
        },
        "334a07fd57e14489853dd3e5e5700a6d": {
          "model_module": "@jupyter-widgets/controls",
          "model_name": "HTMLModel",
          "model_module_version": "1.5.0",
          "state": {
            "_dom_classes": [],
            "_model_module": "@jupyter-widgets/controls",
            "_model_module_version": "1.5.0",
            "_model_name": "HTMLModel",
            "_view_count": null,
            "_view_module": "@jupyter-widgets/controls",
            "_view_module_version": "1.5.0",
            "_view_name": "HTMLView",
            "description": "",
            "description_tooltip": null,
            "layout": "IPY_MODEL_06cb3e97a9b44cfcac7bc5545d0baa6a",
            "placeholder": "​",
            "style": "IPY_MODEL_c19699af0c1245f59e1be310ecdc296a",
            "value": "tokenizer_config.json: 100%"
          }
        },
        "63142e6904124fbf8c9019f2c42a60d2": {
          "model_module": "@jupyter-widgets/controls",
          "model_name": "FloatProgressModel",
          "model_module_version": "1.5.0",
          "state": {
            "_dom_classes": [],
            "_model_module": "@jupyter-widgets/controls",
            "_model_module_version": "1.5.0",
            "_model_name": "FloatProgressModel",
            "_view_count": null,
            "_view_module": "@jupyter-widgets/controls",
            "_view_module_version": "1.5.0",
            "_view_name": "ProgressView",
            "bar_style": "success",
            "description": "",
            "description_tooltip": null,
            "layout": "IPY_MODEL_009bb4ded3904a189c8aabe31019eb4e",
            "max": 48,
            "min": 0,
            "orientation": "horizontal",
            "style": "IPY_MODEL_ede7384dcc3342b68ffde1aba1d0d6fa",
            "value": 48
          }
        },
        "78e5127e61c74d4cbf0cc3563e9fb19d": {
          "model_module": "@jupyter-widgets/controls",
          "model_name": "HTMLModel",
          "model_module_version": "1.5.0",
          "state": {
            "_dom_classes": [],
            "_model_module": "@jupyter-widgets/controls",
            "_model_module_version": "1.5.0",
            "_model_name": "HTMLModel",
            "_view_count": null,
            "_view_module": "@jupyter-widgets/controls",
            "_view_module_version": "1.5.0",
            "_view_name": "HTMLView",
            "description": "",
            "description_tooltip": null,
            "layout": "IPY_MODEL_bf8401461317469e984b0b5b323eb615",
            "placeholder": "​",
            "style": "IPY_MODEL_ec5b402f0e2a40d890bb9d2de1c70a3e",
            "value": " 48.0/48.0 [00:00&lt;00:00, 643B/s]"
          }
        },
        "8e7b28014ecf4ef1a957407722b072b7": {
          "model_module": "@jupyter-widgets/base",
          "model_name": "LayoutModel",
          "model_module_version": "1.2.0",
          "state": {
            "_model_module": "@jupyter-widgets/base",
            "_model_module_version": "1.2.0",
            "_model_name": "LayoutModel",
            "_view_count": null,
            "_view_module": "@jupyter-widgets/base",
            "_view_module_version": "1.2.0",
            "_view_name": "LayoutView",
            "align_content": null,
            "align_items": null,
            "align_self": null,
            "border": null,
            "bottom": null,
            "display": null,
            "flex": null,
            "flex_flow": null,
            "grid_area": null,
            "grid_auto_columns": null,
            "grid_auto_flow": null,
            "grid_auto_rows": null,
            "grid_column": null,
            "grid_gap": null,
            "grid_row": null,
            "grid_template_areas": null,
            "grid_template_columns": null,
            "grid_template_rows": null,
            "height": null,
            "justify_content": null,
            "justify_items": null,
            "left": null,
            "margin": null,
            "max_height": null,
            "max_width": null,
            "min_height": null,
            "min_width": null,
            "object_fit": null,
            "object_position": null,
            "order": null,
            "overflow": null,
            "overflow_x": null,
            "overflow_y": null,
            "padding": null,
            "right": null,
            "top": null,
            "visibility": null,
            "width": null
          }
        },
        "06cb3e97a9b44cfcac7bc5545d0baa6a": {
          "model_module": "@jupyter-widgets/base",
          "model_name": "LayoutModel",
          "model_module_version": "1.2.0",
          "state": {
            "_model_module": "@jupyter-widgets/base",
            "_model_module_version": "1.2.0",
            "_model_name": "LayoutModel",
            "_view_count": null,
            "_view_module": "@jupyter-widgets/base",
            "_view_module_version": "1.2.0",
            "_view_name": "LayoutView",
            "align_content": null,
            "align_items": null,
            "align_self": null,
            "border": null,
            "bottom": null,
            "display": null,
            "flex": null,
            "flex_flow": null,
            "grid_area": null,
            "grid_auto_columns": null,
            "grid_auto_flow": null,
            "grid_auto_rows": null,
            "grid_column": null,
            "grid_gap": null,
            "grid_row": null,
            "grid_template_areas": null,
            "grid_template_columns": null,
            "grid_template_rows": null,
            "height": null,
            "justify_content": null,
            "justify_items": null,
            "left": null,
            "margin": null,
            "max_height": null,
            "max_width": null,
            "min_height": null,
            "min_width": null,
            "object_fit": null,
            "object_position": null,
            "order": null,
            "overflow": null,
            "overflow_x": null,
            "overflow_y": null,
            "padding": null,
            "right": null,
            "top": null,
            "visibility": null,
            "width": null
          }
        },
        "c19699af0c1245f59e1be310ecdc296a": {
          "model_module": "@jupyter-widgets/controls",
          "model_name": "DescriptionStyleModel",
          "model_module_version": "1.5.0",
          "state": {
            "_model_module": "@jupyter-widgets/controls",
            "_model_module_version": "1.5.0",
            "_model_name": "DescriptionStyleModel",
            "_view_count": null,
            "_view_module": "@jupyter-widgets/base",
            "_view_module_version": "1.2.0",
            "_view_name": "StyleView",
            "description_width": ""
          }
        },
        "009bb4ded3904a189c8aabe31019eb4e": {
          "model_module": "@jupyter-widgets/base",
          "model_name": "LayoutModel",
          "model_module_version": "1.2.0",
          "state": {
            "_model_module": "@jupyter-widgets/base",
            "_model_module_version": "1.2.0",
            "_model_name": "LayoutModel",
            "_view_count": null,
            "_view_module": "@jupyter-widgets/base",
            "_view_module_version": "1.2.0",
            "_view_name": "LayoutView",
            "align_content": null,
            "align_items": null,
            "align_self": null,
            "border": null,
            "bottom": null,
            "display": null,
            "flex": null,
            "flex_flow": null,
            "grid_area": null,
            "grid_auto_columns": null,
            "grid_auto_flow": null,
            "grid_auto_rows": null,
            "grid_column": null,
            "grid_gap": null,
            "grid_row": null,
            "grid_template_areas": null,
            "grid_template_columns": null,
            "grid_template_rows": null,
            "height": null,
            "justify_content": null,
            "justify_items": null,
            "left": null,
            "margin": null,
            "max_height": null,
            "max_width": null,
            "min_height": null,
            "min_width": null,
            "object_fit": null,
            "object_position": null,
            "order": null,
            "overflow": null,
            "overflow_x": null,
            "overflow_y": null,
            "padding": null,
            "right": null,
            "top": null,
            "visibility": null,
            "width": null
          }
        },
        "ede7384dcc3342b68ffde1aba1d0d6fa": {
          "model_module": "@jupyter-widgets/controls",
          "model_name": "ProgressStyleModel",
          "model_module_version": "1.5.0",
          "state": {
            "_model_module": "@jupyter-widgets/controls",
            "_model_module_version": "1.5.0",
            "_model_name": "ProgressStyleModel",
            "_view_count": null,
            "_view_module": "@jupyter-widgets/base",
            "_view_module_version": "1.2.0",
            "_view_name": "StyleView",
            "bar_color": null,
            "description_width": ""
          }
        },
        "bf8401461317469e984b0b5b323eb615": {
          "model_module": "@jupyter-widgets/base",
          "model_name": "LayoutModel",
          "model_module_version": "1.2.0",
          "state": {
            "_model_module": "@jupyter-widgets/base",
            "_model_module_version": "1.2.0",
            "_model_name": "LayoutModel",
            "_view_count": null,
            "_view_module": "@jupyter-widgets/base",
            "_view_module_version": "1.2.0",
            "_view_name": "LayoutView",
            "align_content": null,
            "align_items": null,
            "align_self": null,
            "border": null,
            "bottom": null,
            "display": null,
            "flex": null,
            "flex_flow": null,
            "grid_area": null,
            "grid_auto_columns": null,
            "grid_auto_flow": null,
            "grid_auto_rows": null,
            "grid_column": null,
            "grid_gap": null,
            "grid_row": null,
            "grid_template_areas": null,
            "grid_template_columns": null,
            "grid_template_rows": null,
            "height": null,
            "justify_content": null,
            "justify_items": null,
            "left": null,
            "margin": null,
            "max_height": null,
            "max_width": null,
            "min_height": null,
            "min_width": null,
            "object_fit": null,
            "object_position": null,
            "order": null,
            "overflow": null,
            "overflow_x": null,
            "overflow_y": null,
            "padding": null,
            "right": null,
            "top": null,
            "visibility": null,
            "width": null
          }
        },
        "ec5b402f0e2a40d890bb9d2de1c70a3e": {
          "model_module": "@jupyter-widgets/controls",
          "model_name": "DescriptionStyleModel",
          "model_module_version": "1.5.0",
          "state": {
            "_model_module": "@jupyter-widgets/controls",
            "_model_module_version": "1.5.0",
            "_model_name": "DescriptionStyleModel",
            "_view_count": null,
            "_view_module": "@jupyter-widgets/base",
            "_view_module_version": "1.2.0",
            "_view_name": "StyleView",
            "description_width": ""
          }
        },
        "d19dbf50be2249449e64b2e3ce6f10b7": {
          "model_module": "@jupyter-widgets/controls",
          "model_name": "HBoxModel",
          "model_module_version": "1.5.0",
          "state": {
            "_dom_classes": [],
            "_model_module": "@jupyter-widgets/controls",
            "_model_module_version": "1.5.0",
            "_model_name": "HBoxModel",
            "_view_count": null,
            "_view_module": "@jupyter-widgets/controls",
            "_view_module_version": "1.5.0",
            "_view_name": "HBoxView",
            "box_style": "",
            "children": [
              "IPY_MODEL_b3e0d3400dc849a9ba98b504e99a95a4",
              "IPY_MODEL_9ab8240050dd4e499f9c670c6503f4cd",
              "IPY_MODEL_b85eea355a444599b3dc272268d8a63f"
            ],
            "layout": "IPY_MODEL_ff03a02b5ef94106a20cd09232fb2d0c"
          }
        },
        "b3e0d3400dc849a9ba98b504e99a95a4": {
          "model_module": "@jupyter-widgets/controls",
          "model_name": "HTMLModel",
          "model_module_version": "1.5.0",
          "state": {
            "_dom_classes": [],
            "_model_module": "@jupyter-widgets/controls",
            "_model_module_version": "1.5.0",
            "_model_name": "HTMLModel",
            "_view_count": null,
            "_view_module": "@jupyter-widgets/controls",
            "_view_module_version": "1.5.0",
            "_view_name": "HTMLView",
            "description": "",
            "description_tooltip": null,
            "layout": "IPY_MODEL_0147b502f934471bb4fbdfbe5c5f1bb8",
            "placeholder": "​",
            "style": "IPY_MODEL_e5021f422c44454fa35f4f896ad52230",
            "value": "vocab.txt: 100%"
          }
        },
        "9ab8240050dd4e499f9c670c6503f4cd": {
          "model_module": "@jupyter-widgets/controls",
          "model_name": "FloatProgressModel",
          "model_module_version": "1.5.0",
          "state": {
            "_dom_classes": [],
            "_model_module": "@jupyter-widgets/controls",
            "_model_module_version": "1.5.0",
            "_model_name": "FloatProgressModel",
            "_view_count": null,
            "_view_module": "@jupyter-widgets/controls",
            "_view_module_version": "1.5.0",
            "_view_name": "ProgressView",
            "bar_style": "success",
            "description": "",
            "description_tooltip": null,
            "layout": "IPY_MODEL_b3eaf74d955c4390b959c1a3800291eb",
            "max": 231508,
            "min": 0,
            "orientation": "horizontal",
            "style": "IPY_MODEL_ede9e1e664794b61a06df49fc9951e1d",
            "value": 231508
          }
        },
        "b85eea355a444599b3dc272268d8a63f": {
          "model_module": "@jupyter-widgets/controls",
          "model_name": "HTMLModel",
          "model_module_version": "1.5.0",
          "state": {
            "_dom_classes": [],
            "_model_module": "@jupyter-widgets/controls",
            "_model_module_version": "1.5.0",
            "_model_name": "HTMLModel",
            "_view_count": null,
            "_view_module": "@jupyter-widgets/controls",
            "_view_module_version": "1.5.0",
            "_view_name": "HTMLView",
            "description": "",
            "description_tooltip": null,
            "layout": "IPY_MODEL_f33b488f80254f34b6ca650a5c411c41",
            "placeholder": "​",
            "style": "IPY_MODEL_21c6c10211a34cbb9bb30aaf03682b34",
            "value": " 232k/232k [00:00&lt;00:00, 659kB/s]"
          }
        },
        "ff03a02b5ef94106a20cd09232fb2d0c": {
          "model_module": "@jupyter-widgets/base",
          "model_name": "LayoutModel",
          "model_module_version": "1.2.0",
          "state": {
            "_model_module": "@jupyter-widgets/base",
            "_model_module_version": "1.2.0",
            "_model_name": "LayoutModel",
            "_view_count": null,
            "_view_module": "@jupyter-widgets/base",
            "_view_module_version": "1.2.0",
            "_view_name": "LayoutView",
            "align_content": null,
            "align_items": null,
            "align_self": null,
            "border": null,
            "bottom": null,
            "display": null,
            "flex": null,
            "flex_flow": null,
            "grid_area": null,
            "grid_auto_columns": null,
            "grid_auto_flow": null,
            "grid_auto_rows": null,
            "grid_column": null,
            "grid_gap": null,
            "grid_row": null,
            "grid_template_areas": null,
            "grid_template_columns": null,
            "grid_template_rows": null,
            "height": null,
            "justify_content": null,
            "justify_items": null,
            "left": null,
            "margin": null,
            "max_height": null,
            "max_width": null,
            "min_height": null,
            "min_width": null,
            "object_fit": null,
            "object_position": null,
            "order": null,
            "overflow": null,
            "overflow_x": null,
            "overflow_y": null,
            "padding": null,
            "right": null,
            "top": null,
            "visibility": null,
            "width": null
          }
        },
        "0147b502f934471bb4fbdfbe5c5f1bb8": {
          "model_module": "@jupyter-widgets/base",
          "model_name": "LayoutModel",
          "model_module_version": "1.2.0",
          "state": {
            "_model_module": "@jupyter-widgets/base",
            "_model_module_version": "1.2.0",
            "_model_name": "LayoutModel",
            "_view_count": null,
            "_view_module": "@jupyter-widgets/base",
            "_view_module_version": "1.2.0",
            "_view_name": "LayoutView",
            "align_content": null,
            "align_items": null,
            "align_self": null,
            "border": null,
            "bottom": null,
            "display": null,
            "flex": null,
            "flex_flow": null,
            "grid_area": null,
            "grid_auto_columns": null,
            "grid_auto_flow": null,
            "grid_auto_rows": null,
            "grid_column": null,
            "grid_gap": null,
            "grid_row": null,
            "grid_template_areas": null,
            "grid_template_columns": null,
            "grid_template_rows": null,
            "height": null,
            "justify_content": null,
            "justify_items": null,
            "left": null,
            "margin": null,
            "max_height": null,
            "max_width": null,
            "min_height": null,
            "min_width": null,
            "object_fit": null,
            "object_position": null,
            "order": null,
            "overflow": null,
            "overflow_x": null,
            "overflow_y": null,
            "padding": null,
            "right": null,
            "top": null,
            "visibility": null,
            "width": null
          }
        },
        "e5021f422c44454fa35f4f896ad52230": {
          "model_module": "@jupyter-widgets/controls",
          "model_name": "DescriptionStyleModel",
          "model_module_version": "1.5.0",
          "state": {
            "_model_module": "@jupyter-widgets/controls",
            "_model_module_version": "1.5.0",
            "_model_name": "DescriptionStyleModel",
            "_view_count": null,
            "_view_module": "@jupyter-widgets/base",
            "_view_module_version": "1.2.0",
            "_view_name": "StyleView",
            "description_width": ""
          }
        },
        "b3eaf74d955c4390b959c1a3800291eb": {
          "model_module": "@jupyter-widgets/base",
          "model_name": "LayoutModel",
          "model_module_version": "1.2.0",
          "state": {
            "_model_module": "@jupyter-widgets/base",
            "_model_module_version": "1.2.0",
            "_model_name": "LayoutModel",
            "_view_count": null,
            "_view_module": "@jupyter-widgets/base",
            "_view_module_version": "1.2.0",
            "_view_name": "LayoutView",
            "align_content": null,
            "align_items": null,
            "align_self": null,
            "border": null,
            "bottom": null,
            "display": null,
            "flex": null,
            "flex_flow": null,
            "grid_area": null,
            "grid_auto_columns": null,
            "grid_auto_flow": null,
            "grid_auto_rows": null,
            "grid_column": null,
            "grid_gap": null,
            "grid_row": null,
            "grid_template_areas": null,
            "grid_template_columns": null,
            "grid_template_rows": null,
            "height": null,
            "justify_content": null,
            "justify_items": null,
            "left": null,
            "margin": null,
            "max_height": null,
            "max_width": null,
            "min_height": null,
            "min_width": null,
            "object_fit": null,
            "object_position": null,
            "order": null,
            "overflow": null,
            "overflow_x": null,
            "overflow_y": null,
            "padding": null,
            "right": null,
            "top": null,
            "visibility": null,
            "width": null
          }
        },
        "ede9e1e664794b61a06df49fc9951e1d": {
          "model_module": "@jupyter-widgets/controls",
          "model_name": "ProgressStyleModel",
          "model_module_version": "1.5.0",
          "state": {
            "_model_module": "@jupyter-widgets/controls",
            "_model_module_version": "1.5.0",
            "_model_name": "ProgressStyleModel",
            "_view_count": null,
            "_view_module": "@jupyter-widgets/base",
            "_view_module_version": "1.2.0",
            "_view_name": "StyleView",
            "bar_color": null,
            "description_width": ""
          }
        },
        "f33b488f80254f34b6ca650a5c411c41": {
          "model_module": "@jupyter-widgets/base",
          "model_name": "LayoutModel",
          "model_module_version": "1.2.0",
          "state": {
            "_model_module": "@jupyter-widgets/base",
            "_model_module_version": "1.2.0",
            "_model_name": "LayoutModel",
            "_view_count": null,
            "_view_module": "@jupyter-widgets/base",
            "_view_module_version": "1.2.0",
            "_view_name": "LayoutView",
            "align_content": null,
            "align_items": null,
            "align_self": null,
            "border": null,
            "bottom": null,
            "display": null,
            "flex": null,
            "flex_flow": null,
            "grid_area": null,
            "grid_auto_columns": null,
            "grid_auto_flow": null,
            "grid_auto_rows": null,
            "grid_column": null,
            "grid_gap": null,
            "grid_row": null,
            "grid_template_areas": null,
            "grid_template_columns": null,
            "grid_template_rows": null,
            "height": null,
            "justify_content": null,
            "justify_items": null,
            "left": null,
            "margin": null,
            "max_height": null,
            "max_width": null,
            "min_height": null,
            "min_width": null,
            "object_fit": null,
            "object_position": null,
            "order": null,
            "overflow": null,
            "overflow_x": null,
            "overflow_y": null,
            "padding": null,
            "right": null,
            "top": null,
            "visibility": null,
            "width": null
          }
        },
        "21c6c10211a34cbb9bb30aaf03682b34": {
          "model_module": "@jupyter-widgets/controls",
          "model_name": "DescriptionStyleModel",
          "model_module_version": "1.5.0",
          "state": {
            "_model_module": "@jupyter-widgets/controls",
            "_model_module_version": "1.5.0",
            "_model_name": "DescriptionStyleModel",
            "_view_count": null,
            "_view_module": "@jupyter-widgets/base",
            "_view_module_version": "1.2.0",
            "_view_name": "StyleView",
            "description_width": ""
          }
        },
        "b24c8af370ff43beb0446e8555bf05a2": {
          "model_module": "@jupyter-widgets/controls",
          "model_name": "HBoxModel",
          "model_module_version": "1.5.0",
          "state": {
            "_dom_classes": [],
            "_model_module": "@jupyter-widgets/controls",
            "_model_module_version": "1.5.0",
            "_model_name": "HBoxModel",
            "_view_count": null,
            "_view_module": "@jupyter-widgets/controls",
            "_view_module_version": "1.5.0",
            "_view_name": "HBoxView",
            "box_style": "",
            "children": [
              "IPY_MODEL_3a4c8e361172495a8277d12bb5b6cd01",
              "IPY_MODEL_af68b310694d439389451806c25ae49f",
              "IPY_MODEL_6f647cd8af3b4558bee2e8e904dc73ad"
            ],
            "layout": "IPY_MODEL_3803e81a811046d0b9f20908f849ca08"
          }
        },
        "3a4c8e361172495a8277d12bb5b6cd01": {
          "model_module": "@jupyter-widgets/controls",
          "model_name": "HTMLModel",
          "model_module_version": "1.5.0",
          "state": {
            "_dom_classes": [],
            "_model_module": "@jupyter-widgets/controls",
            "_model_module_version": "1.5.0",
            "_model_name": "HTMLModel",
            "_view_count": null,
            "_view_module": "@jupyter-widgets/controls",
            "_view_module_version": "1.5.0",
            "_view_name": "HTMLView",
            "description": "",
            "description_tooltip": null,
            "layout": "IPY_MODEL_49710a8860c94b23aceeabe8021e4f5a",
            "placeholder": "​",
            "style": "IPY_MODEL_9558e4e6794f444e94f552ba260fd10c",
            "value": "tokenizer.json: 100%"
          }
        },
        "af68b310694d439389451806c25ae49f": {
          "model_module": "@jupyter-widgets/controls",
          "model_name": "FloatProgressModel",
          "model_module_version": "1.5.0",
          "state": {
            "_dom_classes": [],
            "_model_module": "@jupyter-widgets/controls",
            "_model_module_version": "1.5.0",
            "_model_name": "FloatProgressModel",
            "_view_count": null,
            "_view_module": "@jupyter-widgets/controls",
            "_view_module_version": "1.5.0",
            "_view_name": "ProgressView",
            "bar_style": "success",
            "description": "",
            "description_tooltip": null,
            "layout": "IPY_MODEL_5cfdaf613a2e46078e1b453b636ad71c",
            "max": 466062,
            "min": 0,
            "orientation": "horizontal",
            "style": "IPY_MODEL_ba01f1b08f31495db12ec6acc47f0184",
            "value": 466062
          }
        },
        "6f647cd8af3b4558bee2e8e904dc73ad": {
          "model_module": "@jupyter-widgets/controls",
          "model_name": "HTMLModel",
          "model_module_version": "1.5.0",
          "state": {
            "_dom_classes": [],
            "_model_module": "@jupyter-widgets/controls",
            "_model_module_version": "1.5.0",
            "_model_name": "HTMLModel",
            "_view_count": null,
            "_view_module": "@jupyter-widgets/controls",
            "_view_module_version": "1.5.0",
            "_view_name": "HTMLView",
            "description": "",
            "description_tooltip": null,
            "layout": "IPY_MODEL_479880c38c9d4f9cb532b27a7279a41d",
            "placeholder": "​",
            "style": "IPY_MODEL_ff7a0148ef004efc888cc696ec6cfba8",
            "value": " 466k/466k [00:00&lt;00:00, 2.65MB/s]"
          }
        },
        "3803e81a811046d0b9f20908f849ca08": {
          "model_module": "@jupyter-widgets/base",
          "model_name": "LayoutModel",
          "model_module_version": "1.2.0",
          "state": {
            "_model_module": "@jupyter-widgets/base",
            "_model_module_version": "1.2.0",
            "_model_name": "LayoutModel",
            "_view_count": null,
            "_view_module": "@jupyter-widgets/base",
            "_view_module_version": "1.2.0",
            "_view_name": "LayoutView",
            "align_content": null,
            "align_items": null,
            "align_self": null,
            "border": null,
            "bottom": null,
            "display": null,
            "flex": null,
            "flex_flow": null,
            "grid_area": null,
            "grid_auto_columns": null,
            "grid_auto_flow": null,
            "grid_auto_rows": null,
            "grid_column": null,
            "grid_gap": null,
            "grid_row": null,
            "grid_template_areas": null,
            "grid_template_columns": null,
            "grid_template_rows": null,
            "height": null,
            "justify_content": null,
            "justify_items": null,
            "left": null,
            "margin": null,
            "max_height": null,
            "max_width": null,
            "min_height": null,
            "min_width": null,
            "object_fit": null,
            "object_position": null,
            "order": null,
            "overflow": null,
            "overflow_x": null,
            "overflow_y": null,
            "padding": null,
            "right": null,
            "top": null,
            "visibility": null,
            "width": null
          }
        },
        "49710a8860c94b23aceeabe8021e4f5a": {
          "model_module": "@jupyter-widgets/base",
          "model_name": "LayoutModel",
          "model_module_version": "1.2.0",
          "state": {
            "_model_module": "@jupyter-widgets/base",
            "_model_module_version": "1.2.0",
            "_model_name": "LayoutModel",
            "_view_count": null,
            "_view_module": "@jupyter-widgets/base",
            "_view_module_version": "1.2.0",
            "_view_name": "LayoutView",
            "align_content": null,
            "align_items": null,
            "align_self": null,
            "border": null,
            "bottom": null,
            "display": null,
            "flex": null,
            "flex_flow": null,
            "grid_area": null,
            "grid_auto_columns": null,
            "grid_auto_flow": null,
            "grid_auto_rows": null,
            "grid_column": null,
            "grid_gap": null,
            "grid_row": null,
            "grid_template_areas": null,
            "grid_template_columns": null,
            "grid_template_rows": null,
            "height": null,
            "justify_content": null,
            "justify_items": null,
            "left": null,
            "margin": null,
            "max_height": null,
            "max_width": null,
            "min_height": null,
            "min_width": null,
            "object_fit": null,
            "object_position": null,
            "order": null,
            "overflow": null,
            "overflow_x": null,
            "overflow_y": null,
            "padding": null,
            "right": null,
            "top": null,
            "visibility": null,
            "width": null
          }
        },
        "9558e4e6794f444e94f552ba260fd10c": {
          "model_module": "@jupyter-widgets/controls",
          "model_name": "DescriptionStyleModel",
          "model_module_version": "1.5.0",
          "state": {
            "_model_module": "@jupyter-widgets/controls",
            "_model_module_version": "1.5.0",
            "_model_name": "DescriptionStyleModel",
            "_view_count": null,
            "_view_module": "@jupyter-widgets/base",
            "_view_module_version": "1.2.0",
            "_view_name": "StyleView",
            "description_width": ""
          }
        },
        "5cfdaf613a2e46078e1b453b636ad71c": {
          "model_module": "@jupyter-widgets/base",
          "model_name": "LayoutModel",
          "model_module_version": "1.2.0",
          "state": {
            "_model_module": "@jupyter-widgets/base",
            "_model_module_version": "1.2.0",
            "_model_name": "LayoutModel",
            "_view_count": null,
            "_view_module": "@jupyter-widgets/base",
            "_view_module_version": "1.2.0",
            "_view_name": "LayoutView",
            "align_content": null,
            "align_items": null,
            "align_self": null,
            "border": null,
            "bottom": null,
            "display": null,
            "flex": null,
            "flex_flow": null,
            "grid_area": null,
            "grid_auto_columns": null,
            "grid_auto_flow": null,
            "grid_auto_rows": null,
            "grid_column": null,
            "grid_gap": null,
            "grid_row": null,
            "grid_template_areas": null,
            "grid_template_columns": null,
            "grid_template_rows": null,
            "height": null,
            "justify_content": null,
            "justify_items": null,
            "left": null,
            "margin": null,
            "max_height": null,
            "max_width": null,
            "min_height": null,
            "min_width": null,
            "object_fit": null,
            "object_position": null,
            "order": null,
            "overflow": null,
            "overflow_x": null,
            "overflow_y": null,
            "padding": null,
            "right": null,
            "top": null,
            "visibility": null,
            "width": null
          }
        },
        "ba01f1b08f31495db12ec6acc47f0184": {
          "model_module": "@jupyter-widgets/controls",
          "model_name": "ProgressStyleModel",
          "model_module_version": "1.5.0",
          "state": {
            "_model_module": "@jupyter-widgets/controls",
            "_model_module_version": "1.5.0",
            "_model_name": "ProgressStyleModel",
            "_view_count": null,
            "_view_module": "@jupyter-widgets/base",
            "_view_module_version": "1.2.0",
            "_view_name": "StyleView",
            "bar_color": null,
            "description_width": ""
          }
        },
        "479880c38c9d4f9cb532b27a7279a41d": {
          "model_module": "@jupyter-widgets/base",
          "model_name": "LayoutModel",
          "model_module_version": "1.2.0",
          "state": {
            "_model_module": "@jupyter-widgets/base",
            "_model_module_version": "1.2.0",
            "_model_name": "LayoutModel",
            "_view_count": null,
            "_view_module": "@jupyter-widgets/base",
            "_view_module_version": "1.2.0",
            "_view_name": "LayoutView",
            "align_content": null,
            "align_items": null,
            "align_self": null,
            "border": null,
            "bottom": null,
            "display": null,
            "flex": null,
            "flex_flow": null,
            "grid_area": null,
            "grid_auto_columns": null,
            "grid_auto_flow": null,
            "grid_auto_rows": null,
            "grid_column": null,
            "grid_gap": null,
            "grid_row": null,
            "grid_template_areas": null,
            "grid_template_columns": null,
            "grid_template_rows": null,
            "height": null,
            "justify_content": null,
            "justify_items": null,
            "left": null,
            "margin": null,
            "max_height": null,
            "max_width": null,
            "min_height": null,
            "min_width": null,
            "object_fit": null,
            "object_position": null,
            "order": null,
            "overflow": null,
            "overflow_x": null,
            "overflow_y": null,
            "padding": null,
            "right": null,
            "top": null,
            "visibility": null,
            "width": null
          }
        },
        "ff7a0148ef004efc888cc696ec6cfba8": {
          "model_module": "@jupyter-widgets/controls",
          "model_name": "DescriptionStyleModel",
          "model_module_version": "1.5.0",
          "state": {
            "_model_module": "@jupyter-widgets/controls",
            "_model_module_version": "1.5.0",
            "_model_name": "DescriptionStyleModel",
            "_view_count": null,
            "_view_module": "@jupyter-widgets/base",
            "_view_module_version": "1.2.0",
            "_view_name": "StyleView",
            "description_width": ""
          }
        },
        "3108521f884b4629b10c8f984333efda": {
          "model_module": "@jupyter-widgets/controls",
          "model_name": "HBoxModel",
          "model_module_version": "1.5.0",
          "state": {
            "_dom_classes": [],
            "_model_module": "@jupyter-widgets/controls",
            "_model_module_version": "1.5.0",
            "_model_name": "HBoxModel",
            "_view_count": null,
            "_view_module": "@jupyter-widgets/controls",
            "_view_module_version": "1.5.0",
            "_view_name": "HBoxView",
            "box_style": "",
            "children": [
              "IPY_MODEL_0da015dcf0cf42eaa11debee731a9b66",
              "IPY_MODEL_a81f410aa14c4a00844bd7248ab98b83",
              "IPY_MODEL_e994eed63b4e47d38ddb4943a2cc560a"
            ],
            "layout": "IPY_MODEL_0f03d410a8754e06b9b037b736e047b5"
          }
        },
        "0da015dcf0cf42eaa11debee731a9b66": {
          "model_module": "@jupyter-widgets/controls",
          "model_name": "HTMLModel",
          "model_module_version": "1.5.0",
          "state": {
            "_dom_classes": [],
            "_model_module": "@jupyter-widgets/controls",
            "_model_module_version": "1.5.0",
            "_model_name": "HTMLModel",
            "_view_count": null,
            "_view_module": "@jupyter-widgets/controls",
            "_view_module_version": "1.5.0",
            "_view_name": "HTMLView",
            "description": "",
            "description_tooltip": null,
            "layout": "IPY_MODEL_e75469953b0f45bab861a8549556a70a",
            "placeholder": "​",
            "style": "IPY_MODEL_e2a286a7c13346bc8d628fd586e5813e",
            "value": "config.json: 100%"
          }
        },
        "a81f410aa14c4a00844bd7248ab98b83": {
          "model_module": "@jupyter-widgets/controls",
          "model_name": "FloatProgressModel",
          "model_module_version": "1.5.0",
          "state": {
            "_dom_classes": [],
            "_model_module": "@jupyter-widgets/controls",
            "_model_module_version": "1.5.0",
            "_model_name": "FloatProgressModel",
            "_view_count": null,
            "_view_module": "@jupyter-widgets/controls",
            "_view_module_version": "1.5.0",
            "_view_name": "ProgressView",
            "bar_style": "success",
            "description": "",
            "description_tooltip": null,
            "layout": "IPY_MODEL_0fc94ede8ec34257ab710c8b52a4db51",
            "max": 570,
            "min": 0,
            "orientation": "horizontal",
            "style": "IPY_MODEL_cd6017de401444bfb6edcfc73bedf9b5",
            "value": 570
          }
        },
        "e994eed63b4e47d38ddb4943a2cc560a": {
          "model_module": "@jupyter-widgets/controls",
          "model_name": "HTMLModel",
          "model_module_version": "1.5.0",
          "state": {
            "_dom_classes": [],
            "_model_module": "@jupyter-widgets/controls",
            "_model_module_version": "1.5.0",
            "_model_name": "HTMLModel",
            "_view_count": null,
            "_view_module": "@jupyter-widgets/controls",
            "_view_module_version": "1.5.0",
            "_view_name": "HTMLView",
            "description": "",
            "description_tooltip": null,
            "layout": "IPY_MODEL_e232557d1681491ca0baa7518f392a49",
            "placeholder": "​",
            "style": "IPY_MODEL_dff7632e1b0a4fb893f4eb94bf852952",
            "value": " 570/570 [00:00&lt;00:00, 20.8kB/s]"
          }
        },
        "0f03d410a8754e06b9b037b736e047b5": {
          "model_module": "@jupyter-widgets/base",
          "model_name": "LayoutModel",
          "model_module_version": "1.2.0",
          "state": {
            "_model_module": "@jupyter-widgets/base",
            "_model_module_version": "1.2.0",
            "_model_name": "LayoutModel",
            "_view_count": null,
            "_view_module": "@jupyter-widgets/base",
            "_view_module_version": "1.2.0",
            "_view_name": "LayoutView",
            "align_content": null,
            "align_items": null,
            "align_self": null,
            "border": null,
            "bottom": null,
            "display": null,
            "flex": null,
            "flex_flow": null,
            "grid_area": null,
            "grid_auto_columns": null,
            "grid_auto_flow": null,
            "grid_auto_rows": null,
            "grid_column": null,
            "grid_gap": null,
            "grid_row": null,
            "grid_template_areas": null,
            "grid_template_columns": null,
            "grid_template_rows": null,
            "height": null,
            "justify_content": null,
            "justify_items": null,
            "left": null,
            "margin": null,
            "max_height": null,
            "max_width": null,
            "min_height": null,
            "min_width": null,
            "object_fit": null,
            "object_position": null,
            "order": null,
            "overflow": null,
            "overflow_x": null,
            "overflow_y": null,
            "padding": null,
            "right": null,
            "top": null,
            "visibility": null,
            "width": null
          }
        },
        "e75469953b0f45bab861a8549556a70a": {
          "model_module": "@jupyter-widgets/base",
          "model_name": "LayoutModel",
          "model_module_version": "1.2.0",
          "state": {
            "_model_module": "@jupyter-widgets/base",
            "_model_module_version": "1.2.0",
            "_model_name": "LayoutModel",
            "_view_count": null,
            "_view_module": "@jupyter-widgets/base",
            "_view_module_version": "1.2.0",
            "_view_name": "LayoutView",
            "align_content": null,
            "align_items": null,
            "align_self": null,
            "border": null,
            "bottom": null,
            "display": null,
            "flex": null,
            "flex_flow": null,
            "grid_area": null,
            "grid_auto_columns": null,
            "grid_auto_flow": null,
            "grid_auto_rows": null,
            "grid_column": null,
            "grid_gap": null,
            "grid_row": null,
            "grid_template_areas": null,
            "grid_template_columns": null,
            "grid_template_rows": null,
            "height": null,
            "justify_content": null,
            "justify_items": null,
            "left": null,
            "margin": null,
            "max_height": null,
            "max_width": null,
            "min_height": null,
            "min_width": null,
            "object_fit": null,
            "object_position": null,
            "order": null,
            "overflow": null,
            "overflow_x": null,
            "overflow_y": null,
            "padding": null,
            "right": null,
            "top": null,
            "visibility": null,
            "width": null
          }
        },
        "e2a286a7c13346bc8d628fd586e5813e": {
          "model_module": "@jupyter-widgets/controls",
          "model_name": "DescriptionStyleModel",
          "model_module_version": "1.5.0",
          "state": {
            "_model_module": "@jupyter-widgets/controls",
            "_model_module_version": "1.5.0",
            "_model_name": "DescriptionStyleModel",
            "_view_count": null,
            "_view_module": "@jupyter-widgets/base",
            "_view_module_version": "1.2.0",
            "_view_name": "StyleView",
            "description_width": ""
          }
        },
        "0fc94ede8ec34257ab710c8b52a4db51": {
          "model_module": "@jupyter-widgets/base",
          "model_name": "LayoutModel",
          "model_module_version": "1.2.0",
          "state": {
            "_model_module": "@jupyter-widgets/base",
            "_model_module_version": "1.2.0",
            "_model_name": "LayoutModel",
            "_view_count": null,
            "_view_module": "@jupyter-widgets/base",
            "_view_module_version": "1.2.0",
            "_view_name": "LayoutView",
            "align_content": null,
            "align_items": null,
            "align_self": null,
            "border": null,
            "bottom": null,
            "display": null,
            "flex": null,
            "flex_flow": null,
            "grid_area": null,
            "grid_auto_columns": null,
            "grid_auto_flow": null,
            "grid_auto_rows": null,
            "grid_column": null,
            "grid_gap": null,
            "grid_row": null,
            "grid_template_areas": null,
            "grid_template_columns": null,
            "grid_template_rows": null,
            "height": null,
            "justify_content": null,
            "justify_items": null,
            "left": null,
            "margin": null,
            "max_height": null,
            "max_width": null,
            "min_height": null,
            "min_width": null,
            "object_fit": null,
            "object_position": null,
            "order": null,
            "overflow": null,
            "overflow_x": null,
            "overflow_y": null,
            "padding": null,
            "right": null,
            "top": null,
            "visibility": null,
            "width": null
          }
        },
        "cd6017de401444bfb6edcfc73bedf9b5": {
          "model_module": "@jupyter-widgets/controls",
          "model_name": "ProgressStyleModel",
          "model_module_version": "1.5.0",
          "state": {
            "_model_module": "@jupyter-widgets/controls",
            "_model_module_version": "1.5.0",
            "_model_name": "ProgressStyleModel",
            "_view_count": null,
            "_view_module": "@jupyter-widgets/base",
            "_view_module_version": "1.2.0",
            "_view_name": "StyleView",
            "bar_color": null,
            "description_width": ""
          }
        },
        "e232557d1681491ca0baa7518f392a49": {
          "model_module": "@jupyter-widgets/base",
          "model_name": "LayoutModel",
          "model_module_version": "1.2.0",
          "state": {
            "_model_module": "@jupyter-widgets/base",
            "_model_module_version": "1.2.0",
            "_model_name": "LayoutModel",
            "_view_count": null,
            "_view_module": "@jupyter-widgets/base",
            "_view_module_version": "1.2.0",
            "_view_name": "LayoutView",
            "align_content": null,
            "align_items": null,
            "align_self": null,
            "border": null,
            "bottom": null,
            "display": null,
            "flex": null,
            "flex_flow": null,
            "grid_area": null,
            "grid_auto_columns": null,
            "grid_auto_flow": null,
            "grid_auto_rows": null,
            "grid_column": null,
            "grid_gap": null,
            "grid_row": null,
            "grid_template_areas": null,
            "grid_template_columns": null,
            "grid_template_rows": null,
            "height": null,
            "justify_content": null,
            "justify_items": null,
            "left": null,
            "margin": null,
            "max_height": null,
            "max_width": null,
            "min_height": null,
            "min_width": null,
            "object_fit": null,
            "object_position": null,
            "order": null,
            "overflow": null,
            "overflow_x": null,
            "overflow_y": null,
            "padding": null,
            "right": null,
            "top": null,
            "visibility": null,
            "width": null
          }
        },
        "dff7632e1b0a4fb893f4eb94bf852952": {
          "model_module": "@jupyter-widgets/controls",
          "model_name": "DescriptionStyleModel",
          "model_module_version": "1.5.0",
          "state": {
            "_model_module": "@jupyter-widgets/controls",
            "_model_module_version": "1.5.0",
            "_model_name": "DescriptionStyleModel",
            "_view_count": null,
            "_view_module": "@jupyter-widgets/base",
            "_view_module_version": "1.2.0",
            "_view_name": "StyleView",
            "description_width": ""
          }
        }
      }
    }
  },
  "nbformat": 4,
  "nbformat_minor": 0
}